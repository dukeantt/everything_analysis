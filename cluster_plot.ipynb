{
 "cells": [
  {
   "cell_type": "code",
   "execution_count": null,
   "metadata": {},
   "outputs": [],
   "source": []
  },
  {
   "cell_type": "code",
   "execution_count": 2,
   "metadata": {
    "pycharm": {
     "name": "#%%\n"
    },
    "scrolled": false
   },
   "outputs": [
    {
     "data": {
      "application/vnd.plotly.v1+json": {
       "config": {
        "plotlyServerURL": "https://plot.ly"
       },
       "data": [
        {
         "customdata": [
          [
           "liên hệ"
          ],
          [
           "giá"
          ],
          [
           "ship cod nha"
          ],
          [
           "tiền khoản"
          ],
          [
           "ship mai"
          ],
          [
           "xong"
          ],
          [
           "tiền khoản nha"
          ],
          [
           "phòng bảo hành"
          ],
          [
           "nhân viên uống bảo mùi"
          ],
          [
           "gửi vưè bảo hành"
          ],
          [
           "đi quanh bảo đọc giao 1"
          ],
          [
           "bảo gọi"
          ],
          [
           "gọi ship"
          ],
          [
           "ship đi"
          ],
          [
           "ngắm đường ngoan hợp tác"
          ],
          [
           "https //www facebook com/1454523434857990/pós/2353017268341931/"
          ],
          [
           "hi tắt đi xong khoản hộ i"
          ],
          [
           "khoản tech"
          ],
          [
           "lắp"
          ],
          [
           "hôm mấy ship"
          ],
          [
           "ship shopee phí ship"
          ],
          [
           "tài khoản bidv"
          ],
          [
           "tối giao đi"
          ],
          [
           "đ/c khánh 0914 634 889 sảnh hộ - tháp - díovẻ complẽ 302 cầu giấy"
          ],
          [
           "khoản rồi nhé"
          ],
          [
           "khoản ntnao"
          ],
          [
           "màu xanh"
          ],
          [
           "ship hành"
          ],
          [
           "https //www facebook com/1454523434857990/pós/2357077891269202/"
          ],
          [
           "ok thanks p"
          ],
          [
           "hàng"
          ],
          [
           "ship hàng"
          ],
          [
           "tối mai gửi ship"
          ],
          [
           "ok ship"
          ],
          [
           "ship hôm"
          ],
          [
           "xe đẩy shop lỗi shop xe đẩy b-beko bảo hành giấy bảo hành hãng 2018 nhắc bảo hành"
          ],
          [
           "cảm ơn"
          ],
          [
           "chế độ bảo hành"
          ],
          [
           "tài khoản đi"
          ],
          [
           "chào shop"
          ],
          [
           "liền kề 12 ngõ 175 định công b7"
          ],
          [
           "toán"
          ],
          [
           "khoản triệu 50 hàng khoản"
          ],
          [
           "https //m facebook com/stỏ php stỏ_fbid=2357987524511572 id=1454523434857990"
          ],
          [
           "https //m facebook com/stỏ php stỏ_fbid=2351953035115021 id=1454523434857990"
          ],
          [
           "https //m facebook com/stỏ php stỏ_fbid=2353149771662014 id=1454523434857990"
          ],
          [
           "khoản 40k ship tổng 560k"
          ],
          [
           "nhắn tài khoản khoản ship"
          ],
          [
           "khoản nha"
          ],
          [
           "tài khoản nha"
          ],
          [
           "tài khoản nha khoản tiền ship nha"
          ],
          [
           "check"
          ],
          [
           "khoản ship"
          ],
          [
           "gọi hộ khoản"
          ],
          [
           "ok ship đi"
          ],
          [
           "46 dương quảng hàm"
          ],
          [
           "thông tài khoản nha"
          ],
          [
           "shop mũ bảo hành bé s"
          ],
          [
           "shop khoản"
          ],
          [
           "khoản tech check"
          ],
          [
           "chốt khoản"
          ],
          [
           "hôm bảo kệ"
          ],
          [
           "ghế khoản tài khoản hôm"
          ],
          [
           "tài khoản vietcombank"
          ],
          [
           "khoản xong"
          ],
          [
           "shop tài khoản"
          ],
          [
           "chiều ship nha"
          ],
          [
           "check xong"
          ],
          [
           "lê hoang hai yen"
          ],
          [
           "báo nviedn ben bảo hành ma"
          ],
          [
           "57 ngõ 444 đội cấn"
          ],
          [
           "khung facebook"
          ],
          [
           "màu xanh màu"
          ],
          [
           "667 nguyễn văn cừ cửa hàng ép tuyo thuỷ lực"
          ],
          [
           "chiều ship đi"
          ],
          [
           "củ chi"
          ],
          [
           "ship gọi"
          ],
          [
           "shopee"
          ],
          [
           "check giúp ship"
          ],
          [
           "tài khoản gửi tiền"
          ],
          [
           "mai 7 đi"
          ],
          [
           "bảo hành đi 40p"
          ],
          [
           "đỗ thị hằng nga"
          ],
          [
           "hàng đảm bảo chất bảo hành bao shop"
          ],
          [
           "khoản thủy gửi dùm"
          ],
          [
           "nhắn tài khoản"
          ],
          [
           "ship hàng giúp"
          ],
          [
           "hàng gửi tiền"
          ],
          [
           "bảo ship giúp hic"
          ],
          [
           "khoản ship hàng giúp"
          ],
          [
           "khoản shop"
          ],
          [
           "ok ship xong khoản"
          ],
          [
           "hành shop"
          ],
          [
           "khoản ngân hàng vietcombank xong khoản 250k ghi nội dung"
          ],
          [
           "51 phú diễn"
          ],
          [
           "hôm ship bảo shop chỗ"
          ],
          [
           "gọi grab"
          ],
          [
           "ghế lát khoản"
          ],
          [
           "okie giao khoản"
          ],
          [
           "gửi tài khoản khoản"
          ],
          [
           "bảo hành đổi"
          ],
          [
           "khoản shop vận"
          ],
          [
           "khoản giao hàng hả"
          ],
          [
           "shop tài khoản khoản xong hôm shop ship mai"
          ],
          [
           "giao gọi khoản thông"
          ],
          [
           "bảo ship hôm ruid"
          ],
          [
           "ship giúp"
          ],
          [
           "mai ship"
          ],
          [
           "shopee bảo liên hệ"
          ],
          [
           "mai khoản xong nhắn shop shop gửi"
          ],
          [
           "shop tài khoản khoản"
          ],
          [
           "khoản nha shop"
          ],
          [
           "khoản thìa"
          ],
          [
           "ok shop shop tài khoản đi"
          ],
          [
           "ok khoản 1 kia nhắn"
          ],
          [
           "check tài khoản đi"
          ],
          [
           "check tài khoản"
          ],
          [
           "khoản xong báo"
          ],
          [
           "facebook"
          ],
          [
           "ship tối giúp"
          ],
          [
           "hôm ship"
          ],
          [
           "khoản phí ship rẻ"
          ],
          [
           "hàng toán ship shopee"
          ],
          [
           "khoản giúp"
          ],
          [
           "giao hành giúp"
          ],
          [
           "máy bảo hành bao hả"
          ],
          [
           "khoản gửi hàng"
          ],
          [
           "440 vĩnh hưng"
          ],
          [
           "tiki hả khoản"
          ],
          [
           "chiều giao"
          ],
          [
           "ok khoản"
          ],
          [
           "độ khoản"
          ],
          [
           "ship đi nha"
          ],
          [
           "shopee ship"
          ],
          [
           "khoản báo"
          ],
          [
           "khoản shop ship xe"
          ],
          [
           "76 chương dương linh chiểu thủ đức"
          ],
          [
           "khoản 650k"
          ],
          [
           "khoản 700k nha"
          ],
          [
           "17 đường 25a p tân quy q7 0932027966"
          ],
          [
           "hôm ship hả"
          ],
          [
           "ship tủ giúp"
          ],
          [
           "chiều khoản"
          ],
          [
           "đội nhân"
          ],
          [
           "hàng hãng bảo hành"
          ],
          [
           "xe bảo hành bao"
          ],
          [
           "ship nha"
          ],
          [
           "tài khoản khoản nhed"
          ],
          [
           "xe bảo hành"
          ],
          [
           "866 chợ 1 mong thọ châu thành kiên giang 0944788844"
          ],
          [
           "https //www facebook com/shopgauvabingo/photópcb 2353122761664715/2353122421664749/ type=3 theatẻ"
          ],
          [
           "ship hành giúp"
          ],
          [
           "giao hàng nhật tiền shop"
          ],
          [
           "bảo hãng liên lạc"
          ],
          [
           "gọi phong đấy"
          ],
          [
           "khoản 50-60"
          ],
          [
           "nguyễn khanh 0903588251"
          ],
          [
           "ok tài khoản"
          ],
          [
           "hôm ship mai"
          ],
          [
           "shop mfinh tài khoản khoản toán"
          ],
          [
           "https //m facebook com/stỏ php stỏ_fbid=2353097265000598 id=1454523434857990"
          ],
          [
           "khoản tiền hàng"
          ],
          [
           "gọi thử"
          ],
          [
           "tài khoản ctien"
          ],
          [
           "hàng giúp"
          ],
          [
           "nhắn tài khoản tiền"
          ],
          [
           "shop ship giao hàng giúp"
          ],
          [
           "ship tối"
          ],
          [
           "chiều tối ship"
          ],
          [
           "tối ship"
          ],
          [
           "gọi viettel"
          ],
          [
           "hoá đơn khoản"
          ],
          [
           "âu"
          ],
          [
           "qlda điện lực dầu khí thái bình 2"
          ],
          [
           "1 giao 9- ngõ 3- xóm kho- cổ điển a- tứ hiệp-thanh trì hà nội giúp 0989530246"
          ],
          [
           "nhắn đấy"
          ],
          [
           "tem bảo hành hướng lắp đặt"
          ],
          [
           "bảo hành đặt hàng"
          ],
          [
           "nhắn"
          ],
          [
           "ship chiều tối"
          ],
          [
           "tài khoản khoản tiền"
          ],
          [
           "shop check giùm khoản"
          ],
          [
           "shop hàng khoản nốt"
          ],
          [
           "shop chốt đơn hàng khoản 600k"
          ],
          [
           "check ship"
          ],
          [
           "tổng tài khoản"
          ],
          [
           "https //www facebook com/1454523434857990/pós/2351953035115021/"
          ],
          [
           "sẵn ship giúp"
          ],
          [
           "tôn đức thắng"
          ],
          [
           "đi giao"
          ],
          [
           "mai đi"
          ],
          [
           "gửi phí ship"
          ],
          [
           "ship chiều tối giúp"
          ],
          [
           "ship 5h chiều giúp"
          ],
          [
           "khoản hả"
          ],
          [
           "cư petroland duong nguyen trinh phuong binh trung long q2"
          ],
          [
           "9 phân"
          ],
          [
           "https //www facebook com/1454523434857990/pós/2356113481365643/ d=n"
          ],
          [
           "bảo huỷ đơn"
          ],
          [
           "ship cod ship shopee"
          ],
          [
           "lát khoản xong nhắn"
          ],
          [
           "1 lát lỗi tài khoản"
          ],
          [
           "check grab giúp khoản"
          ],
          [
           "chậu khoản phí phí ship đi"
          ],
          [
           "khoản 100%"
          ],
          [
           "shop tài khoản đi"
          ],
          [
           "uh bảo hành"
          ],
          [
           "okie bảo hành"
          ],
          [
           "34d ngách 34/218 ngõ 218 lạc long quân 070 638 6666"
          ],
          [
           "ship cod khoản hả"
          ],
          [
           "vợ đặt 7a4 ngõ 378/39 thuỵ khuê đấy"
          ],
          [
           "nhắn tài khoản khoản"
          ],
          [
           "mai hành đi"
          ],
          [
           "gửi tài khoản"
          ],
          [
           "hành mai 5h chiều"
          ],
          [
           "hành 5h chiều"
          ],
          [
           "giao hàng 117 trần hưng mai"
          ],
          [
           "liên hệ nha"
          ],
          [
           "nôi ship hôm"
          ],
          [
           "ok nhắn tài khoản tiền mua nôi"
          ],
          [
           "2 bảo hành shop"
          ],
          [
           "uki tài khoản"
          ],
          [
           "bô hàng trực tiếp khoản 50%"
          ],
          [
           "mai đấy"
          ],
          [
           "khoản đấy"
          ],
          [
           "gọi tài khoản khoản"
          ],
          [
           "đơn giúp khoản"
          ],
          [
           "tài khoản shop"
          ],
          [
           "khoản tiền ship"
          ],
          [
           "toán trực tiếp hả chờ tài khoản tưởng ship"
          ],
          [
           "tài khoản vietcombank nha"
          ],
          [
           "ok chốt đơn ship"
          ],
          [
           "check tài khoản nha"
          ],
          [
           "https //www facebook com/shopgauvabingo/pós/2354229071554084 __xts__%5b0%5d=68 ẩtzszbsgfm-_fvwkcl04ạohvzmxpzzhfmxy5wsspaọp5clah0a7hly-kybi5msn67rgduqbu16m-itfú17vdgunqjuik0stcd9bk2sbmebẻ-ãt1jqj2ska-x8tyglfg16tysbi78g8t6qs6vayyrtyụai_ydwi-9l4amdwo54rszqfxjhme2r9ugubz6rx-xn7w4nwn4eqqgklw97kyw7krqd969vvme0u_cthv9b8g6uabg-núud3vd1xlunịrfbb8epfyprqiwnq05vyù7_rmi84wmynl2jns4kiqdbkb_o1v7f-ev6rgitdw75qs2rudi8nn __tn__=-r"
          ],
          [
           "khoản đấy check"
          ],
          [
           "mai đổi"
          ],
          [
           "đỡ ship shop bảo"
          ],
          [
           "p hãng cồng kềnh"
          ],
          [
           "lai châu"
          ],
          [
           "ship dùm nha"
          ],
          [
           "đấy bảo mua shop"
          ],
          [
           "hàng đảm bảo chất y hình shop"
          ],
          [
           "ship chậm khoản"
          ],
          [
           "chỉ ship hãng"
          ],
          [
           "mjh tài khoản"
          ],
          [
           "báo tài khoản"
          ],
          [
           "hôm ship đấy"
          ],
          [
           "giao chiều"
          ],
          [
           "hình thức bảo hành nhj"
          ],
          [
           "https //m facebook com/stỏ php stỏ_fbid=2351904738453184 id=1454523434857990"
          ],
          [
           "mấy ship hộ"
          ],
          [
           "hàng hàng"
          ],
          [
           "https //www facebook com/1454523434857990/pós/2353149771662014 vh=e d=n sfns=mo"
          ],
          [
           "gọi tài khoản"
          ],
          [
           "https //www facebook com/shopgauvabingo/photóa 1454528958190771/2349612098682448/ type=3 theatẻ"
          ],
          [
           "https //www facebook com/watch/ v=2527086560895192"
          ],
          [
           "lướt bảo hành đọc"
          ],
          [
           "thể ship hôm"
          ],
          [
           "mai ship chiều"
          ],
          [
           "to cư đồng phát kđt vĩnh hoàng 429 tam trinh đi 500m 0984487598"
          ],
          [
           "khoản 1 355k shop kiểm tra tài khoản giúp"
          ],
          [
           "sạn quan hoa"
          ],
          [
           "thông tài khoản"
          ],
          [
           "mai shop giao hành"
          ],
          [
           "khoản shop p"
          ],
          [
           "bien hoa a"
          ],
          [
           "gọi kia khoản"
          ],
          [
           "ship 178 đình thôn mỹ đình"
          ],
          [
           "bảo hành shop"
          ],
          [
           "ok gửi tài khoản đi khoản"
          ],
          [
           "tưởng vinh"
          ],
          [
           "ok tối khoản báo"
          ],
          [
           "báo khoản shop đặt ship"
          ],
          [
           "bảo hàng"
          ],
          [
           "shop gửi tài khoản ct"
          ],
          [
           "cư udic complẽ hoàng đạo thuý-toàb-n04"
          ],
          [
           "uh đồng 1m4*2m"
          ],
          [
           "giúp phí ship"
          ],
          [
           "khoản nốt nha"
          ],
          [
           "https //www facebook com/1454523434857990/pós/2386406928336298/ vh=e d=n"
          ],
          [
           "cư goldmả city 136 htm"
          ],
          [
           "hôm bảo gửi hôm t5"
          ],
          [
           "bảo gửi"
          ],
          [
           "tầm giao hộ"
          ],
          [
           "ship hôm ship"
          ],
          [
           "khoản xong nha"
          ],
          [
           "ship shopee"
          ],
          [
           "ok mai giao hành cục thuế 187 giảng võ điện thoại 0946943979"
          ],
          [
           "tí khoản nhắn"
          ],
          [
           "gọi ship grab giúp"
          ],
          [
           "khoản chỉ toán ship"
          ],
          [
           "kia ship hộ"
          ],
          [
           "shop kêu khoản nhắn chống thấm"
          ],
          [
           "đặt shopee phí ship"
          ],
          [
           "bảo hành 5h"
          ],
          [
           "gọi ship giúp"
          ],
          [
           "toán khoản nhân hàng toán"
          ],
          [
           "tài khoản khoản s nhe"
          ],
          [
           "https //www facebook com/shopgauvabingo/photóa 1454528958190771/2388824881427836/ type=3 theatẻ"
          ],
          [
           "https //www facebook com/shopgauvabingo/photóa 1454528958190771/2388824928094498/ type=3 theatẻ"
          ],
          [
           "a khoản"
          ],
          [
           "toán khoản"
          ],
          [
           "bảo hành ship"
          ],
          [
           "hôm ship hàng"
          ],
          [
           "hôm ship đồ"
          ],
          [
           "mua hộ bảo lát chạy shop shop ship"
          ],
          [
           "khoản xong nhắn báo shop"
          ],
          [
           "chút khoản"
          ],
          [
           "https //www facebook com/1454523434857990/pós/2380826695560988/ d=n"
          ],
          [
           "hôm gọi ship"
          ],
          [
           "check hộ ship hàng hôm ship hôm ship gọi điện hẹn chiều ship"
          ],
          [
           "hôm đặt đồ hôm hàng bảo hành"
          ],
          [
           "tài khoản bao nhiêu nha"
          ],
          [
           "giao hàng chiều 7"
          ],
          [
           "hàng clieu đảm bảo"
          ],
          [
           "tây tòa hancỏ plaza 72 trần đăng ninh dịch vọng"
          ],
          [
           "bảo hành bt"
          ],
          [
           "178/4g phan đăng lưu p4 phú nhuận"
          ],
          [
           "vay ship nha"
          ],
          [
           "shop sách bảo hành"
          ],
          [
           "giao đi"
          ],
          [
           "hôm giao hàng gọi đi"
          ],
          [
           "b5 ngõ 195 đội cấn"
          ],
          [
           "chiều mai ship"
          ],
          [
           "tài khoản vietinbank"
          ],
          [
           "bảo hành đem kho ahh ad"
          ],
          [
           "sách bảo hành"
          ],
          [
           "gọi nayd hộ"
          ],
          [
           "đặt 1 ship bảo hành sdc"
          ],
          [
           "shop cố gắng ship giúp chiều mai"
          ],
          [
           "mai mấy ship"
          ],
          [
           "bảo hành ship hàng"
          ],
          [
           "set holla bảo hành"
          ],
          [
           "check tài khoản giúp"
          ],
          [
           "611 lĩnh nam"
          ],
          [
           "thể ship hôm giúp"
          ],
          [
           "https //www facebook com/1454523434857990/pós/2382957532014571/ d=n"
          ],
          [
           "bảo hành hàng"
          ],
          [
           "uh hôm chiều mai mai mai chiều"
          ],
          [
           "đà nẵng bảo hành"
          ],
          [
           "bình thuờng lay 1b 280k goi"
          ],
          [
           "ch khoản"
          ],
          [
           "khoản tiền kiểm tra máy liên hệ shop"
          ],
          [
           "check xác khoản"
          ],
          [
           "okie giao báo khoản"
          ],
          [
           "569/120 tổ 7 ấp kim giao thị trấn ngãi giao huyên châu đức tinh br-vt 0988317078"
          ],
          [
           "khoản 1098k"
          ],
          [
           "máy bảo hành shop đẩy coa hàng nevi"
          ],
          [
           "ship cod ngân hàng ngại đi khoản lắm"
          ],
          [
           "tầm chiều đi đấy gọi điện ship a"
          ],
          [
           "11t cư xá phú lâm d f10 q6"
          ],
          [
           "công ty hành"
          ],
          [
           "phiền khoản"
          ],
          [
           "khoản đợi 10"
          ],
          [
           "chai chiều khoản quan khoản âu shop"
          ],
          [
           "bảoh hành"
          ],
          [
           "shop bảo hành đàn"
          ],
          [
           "nôi facebook lan bùi khoản điện thoại 0963828025 tiền 700k"
          ],
          [
           "hôm bảo ship 2"
          ],
          [
           "tài khoản 50%"
          ],
          [
           "hậu giang"
          ],
          [
           "tài khoản gửi 500k"
          ],
          [
           "bảo gửi mai"
          ],
          [
           "check tài khoản vietcombank"
          ],
          [
           "m’ khoản 554k grab ship 60k đấy"
          ],
          [
           "khoản 50% coi hàng toán"
          ],
          [
           "khoản đi"
          ],
          [
           "ok ship đi khoản"
          ],
          [
           "ship 21 lê văn lươg sảh a chug cư the golden palm"
          ],
          [
           "hàng ship"
          ],
          [
           "shop tài khoản tiền"
          ],
          [
           "khoản 400k roi ma"
          ],
          [
           "ok khoản đi"
          ],
          [
           "nãy bảo ship"
          ],
          [
           "bảo hành hàng shop"
          ],
          [
           "khoản 245k"
          ],
          [
           "bao nhiêu tài khoản khoản ship lẫn tiền hàng nha"
          ],
          [
           "sản 2b ngách 24 ngõ 420 khương đình"
          ],
          [
           "mai giao đi"
          ],
          [
           "bảo 2c báo giá 1c nhắn laik"
          ],
          [
           "bảo 2 mặc ship"
          ],
          [
           "500k"
          ],
          [
           "gửi tài khoản vietinbank"
          ],
          [
           "giao giúp đi"
          ],
          [
           "đặt khoản shop ship bưu điện"
          ],
          [
           "ghế bảo hành"
          ],
          [
           "ship giúp chiều 4h chiều"
          ],
          [
           "gọi bảo gửi đồ thái nguyên"
          ],
          [
           "tài khoản khoản nha"
          ],
          [
           "khoản công"
          ],
          [
           "ok giao hành giúp"
          ],
          [
           "khoản ship cod"
          ],
          [
           "nhắn tài khoản gửi tiền"
          ],
          [
           "khoản tận"
          ],
          [
           "nhắn giúp a tài khoản"
          ],
          [
           "1 ship ấp thới thuận thị trấn thới lai huyện thới lai tpct 0981234399"
          ],
          [
           "nhắn tài khoản khoản xe đẩy"
          ],
          [
           "giao giúp chiều"
          ],
          [
           "xe dặm mastela 1015 mua coa bảo hành"
          ],
          [
           "hic mai ship hôm giúp"
          ],
          [
           "khoản bảo hành"
          ],
          [
           "uh tôn đức thắng"
          ],
          [
           "tầm bảo hành ship"
          ],
          [
           "shop cố gắng chiều ship giúp"
          ],
          [
           "chiều ship giúp"
          ],
          [
           "chiều giao giúp"
          ],
          [
           "10 ngõ 66 nguyễn phúc lai ô chợ dừa tel 0327279999"
          ],
          [
           "https //www facebook com/shopgauvabingo/photópcb 2396417667335224/2396416920668632/ type=3 theatẻ"
          ],
          [
           "https //www facebook com/shopgauvabingo/photópcb 2398041833839474/2398036697173321/ type=3 theatẻ"
          ],
          [
           "https //www facebook com/shopgauvabingo/photópcb 1793019401008390/1793015827675414/ type=3 theatẻ"
          ],
          [
           "hàng bảo hành ad"
          ],
          [
           "gửi bảo hành gui đấy bất tiện huhu"
          ],
          [
           "tưởng day hạ"
          ],
          [
           "bảo hành gởi shop địa chỉ"
          ],
          [
           "gian bảo hành ghi gian"
          ],
          [
           "chiếu bảo hành tình shop kg điện bảo hành chế độ"
          ],
          [
           "nâng hạ"
          ],
          [
           "bảo hành bao"
          ],
          [
           "mai mấy"
          ],
          [
           "sách bảo hành máy"
          ],
          [
           "ad đeo lưng bảo vệ đầu"
          ],
          [
           "ship giá bát thìa gọi a cường điện thoại 0988999612 khoản giáp bát 1h"
          ],
          [
           "ship 2h chiều giúp nha"
          ],
          [
           "khoản tiền hàng+ tiền ship"
          ],
          [
           "ship chỉ hàng"
          ],
          [
           "khoản toàn"
          ],
          [
           "ship hàng a"
          ],
          [
           "ship giúp nha"
          ],
          [
           "thể khoản phí ship"
          ],
          [
           "hàng bảo hành"
          ],
          [
           "359 đỗ xuân hợp f phước long q9 0932143949 thu"
          ],
          [
           "check giúp phí cụ thể nha"
          ],
          [
           "hôm gọi ca"
          ],
          [
           "đảm bảo hành hãng"
          ],
          [
           "check khoản 1890k tạ thu hương"
          ],
          [
           "chồng khoản chụp ảnh"
          ],
          [
           "chồng khoản xong check giúp"
          ],
          [
           "shop check giúp khoản"
          ],
          [
           "liên lạc"
          ],
          [
           "khoản xong giao hôm"
          ],
          [
           "khoản tiền"
          ],
          [
           "đảm bảo"
          ],
          [
           "ship 10h-11h hoa lan 5-01 vinhomé rivẻide long biên 0916896566"
          ],
          [
           "ok báo tổng đơn khoản"
          ],
          [
           "hôm khoản"
          ],
          [
           "thể gọi ship"
          ],
          [
           "chi 280"
          ],
          [
           "mua tài khoản day ban"
          ],
          [
           "an kiểu chet luon"
          ],
          [
           "mai ship shop"
          ],
          [
           "18 a trần hưng đạo 0915222228"
          ],
          [
           "khoản xe"
          ],
          [
           "mai ship giúp"
          ],
          [
           "địa chỉ 471/17 nơ trang long p13 bình thạnh trâm 0935287333"
          ],
          [
           "nhắn tài khoản vietcombank"
          ],
          [
           "mỹ đình bann"
          ],
          [
           "khoản 295k"
          ],
          [
           "khoản hàng đi giúp"
          ],
          [
           "khoản oy"
          ],
          [
           "liên hệ ship báo"
          ],
          [
           "ship hành 8-11h chiều 1h30 5h giúp"
          ],
          [
           "khoản 50%"
          ],
          [
           "ship giúp 6h hàng"
          ],
          [
           "193 đường 1 p 11 gò vấp"
          ],
          [
           "khoản luộ"
          ],
          [
           "khoản hôm"
          ],
          [
           "mai khoản"
          ],
          [
           "shop mua đấy cắm nôi hoạt động nôi bảo hành"
          ],
          [
           "shop ạh"
          ],
          [
           "tưởng bảo hành shop"
          ],
          [
           "mai ship đấy"
          ],
          [
           "hành hôm ship nha"
          ],
          [
           "đặt 1 nha tài khoản"
          ],
          [
           "gửi viettel tài khoản"
          ],
          [
           "ship giúp gọi giao"
          ],
          [
           "phú xã eadrong huyện cưmgả đaklak 0975068066"
          ],
          [
           "tài khoản khoản shop"
          ],
          [
           "bảo bảo giao"
          ],
          [
           "khoản hộ nhắn 7 tuần bảo hành rep bảo hàng"
          ],
          [
           "check dùm ship hàng hôm hộ"
          ],
          [
           "bây ship gọi bảo đóng hàng"
          ],
          [
           "ship bảo 11h"
          ],
          [
           "khoản 50% né"
          ],
          [
           "tài khoản ngân hàng vietcombank"
          ],
          [
           "vietcombank 0011004295858 dương ngọc mai ————— techcombank 19026708018015 dương ngọc mai"
          ],
          [
           "hải cẩu"
          ],
          [
           "phiếu bảo hành hả"
          ],
          [
           "đi hành"
          ],
          [
           "thu ship gửi giúp"
          ],
          [
           "https //www facebook com/1454523434857990/pós/2388638118113179/ d=n"
          ],
          [
           "hãng bảo hành shop"
          ],
          [
           "mai kia"
          ],
          [
           "tài khoản tiền"
          ],
          [
           "shop khoản 50%đc"
          ],
          [
           "máy bảo hành bao"
          ],
          [
           "tiện khoản"
          ],
          [
           "ok nhắn hoàng hà tbao đồ cám ơn shop"
          ],
          [
           "12510000800087 nguyen nhuy linh bidv chi nhánh đồng đô"
          ],
          [
           "ok shop shop ckhoan tài khoản"
          ],
          [
           "máy bảo hành"
          ],
          [
           "0942395488 nha khoa lầu 2 888 đl bình dương thuận giao thuận an bd"
          ],
          [
           "shop check đi xong gọi grab"
          ],
          [
           "shop khoản nhea"
          ],
          [
           "oki tài khoản"
          ],
          [
           "ship 5h giúp"
          ],
          [
           "tiền nhắn nha"
          ],
          [
           "khoản nhè"
          ],
          [
           "check ship giúp"
          ],
          [
           "nhắn tài khoản ngân hàng"
          ],
          [
           "okie chút khoản nha"
          ],
          [
           "bảo hành máy chạy caid mút bịt ntnay hả"
          ],
          [
           "ship giúp hành"
          ],
          [
           "https //m facebook com/stỏ php stỏ_fbid=2369736120003379 id=1454523434857990"
          ],
          [
           "hành sn 3 ngách 18 ngõ 28 thiết giáp cổ nhuế"
          ],
          [
           "shop hẹn ship hôm ship"
          ],
          [
           "khoản giùm phí ship hôm"
          ],
          [
           "https //www facebook com/shopgauvabingo/pós/2383003148676676 __tn__=-r"
          ],
          [
           "ui định khoản hôm"
          ],
          [
           "tài khoản mua volăng điện tử"
          ],
          [
           "nhắn tài khoản khoản 50"
          ],
          [
           "p khoản"
          ],
          [
           "khoản ui nha"
          ],
          [
           "ok ship dùm"
          ],
          [
           "https //www facebook com/shopgauvabingo/photópcb 2387834484860209/2387834461526878/ type=3 theatẻ"
          ],
          [
           "ship 1 ạ23 ngõ 109 truong chinh"
          ],
          [
           "shop bảo tiền"
          ],
          [
           "nhắn tài khoản nhed"
          ],
          [
           "khoản 50% nha"
          ],
          [
           "208 nguyễn trãi p phạm ngũ lão q1 0901666349-tâm"
          ],
          [
           "tài khoản nhez"
          ],
          [
           "khoản ruid"
          ],
          [
           "mai khoản shop chốt đơn giúp"
          ],
          [
           "nhắn tài khoản giúp"
          ],
          [
           "máy bảo hành shop inbox giúp"
          ],
          [
           "gửi khoản"
          ],
          [
           "xl phiền khoản"
          ],
          [
           "khoản giúp nha"
          ],
          [
           "khoản liền thừa"
          ],
          [
           "khoản ha"
          ],
          [
           "hôm shop bảo 50k hic"
          ],
          [
           "khoản 1tr490 đungs"
          ],
          [
           "ship 1tr5 khoản hì"
          ],
          [
           "khoản tài khoản mua hàng vô mây trang wed bánh hàng"
          ],
          [
           "khoản 500"
          ],
          [
           "chỉ tiền mặt ship cod giúp"
          ],
          [
           "mãi giao hàng ship"
          ],
          [
           "mai ship khoản"
          ],
          [
           "đổi chỗ cổng lối đường dịch vọng"
          ],
          [
           "khoản tiền toán cod"
          ],
          [
           "s kiểm tra đi khoản tiền túi nhiệt roi hàng chỉ tiền ship"
          ],
          [
           "thông ship nha"
          ],
          [
           "ấp hiêp lợi xã mỹ hiêp sơn hòn đất kien giang"
          ],
          [
           "tài khoản khoản bàn ghế bé"
          ],
          [
           "hiện tài khoản tiền"
          ],
          [
           "khoản 330"
          ],
          [
           "ôi khoản mata"
          ],
          [
           "bảo hành tình khoản"
          ],
          [
           "tối ship hàng"
          ],
          [
           "kiểm tra tài khoản ha đạ chụp"
          ],
          [
           "tài khoản agribank nha"
          ],
          [
           "xíu khoản shop"
          ],
          [
           "sản 62 ngõ thống cự khối long biên"
          ],
          [
           "ship ship hộ"
          ],
          [
           "mai giao thông tiền mặt khoản"
          ],
          [
           "34 hồng lĩnh p đập đá tx an nhơn bình định 0904680230"
          ],
          [
           "chiều mai"
          ],
          [
           "tài khoản gửi 600k nha"
          ],
          [
           "nhắn hơi"
          ],
          [
           "lắp hình"
          ],
          [
           "tháo lắp hỏng hóc sứt mẻ bảo hành"
          ],
          [
           "cộng bảo hành 12 hả"
          ],
          [
           "hôm ship nha"
          ],
          [
           "ok nhắn"
          ],
          [
           "bảo hành 5"
          ],
          [
           "uh mai"
          ],
          [
           "kho ship gọi giúp"
          ],
          [
           "2581/19/7a huynh phát phú xuân bè"
          ],
          [
           "gửi ship"
          ],
          [
           "gửi tài khoản đi"
          ],
          [
           "đọc facebook t2 dòng tích"
          ],
          [
           "bảo hành công ty nhập khẩu vạn an"
          ],
          [
           "mua khoản"
          ],
          [
           "thông tài khoản tiền"
          ],
          [
           "khoản ship í"
          ],
          [
           "khoản xong a báo"
          ],
          [
           "bao máy hâm bảo hành bao"
          ],
          [
           "đỡ phí khoản"
          ],
          [
           "gửi giúp tài khoản"
          ],
          [
           "cảm ơn shop shopee viettel post vận hà nội tầm điệp 90k"
          ],
          [
           "bảo ghế"
          ],
          [
           "sản d cc impẻa 423 minh khai"
          ],
          [
           "ship bảo hành giúp"
          ],
          [
           "ok mai ship"
          ],
          [
           "ok chiều ship giúp"
          ],
          [
           "đơn hàng ship nha"
          ],
          [
           "60 đông hưng- tân hiệp- kiên giang 0909645479"
          ],
          [
           "giao tiền"
          ],
          [
           "mãi gọi"
          ],
          [
           "bô đi khoản"
          ],
          [
           "tài khoản toán"
          ],
          [
           "tài khoản đi khoản"
          ],
          [
           "khoản nbé"
          ],
          [
           "khoản hộ"
          ],
          [
           "khoản 200k"
          ],
          [
           "tài khoản 200k"
          ],
          [
           "tiền tài khoản khoản"
          ],
          [
           "https //www facebook com/1454523434857990/pós/2383003148676676/"
          ],
          [
           "https //www facebook com/shopgauvabingo/videó3167915863236311/"
          ],
          [
           "tối ship giúp"
          ],
          [
           "đặt facebook lê huyền"
          ],
          [
           "bảo quản"
          ],
          [
           "210 trần đại nghĩa kéo"
          ],
          [
           "khoản thanks shop"
          ],
          [
           "chốt bill xong khoản"
          ],
          [
           "37/2 hoàng hoa thám phước hội lagi bình thuờng 0937552524"
          ],
          [
           "chắn giúp"
          ],
          [
           "gửi bảo vệ phòng 306"
          ],
          [
           "ship gấp giúp"
          ],
          [
           "park 8 times city"
          ],
          [
           "mai tiền ship giúp"
          ],
          [
           "shop tài khoản vietcombank"
          ],
          [
           "ship giúp 11 hàng mắm hành nhed"
          ],
          [
           "khoản tiền ship rẻ"
          ],
          [
           "sản a-bệnh viện phụ sản hà nội-đê la thành-ba đình 0934556698"
          ],
          [
           "khoản xong shop"
          ],
          [
           "tài khoản khoản momo"
          ],
          [
           "https //www facebook com/1454523434857990/pós/2383055565338101/ vh=e d=n"
          ],
          [
           "tưởng hàng gửi tiền"
          ],
          [
           "khoản bây ship giúp"
          ],
          [
           "hàng khoản"
          ],
          [
           "mai khoản ship giúp"
          ],
          [
           "bảo hành ship đi báo"
          ],
          [
           "ship gọi grab giúp"
          ],
          [
           "ship chiều gọi grab giúp"
          ],
          [
           "ibanking khoản hơi bất tiện"
          ],
          [
           "hành hả"
          ],
          [
           "hi cá back tien mặt tài khoản a"
          ],
          [
           "bảo hành shop đăng"
          ],
          [
           "ship máy ủ ấm nevi bảo"
          ],
          [
           "gọi toàn bận a"
          ],
          [
           "tài khoản khoản 300k nốt đx"
          ],
          [
           "món ship cod khoản shop"
          ],
          [
           "khoản lát chồng"
          ],
          [
           "doux shop"
          ],
          [
           "hàng bảo hành shop"
          ],
          [
           "chiều ship 4h chiều giúp"
          ],
          [
           "mai ship giao chiều sợ đi"
          ],
          [
           "ship cod khoản"
          ],
          [
           "lát đầu khoản"
          ],
          [
           "bảo hành máy"
          ],
          [
           "máy made in vietnam ha bảo hành bao"
          ],
          [
           "vô khoản"
          ],
          [
           "ok check giúp phí ship"
          ],
          [
           "xong tài khoản vietcombank"
          ],
          [
           "máy trung quốc bảo hành giá bt"
          ],
          [
           "đấy mai"
          ],
          [
           "bảo ship gọi"
          ],
          [
           "ntin tài khoản vietcombank"
          ],
          [
           "ntin tài khoản khoản xe giúp"
          ],
          [
           "babe giao hành"
          ],
          [
           "ship hành 8h tối"
          ],
          [
           "máy beaba bảo hành"
          ],
          [
           "khoản hình thức ship rẻ"
          ],
          [
           "liên hệ bảo hành shop"
          ],
          [
           "khoản 430k"
          ],
          [
           "gửi hàng hôm gửi hành"
          ],
          [
           "mai gửi khoản toán trực tiếp"
          ],
          [
           "tiền khoản báo"
          ],
          [
           "ok khoản giao gia tiền đâi"
          ],
          [
           "tiền giao"
          ],
          [
           "ship grab ship gửi"
          ],
          [
           "bảo đẹp"
          ],
          [
           "ok p607g5 nguyễn cảnh dị đại kim"
          ],
          [
           "nga sơn hóa"
          ],
          [
           "khoản 50% giá trị đơn hàng"
          ],
          [
           "định đặt shopee nhg nh bảo khay méo"
          ],
          [
           "shop z"
          ],
          [
           "https //www facebook com/shopgauvabingo/photópcb 2380826695560988/2380824908894500/ type=3 theatẻ"
          ],
          [
           "https //www facebook com/shopgauvabingo/photópcb 2380826695560988/2380824898894501/ type=3 theatẻ"
          ],
          [
           "phai khoản"
          ],
          [
           "âp bai ngư an sơn huyên kiên hai tinh kiên giang"
          ],
          [
           "khoản momo"
          ],
          [
           "ship ct3a mễ trì thượng nằm mặt đại lộ thăng long 0913223008"
          ],
          [
           "mai ship hàng báo đơn dáng"
          ],
          [
           "ship hàng tầm"
          ],
          [
           "18t2 trung hoàn nhân"
          ],
          [
           "ship 2 món 10 ngõ 41 đông tác haỉ salon bảo 0909220000"
          ],
          [
           "máy fatz bảo hành 1"
          ],
          [
           "khoản vietcombank"
          ],
          [
           "shop khoản nha"
          ],
          [
           "đợi chút khoản xác mai"
          ],
          [
           "khoản shop nha~ check hộ"
          ],
          [
           "khoản vietcombank mb"
          ],
          [
           "và chế độ bảo hành"
          ],
          [
           "khoản zui nhed"
          ],
          [
           "bảo mua shop"
          ],
          [
           "gửi ship giúp"
          ],
          [
           "bảo a gọi trọng th ship 6h ship xong gửi bảo vệ giúp kvm"
          ],
          [
           "gviec bé bảo hành ship hxhx ship tối"
          ],
          [
           "bảo hành giúp"
          ],
          [
           "ship hôm mai"
          ],
          [
           "gửi giúp tài khoản khoản nha"
          ],
          [
           "ship hộ"
          ],
          [
           "frrship tận xuân"
          ],
          [
           "đặt hàng khoản"
          ],
          [
           "bây gọi ship đi"
          ],
          [
           "37 lê đại hành"
          ],
          [
           "lê đại hành hbt"
          ],
          [
           "bộ câu cá ben minh bán sak a"
          ],
          [
           "ghế bảo hành blau"
          ],
          [
           "check giúp tài khoản"
          ],
          [
           "tài khoản 50% giao nha"
          ],
          [
           "mua máy phiếu bảo hàng tráng tinh"
          ],
          [
           "thông bảo hành máy"
          ],
          [
           "https //www facebook com/shopgauvabingo/pós/2418174771826180 __tn__=k-r g"
          ],
          [
           "kk bảo trì tiền cộng"
          ],
          [
           "chiều chỗ bảo hành máy xay hấp babymov đấy"
          ],
          [
           "chiều khoản đi"
          ],
          [
           "khoản mai phong tỏa ship"
          ],
          [
           "khoản cộng tiền ship"
          ],
          [
           "shop đảm bảo hành"
          ],
          [
           "khoản nhea"
          ],
          [
           "xong nhắn"
          ],
          [
           "ok shop hãng bảo dạng hàng"
          ],
          [
           "lai"
          ],
          [
           "35 kim mã thượng a"
          ],
          [
           "gọi khoản"
          ],
          [
           "vũ hữu"
          ],
          [
           "phieu bảo hành roi"
          ],
          [
           "shop địa chỉ bảo hành sửa chữa sản phẩm"
          ],
          [
           "đợt bảo khoản quên huhu"
          ],
          [
           "yên bái"
          ],
          [
           "chuaq khoản a"
          ],
          [
           "khoản giúp a"
          ],
          [
           "khoản tài khoản đi 62893338 hoàng vũ hiệp vpbank-cn cộng hoà"
          ],
          [
           "uh mai ship đi"
          ],
          [
           "19034633411010 techcombank ctk trần thị thảo"
          ],
          [
           "mai tưởng hôm"
          ],
          [
           "khoản shop nah"
          ],
          [
           "keang nam"
          ],
          [
           "to s4 cc goldmả city 136 hồ tùng mậu 0857158397 trần khánh ly"
          ],
          [
           "uki tài khoản khoản tổng 1045k"
          ],
          [
           "0939881000 chi"
          ],
          [
           "a8/7g2 đường 1à vĩnh lộc chỉnh"
          ],
          [
           "thể thông khoản shipper"
          ],
          [
           "ok bảo giường hợp hỗ trợ chậu trách nhiệm"
          ],
          [
           "máy bảo hành shop"
          ],
          [
           "khoản tiền hàng đx"
          ],
          [
           "shop sale inbox"
          ],
          [
           "bực bảo vít vặn hãng bảo"
          ],
          [
           "shop ship cod giúp ngân hàng"
          ],
          [
           "nôi hoi shop tài khoản gio"
          ],
          [
           "mai khoản tao khoan a"
          ],
          [
           "mai khoản 50% hóa đơn"
          ],
          [
           "ship toán"
          ],
          [
           "mai khoản shop"
          ],
          [
           "gửi shopee ship"
          ],
          [
           "ok gọi ship giúp"
          ],
          [
           "cbi sẵn khoản tiền hàng xong hàng phép"
          ],
          [
           "ship hộ nha"
          ],
          [
           "shop gởi giúp khoản"
          ],
          [
           "tài khoản bidv shop"
          ],
          [
           "shopee phí"
          ],
          [
           "mua xe đẩy bảo hành"
          ],
          [
           "https //www facebook com/shopgauvabingo"
          ],
          [
           "khoản 50% hàng tiếp %"
          ],
          [
           "ship hành kia ship"
          ],
          [
           "giao hành"
          ],
          [
           "mua nha khoản gửi"
          ],
          [
           "https //m facebook com/stỏ php stỏ_fbid=2422439128066411 id=1454523434857990"
          ],
          [
           "https //m facebook com/stỏ php stỏ_fbid=2425026481141009 id=1454523434857990"
          ],
          [
           "https //m facebook com/stỏ php stỏ_fbid=2425791684397822 id=1454523434857990"
          ],
          [
           "khoản 3 món hàng nha"
          ],
          [
           "khoản cũg"
          ],
          [
           "khoản 900k"
          ],
          [
           "https //www facebook com/shopgauvabingo/photópcb 2425056854471305/2425056784471312/ type=3 theatẻ"
          ],
          [
           "đại lý"
          ],
          [
           "đại lý đại diện"
          ],
          [
           "phiếu bảo hành"
          ],
          [
           "gọi ship bảo"
          ],
          [
           "tổng bill giúp khoản"
          ],
          [
           "ship hàng bây"
          ],
          [
           "okie ship nha"
          ],
          [
           "https //shopê vn/product/36371562/1056037842"
          ],
          [
           "hôm ship 6b hoàng diệu hành"
          ],
          [
           "https //www facebook com/shopgauvabingo/pós/2424242474552743 __xts__%5b0%5d=68 ảx8tkiigpdrnyklnjámĩtqu1brwty-1cqfvnsleq5lxzh4znk49ìbsã2kpwge-cp6j27h3n-otbrb3bpiqtjkdft5h10ljchnlva0ỉdxzxcqxipyqsk-rxjlfla1ẻ_jty9ltkỉw_47bcnlozja66vk8cko2douy4lgzcnjabi4ffqgx47yqvxlold78ytl7b1yqmrqneyv2jf8voĩbiwfd6jmjvvr65fi96kfd-xwrzvrkeugwmnf95g44ngizum8zb_vngp01hlw4a-oqróhử79zy6zd9x8denxbau2jb-qb15qzgfâ1txa9lnhuvj4snt __tn__=-r"
          ],
          [
           "thông khoản"
          ],
          [
           "bảo dưỡng"
          ],
          [
           "máy mjh bảo hành"
          ],
          [
           "mjh bảo dưỡng máy"
          ],
          [
           "bảo hành mjh sinh bé"
          ],
          [
           "khoản xong ship"
          ],
          [
           "ship khoản"
          ],
          [
           "shop vnpay khoản"
          ],
          [
           "bảo hàng đổi máy đỡ tg"
          ],
          [
           "689 lạc long quân phong 0986784182"
          ],
          [
           "máy bảo hành th"
          ],
          [
           "ok nhắn giúp thông khoản"
          ],
          [
           "nâng hạ yên đx"
          ],
          [
           "check đơn ship hàng 2"
          ],
          [
           "hôm shop ship hàng hôm đặt ship"
          ],
          [
           "đấy nhắn bảo 480k mua 580k"
          ],
          [
           "liên ship"
          ],
          [
           "guiẻ đi bảo hành máy"
          ],
          [
           "báo gửi thông hãng bảo hành"
          ],
          [
           "bảo hành kiểm tra máy"
          ],
          [
           "bảo khoản 50%"
          ],
          [
           "2 tài khoản"
          ],
          [
           "bảo chồng khoản"
          ],
          [
           "shop khoản hôm khoản giúp mai m1 ngại nhắc"
          ],
          [
           "khoản 1019"
          ],
          [
           "đợi khoản"
          ],
          [
           "khoản giao"
          ],
          [
           "khoản tu hom ma"
          ],
          [
           "linh đôi"
          ],
          [
           "băc ninh"
          ],
          [
           "bảo hành shop ship"
          ],
          [
           "mai khoản ship"
          ],
          [
           "thông khoản nha"
          ],
          [
           "uh ship đi hộ"
          ],
          [
           "khoản 100% shop"
          ],
          [
           "khoản 50% truoc nha"
          ],
          [
           "khoản đấy giúp"
          ],
          [
           "tài khoản vietcombank tiền ngân hàng bidv bảo đi"
          ],
          [
           "tài khoản vietcombank check tài khoản"
          ],
          [
           "hix bj khoản tài khoản kia vietcombank khoản"
          ],
          [
           "hàng ship shopee"
          ],
          [
           "khung bảo vệ luon ha shop"
          ],
          [
           "https //www facebook com/1454523434857990/pós/2417104801933177/ vh=e d=n"
          ],
          [
           "ship giúp chiều toán khoản"
          ],
          [
           "mai giao giúp hành"
          ],
          [
           "https //www facebook com/shopgauvabingo/photópcb 2417040051939652/2417022035274787/ type=3 theatẻ nhieu shop"
          ],
          [
           "bảo hành ship hả"
          ],
          [
           "ok nha ship giúp"
          ],
          [
           "bảo hành ship shop"
          ],
          [
           "https //www facebook com/shopgauvabingo/photópcb 2415298025447188/2415297105447280/ type=3 theatẻ"
          ],
          [
           "41 bát đàn bảo hành"
          ],
          [
           "máy vđề bảo hành cửa hàng bảo hành hả"
          ],
          [
           "ship bảo hành"
          ],
          [
           "chiều hàng nhắn khoản"
          ],
          [
           "bảo hành hãng philip"
          ],
          [
           "bảo hành liên lạc đầu"
          ],
          [
           "hàng bảo hành tập 3 lắm"
          ],
          [
           "mua hộ bảo chat trực tiếp"
          ],
          [
           "chế độ bảo hành quên"
          ],
          [
           "đặt ship báo khoản"
          ],
          [
           "bảo 11h10 ship hàng"
          ],
          [
           "100b lê lợi phan rang tháp chàm tỉnh ninh thuận hana 0933853778"
          ],
          [
           "tài khoản chỉ gửi trực tiếp"
          ],
          [
           "khoản giao hàng chỉ"
          ],
          [
           "sợ chiều đi mua đồ tài khoản"
          ],
          [
           "hôm gửi ship"
          ],
          [
           "gọi tài khoản giúp"
          ],
          [
           "chiều ship giúp nha"
          ],
          [
           "ship chiều shopee"
          ],
          [
           "kiểm tra phí ship"
          ],
          [
           "xe bato hành"
          ],
          [
           "khoản hàng bánh"
          ],
          [
           "khoản hàng"
          ],
          [
           "ok khoản hàng"
          ],
          [
           "bg bảo hành"
          ],
          [
           "tiền ship khoản hàng shop"
          ],
          [
           "shop tài khoản khoản 50% nha"
          ],
          [
           "báo phí khoản"
          ],
          [
           "chất liệu gỗ + sơn độc hại"
          ],
          [
           "ship hôm giúp"
          ],
          [
           "khoản 50% nhá shop"
          ],
          [
           "tài khoản mua tiện"
          ],
          [
           "gian bảo hành"
          ],
          [
           "ghế bảo hành bao"
          ],
          [
           "ok đăng nhập tài khoản"
          ],
          [
           "khoản shop check giúp"
          ],
          [
           "máy bảo hàng hãng"
          ],
          [
           "bảo hành 12"
          ],
          [
           "73/1a quốc lộ 1à p tân thới hiệp q12"
          ],
          [
           "chắn hàng"
          ],
          [
           "ship mai đi tặng"
          ],
          [
           "https //www facebook com/shopgauvabingo/photópcb 2407844429525881/2407839842859673/ type=3 theatẻ"
          ],
          [
           "https //www facebook com/shopgauvabingo/photópcb 2407995762844081/2407993859510938/ type=3 theatẻ"
          ],
          [
           "lắp 1 lắp"
          ],
          [
           "https //www facebook com/shopgauvabingo/pós/2352107208432937 __xts__%5b0%5d=68 ảedcgdzg_j9d-xunjlqwj9en-rfmxamqgcwd5lm5hwnpann156mzxovk0_ihbfì1uumjwocthbaibweug0aygaũi8dems5cv9xkhrrrwqzu0v5tonyfădũgnvmwwfx1xj9jezw2hl2y4hwjzfp7wyskcpnuzylcnxjztiạfc2drfsgưuzdă5s140ctnhedc-xuini0wqez959c2ocy68mjidạdk7uyuv58ưl8bú0nl70q-cqdu-aqbulưf5t0mgp5i2hlhrww94-4laìj1scqebaecịxlemupsc1lncc5ic85w785rjlù8qpsp2hdo __tn__=-r"
          ],
          [
           "https //www facebook com/shopgauvabingo/photópcb 2412024195774571/2412022332441424/ type=3 theatẻ"
          ],
          [
           "công 1 bv việt đức 16 phủ doãn"
          ],
          [
           "mai ship 1"
          ],
          [
           "minhg tài khoản"
          ],
          [
           "uki ship nha"
          ],
          [
           "lắp lắp"
          ],
          [
           "ship cod giúp"
          ],
          [
           "khoản sip"
          ],
          [
           "shop ship gọi điện giao đồ mấy"
          ],
          [
           "báo khoản"
          ],
          [
           "hôm 2266 đường huỳnh phát"
          ],
          [
           "bảo chất"
          ],
          [
           "bảo hành cửa hàng"
          ],
          [
           "giá khoản"
          ],
          [
           "nguyễn bích sn 66 tổ 2 quang trung mạo khê đông triều quảng ninh 0988999186"
          ],
          [
           "shop thử đơn ship giúp"
          ],
          [
           "bảo hành cứng dịch"
          ],
          [
           "gửi hàng chợ đồng xuân giúp"
          ],
          [
           "bảo ship"
          ],
          [
           "gửi chiều ship"
          ],
          [
           "52 lĩnh nam"
          ],
          [
           "màu hồng tím bảo hành hàng"
          ],
          [
           "giao hôm đi"
          ],
          [
           "máy bảo hành hả shop"
          ],
          [
           "máy bảo hành bao nhiêu"
          ],
          [
           "ok chót chụp thẻ bảo hành hãng"
          ],
          [
           "shop shop bảo hành"
          ],
          [
           "tài khoản khoản ship"
          ],
          [
           "phạm ngọc thạch"
          ],
          [
           "nãy gọi điện kia bảo 550k"
          ],
          [
           "tài khoản agri"
          ],
          [
           "ship dt gọi bảo ship hành hôm"
          ],
          [
           "ship màu 169 nguyễn ngọc vũ hành ạb"
          ],
          [
           "đà nẵng địa chỉ bảo hành"
          ],
          [
           "bank khoản ship cod"
          ],
          [
           "linh đàm"
          ],
          [
           "bé bảo hành"
          ],
          [
           "https //www facebook com/shopgauvabingo/videó610615676449368/"
          ],
          [
           "bảo shop"
          ],
          [
           "khoản tiền mặt"
          ],
          [
           "khoản 100% fs"
          ],
          [
           "khoản shop ship"
          ],
          [
           "ship giúp 4"
          ],
          [
           "gửi lễ tân bảo gửi a huân"
          ],
          [
           "khoản liền ship"
          ],
          [
           "hôm bảo nhắn quên"
          ],
          [
           "hoàng hoa thám hỉ tầm 3h30"
          ],
          [
           "yep a bảo ship gọi"
          ],
          [
           "diệu hương 03883 4 9898 182 vương thừa vũ p khương trung q xuân"
          ],
          [
           "hôm ship mai shop"
          ],
          [
           "110 đường dịch vọng hậu"
          ],
          [
           "khoản shop ship nhá"
          ],
          [
           "t2 ship hàng giúp"
          ],
          [
           "shop shop gửi kèm chiếu bảo hành"
          ],
          [
           "ship giúp toán tiền mặt"
          ],
          [
           "đơn tài khoản khoản"
          ],
          [
           "ghế giày bảo hành"
          ],
          [
           "ship mai giúp"
          ],
          [
           "https //www facebook com/1454523434857990/pós/2450577061919284/"
          ],
          [
           "khung bảo vệ ngực"
          ],
          [
           "tài khoản tren"
          ],
          [
           "đơn hôm ship"
          ],
          [
           "khoản tiền đặt shopee"
          ],
          [
           "hiện tiền tài khoản"
          ],
          [
           "ok ship giúp thanks"
          ],
          [
           "ship giúp thanks"
          ],
          [
           "ship đi hôm mai"
          ],
          [
           "giúp khoản"
          ],
          [
           "https //www facebook com/1454523434857990/pós/2451520448491612/ d=n"
          ],
          [
           "hàng đảm bảo bảo hành 12"
          ],
          [
           "kem nhi nha 1174 to 27 ap 2a xuân hung huyện xuân loc tinh dong nai điện thoại 0969411541"
          ],
          [
           "bonú clip https //www facebook com/suzyn tran/videó2610259615704450/"
          ],
          [
           "mai ship toán tiền mặt"
          ],
          [
           "chat nhân viên"
          ],
          [
           "bảo hành shop liên hệ"
          ],
          [
           "máy giặt bảo hành"
          ],
          [
           "bảo hàng hãng"
          ],
          [
           "gọi mai ship"
          ],
          [
           "oki shop nhắn tài khoản nha"
          ],
          [
           "chiếu bảo hành tình mua shop"
          ],
          [
           "hôm khoản 50% shop ship"
          ],
          [
           "ghế bảo hành thương hợp"
          ],
          [
           "2sp bảo hành hãng 1"
          ],
          [
           "bảo kia mua"
          ],
          [
           "shop check tài khoản giúp"
          ],
          [
           "https //www facebook com/1454523434857990/pós/2436433720000285/ d=n"
          ],
          [
           "tuần ship hành giúp"
          ],
          [
           "uh mai giao a 3 chiều"
          ],
          [
           "tiếng việt"
          ],
          [
           "khoản ship nha"
          ],
          [
           "ship giùm nha"
          ],
          [
           "khoản mau nha"
          ],
          [
           "bảo hàng hả shop"
          ],
          [
           "shop mua máy medela pump shop bây hư hút shop bảo hành sài gòn"
          ],
          [
           "bây bảo hành"
          ],
          [
           "49/26/11 đường 51 phường 14 gò vấp phùng trần quốc 0989313845"
          ],
          [
           "hàng sử dụng bảo hành shop"
          ],
          [
           "giá máy giặt gốc chế độ bảo hàng"
          ],
          [
           "ship hàng nha"
          ],
          [
           "hàng khoản hàng"
          ],
          [
           "máy phiếu bảo hành 2 hãng shop"
          ],
          [
           "hôm đông nhìu mã mua bảo mãi hĩ"
          ],
          [
           "ok liên lạc"
          ],
          [
           "https //www facebook com/photo fbid=2445776195732704 set=pcb 2445777899065867"
          ],
          [
           "093 2802828 097 4399646 - việt"
          ],
          [
           "khoản nhắn"
          ],
          [
           "tổng khoản 1550"
          ],
          [
           "toán ship"
          ],
          [
           "5 ngõ 77 bùi xương trạch"
          ],
          [
           "uh hành nha"
          ],
          [
           "sản 33 ngo 41 phô đuong hoa quang an"
          ],
          [
           "nghi kèm bảo hành đấy newn đầu"
          ],
          [
           "kbiet đầu nghi thẻ bảo hành"
          ],
          [
           "thẻ bảo hành"
          ],
          [
           "ship hành 4h30 giúp"
          ],
          [
           "ship giúp hôm"
          ],
          [
           "khoản oy nha shop"
          ],
          [
           "shop tài khoản agribank khoản"
          ],
          [
           "tiền ship hàng tinh khoản"
          ],
          [
           "khoản phí ship"
          ],
          [
           "tài khoản vietin bank"
          ],
          [
           "gold mark city 136 hồ tùng mậu s4"
          ],
          [
           "https //www facebook com/1454523434857990/pós/2441536686156655/"
          ],
          [
           "bây gửi bảo hành"
          ],
          [
           "tiền hàng khoản"
          ],
          [
           "giá gửi lát grap bảo 100k toi"
          ],
          [
           "phí ship giúp"
          ],
          [
           "cọc 50% xong hàng khoản 50%"
          ],
          [
           "chỉnh a liên hệ thanks"
          ],
          [
           "phù lỗ sóc sơn"
          ],
          [
           "https //www facebook com/shopgauvabingo/videó254704795667789/"
          ],
          [
           "khoản ch ch ch kế toán hộ"
          ],
          [
           "gọi grab chỗ"
          ],
          [
           "nhắn khoản"
          ],
          [
           "nghách 151 ngõ 172 âu"
          ],
          [
           "od bảo hành hàng hả"
          ],
          [
           "od bảo hành hả"
          ],
          [
           "ok khoản xong ntin"
          ],
          [
           "tí ship 4 ngõ 13 dốc tam đa- thuỵ khuê"
          ],
          [
           "đi giao hàng"
          ],
          [
           "ship đàn giúp"
          ],
          [
           "vòng bảo hành"
          ],
          [
           "https //www facebook com/1454523434857990/pós/2439684789675178/"
          ],
          [
           "tài khoản gửi tiền ship giúp"
          ],
          [
           "bảo đợt mua car seat zaracos thể lý giúp"
          ],
          [
           "23a phú đứng"
          ],
          [
           "https //www facebook com/1454523434857990/pós/2438866603090330/"
          ],
          [
           "https //m facebook com/stỏ php stỏ_fbid=2438859986424325 id=1454523434857990"
          ],
          [
           "https //www facebook com/1454523434857990/pós/2436526253324365/"
          ],
          [
           "cư homecity 177 trung kính"
          ],
          [
           "khoản cố gắng giao hôm giúp"
          ],
          [
           "khoản 9h đồ trung hôm"
          ],
          [
           "check tài khoản đx"
          ],
          [
           "tài khoản tech check ship giúp"
          ],
          [
           "shop bảo chỉ 900"
          ],
          [
           "chat giúp mink mink khoản"
          ],
          [
           "ll khoản chỗ giúp"
          ],
          [
           "bảo hành bảo síp trat tiền"
          ],
          [
           "đăng nhắn"
          ],
          [
           "xong mai ship tiền"
          ],
          [
           "bảo qa hộ"
          ],
          [
           "gửi tài khoản nha"
          ],
          [
           "toán khoản shop"
          ],
          [
           "s uii 37a 37 ngõ 124 ngách 55 âu"
          ],
          [
           "gửi bảo vao toi sài gòn ban"
          ],
          [
           "giao hàng hôm đông shop"
          ],
          [
           "toán hình thức khoản hàng"
          ],
          [
           "hàng đảm bảo"
          ],
          [
           "1 bảo"
          ],
          [
           "mua bảo đặt hàng trung bày"
          ],
          [
           "bô tròn bảo hành hàng"
          ],
          [
           "khoản 1"
          ],
          [
           "chốt khoản nha"
          ],
          [
           "hành sẵn"
          ],
          [
           "bình đun moaz bê be"
          ],
          [
           "khoản 1335 nha shop"
          ],
          [
           "shop đơn khoản"
          ],
          [
           "ship bô giúp"
          ],
          [
           "xong ship giúp"
          ],
          [
           "khoản kia"
          ],
          [
           "tài khoản shopee"
          ],
          [
           "hành mao nhe"
          ],
          [
           "uh khoản"
          ],
          [
           "khoản n"
          ],
          [
           "p1908 ct1a cư mễ trì plaza nam liêm 0912349671"
          ],
          [
           "shop tư vấn bảo hành"
          ],
          [
           "khoản đặt an"
          ],
          [
           "hàng toán tiền"
          ],
          [
           "quảng trị"
          ],
          [
           "ship tỉnh kiểm tra hàng móp méo"
          ],
          [
           "uh ok hôm ship 18 lê đại hành"
          ],
          [
           "18 lê đại hành"
          ],
          [
           "toán shop hàng hàng yên tâm toán khoản shop"
          ],
          [
           "bảo hành 12 2 đằng"
          ],
          [
           "ok ship hành"
          ],
          [
           "ship mấy hàng"
          ],
          [
           "chỗ 71 hàng bình đúg"
          ],
          [
           "shipcod khoản"
          ],
          [
           "khoản bây"
          ],
          [
           "tiền ship khoản"
          ],
          [
           "sợ tài khoản khoản"
          ],
          [
           "mấy phiếu cod hãng bảo hành"
          ],
          [
           "máy lm phiếu bảo hành bảo hành s"
          ],
          [
           "kiếm tra dùm bảo hành"
          ],
          [
           "báo giúp minhg khoản"
          ],
          [
           "hành hoàng quốc việt"
          ],
          [
           "báo kho ship chiều giúp"
          ],
          [
           "ship mai ship muộn chút nha shop"
          ],
          [
           "đảm bảo y hình giúp mua công"
          ],
          [
           "khoản tiền grap shop"
          ],
          [
           "xong ship lằng nhằng khoản gọi"
          ],
          [
           "gọi ship đi"
          ],
          [
           "bảo ship giao hàng đi"
          ],
          [
           "xong nhắn hộ tài khoản"
          ],
          [
           "ship mai hộ"
          ],
          [
           "trường chinh"
          ],
          [
           "ship gọi điện báo ship"
          ],
          [
           "mai tài khoản shop"
          ],
          [
           "mai đơn giúp khoản phí ship"
          ],
          [
           "toán khoản nhen"
          ],
          [
           "thủ tục bảo hành"
          ],
          [
           "https //www snbshop vn/products/avent-may-hut-sua-bang-dien-doi"
          ],
          [
           "full shop"
          ],
          [
           "kèm mũ bảo hành bé"
          ],
          [
           "bảo hành bao nhiêu"
          ],
          [
           "bình ủ chao relea"
          ],
          [
           "kp3 thông trảng bom huyện trảng bom tỉnh đồng nai 0345806666"
          ],
          [
           "bảo giá"
          ],
          [
           "hôm shop bảo"
          ],
          [
           "giao shop bảo hôm giao hôm"
          ],
          [
           "công tắc"
          ],
          [
           "210 shop khoản"
          ],
          [
           "bảo vệ la"
          ],
          [
           "https //www facebook com/1454523434857990/pós/2476461112664212/ d=n"
          ],
          [
           "khoản fz ship"
          ],
          [
           "gọi tài khoản đi"
          ],
          [
           "đợi chút khoản"
          ],
          [
           "ok ship giúp kia"
          ],
          [
           "hiện khoản quê"
          ],
          [
           "n16 271 trần đăng ninh rẽ"
          ],
          [
           "đặt tiki shop hỗ trợ ví dụ tháo lắp bảo hành"
          ],
          [
           "https //www facebook com/1454523434857990/pós/2478174839159506/"
          ],
          [
           "sn52 ngõ 14 mễ trì hạ 0329984688"
          ],
          [
           "bảo bốc"
          ],
          [
           "khoản lỗi"
          ],
          [
           "mễ trì"
          ],
          [
           "mua mấy ship bảo kho"
          ],
          [
           "okie nhá giao nhắn khoản"
          ],
          [
           "ship 16 ngõ 310 nghi tàm 0949800700"
          ],
          [
           "thế quạt mini có bảo hành shop"
          ],
          [
           "bảo hành lỡ hư hỏng shop"
          ],
          [
           "hàng holla hả shop bảo hành hãng"
          ],
          [
           "https //www facebook com/1454523434857990/pós/2473312826312374/"
          ],
          [
           "bảo hành liền gởi hàng"
          ],
          [
           "trương thị bích hợp thôn lạc lợi xã diên hoà huyện diên khánh tinh khánh hoà dt 0777449235"
          ],
          [
           "bảo hành s"
          ],
          [
           "khoản nhed"
          ],
          [
           "ok chút khoản"
          ],
          [
           "tài khoản viêtcombank"
          ],
          [
           "ah máy bảo hành"
          ],
          [
           "máy tiệt khuẩn bảo hành"
          ],
          [
           "khoản trv"
          ],
          [
           "mua khoản hả"
          ],
          [
           "khoản 19029029199999 techcombank"
          ],
          [
           "713 lạc long quân 0936725368"
          ],
          [
           "hành quan"
          ],
          [
           "https //www facebook com/shopgauvabingo/photópcb 2469123436731313/2469122833398040/ type=3 theatẻ"
          ],
          [
           "khoản 50% \\"
          ],
          [
           "113 vĩnh hảo phong bình thuờng trang 0972927223"
          ],
          [
           "đến nhà a khu 7 2ha vĩnh phúc đình"
          ],
          [
           "ok ship giúp"
          ],
          [
           "tài khoản khoản đống đa"
          ],
          [
           "ship giúp hôm mai"
          ],
          [
           "hiện thuốc vân sơn"
          ],
          [
           "bảo ship hộ a"
          ],
          [
           "nhắn tài khoản đi"
          ],
          [
           "mai khoản tiền nôi sẵn"
          ],
          [
           "mai khoản nhea"
          ],
          [
           "hôm buộc gọi"
          ],
          [
           "bảo bình 2 5t"
          ],
          [
           "6 kịp"
          ],
          [
           "mua phiếu bảo hành"
          ],
          [
           "https //www facebook com/1454523434857990/pós/2466822686961388/"
          ],
          [
           "lnao bảo 1350k"
          ],
          [
           "giao 1 tảo phường bình thọ thủ đức trọng hành nha shop"
          ],
          [
           "bảo tiêng shop"
          ],
          [
           "2002 b1 khung cư twin tơrs hud 2 tây nam linh đàm hoàng mai"
          ],
          [
           "khoản grab"
          ],
          [
           "bảo ship gọi yến ơn"
          ],
          [
           "ok chiều mai"
          ],
          [
           "khoản tiền đàn"
          ],
          [
           "ghế bảo hàng hãng 12"
          ],
          [
           "khoản 199k nhen"
          ],
          [
           "khoản nè"
          ],
          [
           "bảo hành dt"
          ],
          [
           "bảo hàng shop"
          ],
          [
           "ship lắp giúp"
          ],
          [
           "bảo hành ship cbi đi ới"
          ],
          [
           "mai giao hành giúp nha"
          ],
          [
           "đặt bảo hành hàng"
          ],
          [
           "bảo hành hic"
          ],
          [
           "bảo hành bao hả"
          ],
          [
           "vợ bảo đấy"
          ],
          [
           "sản 2 ngách 98/14 nguyễn ngọc nại 0948240489"
          ],
          [
           "cốc keangnam dương đình nghệ"
          ],
          [
           "máy giặt bảo hành 1"
          ],
          [
           "ship khoản khoản"
          ],
          [
           "ship 1 18c ngõ 93 giáp nhị"
          ],
          [
           "nhắn tài khoản lát ship"
          ],
          [
           "mai đàn"
          ],
          [
           "xong hàng khoản"
          ],
          [
           "shop tài khoản khoản đi"
          ],
          [
           "mai chỉ hàng"
          ],
          [
           "bảo hành chiều"
          ],
          [
           "ship gọi báo"
          ],
          [
           "khoản toán"
          ],
          [
           "khoản tiền ship nhá"
          ],
          [
           "hoàng tàu hỏa lắp ráp"
          ],
          [
           "66x59x42cm - gấp 66x"
          ],
          [
           "máy giặt bảo hành hk shop bảo hành shop"
          ],
          [
           "tài khoản nha khoản shop há"
          ],
          [
           "lỗi ntin chồng chồng quên đặt shopee bảo"
          ],
          [
           "uh ship giúp"
          ],
          [
           "tổng bill mìh khoản"
          ],
          [
           "bảo giao hàng"
          ],
          [
           "bảo hành hangz bảo hành shop"
          ],
          [
           "facebook kim nhi"
          ],
          [
           "thể ship giúp đơn"
          ],
          [
           "tiền khoản chỉ 320 khoản 330"
          ],
          [
           "khoản xong địu bé"
          ],
          [
           "shop hàng hành"
          ],
          [
           "khoản 1500k tròn"
          ],
          [
           "t2 ship chỗ tòa mobìne yên hòa"
          ],
          [
           "gọi bảo rôgi"
          ],
          [
           "địa chỉ 92a36 kdc savimẽ đường gò ô môi trường phú thuận q7"
          ],
          [
           "hành giao 535 kim mã"
          ],
          [
           "shop gửi tài khoản bảo khoản cod shopee tuỳ"
          ],
          [
           "okie khoản xong gửi"
          ],
          [
           "ô hôm shop bảo hỗ trợ ship bến xe"
          ],
          [
           "tài khoản trangnhungmebap"
          ],
          [
           "5h khoản tan"
          ],
          [
           "gọi ship hộ"
          ],
          [
           "uh rôid ngõ 885 tam trinh"
          ],
          [
           "khoản tiền balo"
          ],
          [
           "ui quên mứoi khoản"
          ],
          [
           "mịh khoản nha"
          ],
          [
           "g30 bt07 kdt việt hưng long biên 0979080588"
          ],
          [
           "https //www facebook com/1454523434857990/pós/2469916326652024/ d=n"
          ],
          [
           "sản 25 ngõ 10 kim mã thượng"
          ],
          [
           "kim mã thượng"
          ],
          [
           "bảo size"
          ],
          [
           "bảo hành blau shop"
          ],
          [
           "gọi tài khoản nha shop"
          ],
          [
           "khoản qa momo"
          ],
          [
           "shop gọi grab ship cod"
          ],
          [
           "1 chút nh lỗi khoản 1 bảo rhâs"
          ],
          [
           "had nam"
          ],
          [
           "khoản tiền balo ship khoản tiền ship shop"
          ],
          [
           "khoản mua lô"
          ],
          [
           "tài khoản agribank"
          ],
          [
           "khoản ship hàng"
          ],
          [
           "12/29 finom- hiệp thạnh- đức trọng-lâm đồng nguyễn kim phung 0919072542"
          ],
          [
           "khoản nhắn mua"
          ],
          [
           "mai ship xe"
          ],
          [
           "gấp khoản grab"
          ],
          [
           "tuần nhắn"
          ],
          [
           "khoản lắp thử rôid"
          ],
          [
           "bảo hành hãng mastela hả shop"
          ],
          [
           "tối mai"
          ],
          [
           "https //www facebook com/1454523434857990/pós/2491958467781143/"
          ],
          [
           "shop ghi giúp điện thoại lỡ gọi 0912104497 sóng"
          ],
          [
           "ok chiều ship"
          ],
          [
           "tưởng khoản gửi tiền ship"
          ],
          [
           "ship gửi giúp"
          ],
          [
           "khoản xong gọi ship gửi ship"
          ],
          [
           "bóng sấy bảo hành"
          ],
          [
           "chiều hàng bảo hành ship"
          ],
          [
           "sản g1 - vinhome grêbay mễ trì"
          ],
          [
           "ship hôm mai đi"
          ],
          [
           "đem bảo hành"
          ],
          [
           "lê 22 khu hoa binh phuong 1 dalat lam dong 0937014057"
          ],
          [
           "tài khoản nha shop"
          ],
          [
           "bảo hành đổi xe nha shop"
          ],
          [
           "https //www facebook com/1454523434857990/pós/2487941704849486/ d=n"
          ],
          [
           "mịn tài khoản khoản"
          ],
          [
           "7 tuần van"
          ],
          [
           "106x70 5x80cm - gấp"
          ],
          [
           "giao ship"
          ],
          [
           "bảo ship giúp"
          ],
          [
           "tài khoản khoản tiền ship giúp shipper"
          ],
          [
           "khoản nốt"
          ],
          [
           "bảo đen mãi máy"
          ],
          [
           "điện a bảo hiểm tra mãi gọi"
          ],
          [
           "đặt khoản hả"
          ],
          [
           "nhắn ship"
          ],
          [
           "shop khoản giùm"
          ],
          [
           "sản keangnam gửi lễ tân hạnh b707"
          ],
          [
           "ảnh bảo gửi vp trung tâm"
          ],
          [
           "trưa ship gọi bảo hàng đường"
          ],
          [
           "hỗ trợ khoản hộ"
          ],
          [
           "nãy hãng bảo chỉ 7"
          ],
          [
           "ché độ bảo hành nhi"
          ],
          [
           "ơi có bình thuỷ điện chọn được nhiệt độ và dung tích nước"
          ],
          [
           "khoản tài khoản hoàng phú quý"
          ],
          [
           "mamago bảo hành"
          ],
          [
           "mũ bảo hành shop thể hỗ trợ trừ tiền đi giúp mua mũ bảo hành hic"
          ],
          [
           "bảo mua xong hu hu"
          ],
          [
           "chiều mjk khoản"
          ],
          [
           "mjk yên tâm"
          ],
          [
           "2 mjk khoản"
          ],
          [
           "shop gửi mjk tài khoản"
          ],
          [
           "khoản mjk kêu sip hàng tiền"
          ],
          [
           "27 ngõ 409 kim mã ngọc khánh phone 0906265289"
          ],
          [
           "thanks shop là có địa chỉ bảo hành"
          ],
          [
           "chẳng lẻ shop bán mà biết công ty nào sản xuất và địa chỉ bảo hành"
          ],
          [
           "ý hỏi công ty nào sản xuất đia chỉ bảo hành"
          ],
          [
           "mai gấp"
          ],
          [
           "gọi gọi 0904175246"
          ],
          [
           "ship hành hộ"
          ],
          [
           "ghi bảo hành việt nam"
          ],
          [
           "sài gòn nhỡ máy bảo hành"
          ],
          [
           "https //www facebook com/shopgauvabingo/pós/1647517438891921/"
          ],
          [
           "gọi ship tổng tiền giúp"
          ],
          [
           "khoản 880 000"
          ],
          [
           "ship đinh lễ hành"
          ],
          [
           "tổng bao nhiêu tài khoản khoản"
          ],
          [
           "hàng joovy đảm bảo hãng"
          ],
          [
           "sản 16 ngõ 230 ngách 230/21/21 mễ trì thượng 0986511899 yến gửi zain"
          ],
          [
           "nhắn nha"
          ],
          [
           "s ship giúp"
          ],
          [
           "khoản tiền xe"
          ],
          [
           "đóng gửi quan tài khoản hjj"
          ],
          [
           "khoản 50% hàng khoản nốt nhân hàng toán"
          ],
          [
           "gọi hic"
          ],
          [
           "ship giúp đồ"
          ],
          [
           "tài khoản trưa khoản"
          ],
          [
           "gửi 2 bảo mô tả"
          ],
          [
           "ok shop tai chiếu bảo hành"
          ],
          [
           "phiếu bảo hành đầu"
          ],
          [
           "okie tài khoản"
          ],
          [
           "khoản ròi"
          ],
          [
           "an nút xay lưỡi dao"
          ],
          [
           "tg bảo hành"
          ],
          [
           "ship chiều 28 nha"
          ],
          [
           "bảo hành 2"
          ],
          [
           "tối sợ giao"
          ],
          [
           "khoản tiền xog shop ship bảo"
          ],
          [
           "hàng tem bảo hành hãng"
          ],
          [
           "hàng bảo hành hãng 2"
          ],
          [
           "chỉ toán tiền ship"
          ],
          [
           "khoản toàn tiền hàng"
          ],
          [
           "uh gửi bảo hành thử"
          ],
          [
           "khoản tiền bàn"
          ],
          [
           "tài khoản thanks"
          ],
          [
           "khoản tiền hàng tiền ship nha shop"
          ],
          [
           "đổi máy nutribaby5in1 hỏng lưỡi hàng bảo hành đổi khay"
          ],
          [
           "qa facebook"
          ],
          [
           "ship 254c thụy khuê hành giúp"
          ],
          [
           "chiều mai ship hình hành"
          ],
          [
           "dây chốt cố định"
          ],
          [
           "khủng long tháp vẻ hơi dốc xíu"
          ],
          [
           "ok ship 15h chiều điện thoại 0974539881"
          ],
          [
           "bảo hành động sẵn"
          ],
          [
           "https //www facebook com/1454523434857990/pós/2511001002543556/ sfnsn=mo"
          ],
          [
           "shop bảo hành hì giúp"
          ],
          [
           "bảo hành hả"
          ],
          [
           "khoản tài khoản vietcombank"
          ],
          [
           "trụ tây đức lân mộ đức quảng ngãi 0983065676"
          ],
          [
           "uk tối a khoản coa"
          ],
          [
           "‭0777107968‬ công"
          ],
          [
           "khoản 500k"
          ],
          [
           "shop sách bảo hành chụp giúp tham khảo"
          ],
          [
           "thẻ bảo hành shop"
          ],
          [
           "bảo gọi ship"
          ],
          [
           "ship bảo hành bao"
          ],
          [
           "2c ngõ 605 bát khối-cự khối-long biên"
          ],
          [
           "ok khoản a ship"
          ],
          [
           "nghĩa"
          ],
          [
           "khoản lát"
          ],
          [
           "hôm shop nghỉ ship hàng"
          ],
          [
           "tiền tài khoản"
          ],
          [
           "tuần bảo hành nha"
          ],
          [
           "p 306 cư golden ảỏ 6 nam giảng võ"
          ],
          [
           "bây khoản cọc 50%"
          ],
          [
           "ok dùm block 2b the estella 1 an phú q2"
          ],
          [
           "khoản ship nhew"
          ],
          [
           "khoản ship chiều"
          ],
          [
           "khoản xong lưu"
          ],
          [
           "ok hôm ship"
          ],
          [
           "máy hướng sử dụng tiếng việt bảo hành hả shop"
          ],
          [
           "bảo gửi trâm gọi"
          ],
          [
           "gửi bảo vệ hộ"
          ],
          [
           "ship địa chi cơ quan ạ r002 trung tâm tm amata biên hoà đồng nai vietcombank amata 0983899322"
          ],
          [
           "khoản hàng 4 tuần s"
          ],
          [
           "hôm mai ship"
          ],
          [
           "ok khoản 750k"
          ],
          [
           "lãnh thuỷ chinh thượng- cẩm đàn- sơn động- bắc giang"
          ],
          [
           "khoản ship dchi"
          ],
          [
           "ship nha trang"
          ],
          [
           "0368169465 tòa c2 ngõ 323 xuân đỉnh"
          ],
          [
           "động 12v 7"
          ],
          [
           "https //www facebook com/shopgauvabingo/photópcb 2507219479588375/2507219336255056/"
          ],
          [
           "bảo hành ghế ô tô"
          ],
          [
           "https //www facebook com/1454523434857990/pós/2504450929865230/ d=n"
          ],
          [
           "monhf tài khoản"
          ],
          [
           "khoản freeship"
          ],
          [
           "ship hành nhed"
          ],
          [
           "sản 227 dốc 2 đường giếng đáy hạ long quảng ninh"
          ],
          [
           "tầm 6 rưỡi chiều bảo chồng"
          ]
         ],
         "hovertemplate": "x=%{x}<br>y=%{y}<br>sentence=%{customdata[0]}<br>kmeans_cluster=%{marker.color}<extra></extra>",
         "legendgroup": "",
         "marker": {
          "color": [
           1,
           3,
           2,
           5,
           2,
           1,
           5,
           0,
           1,
           0,
           3,
           0,
           2,
           2,
           1,
           4,
           1,
           5,
           1,
           2,
           2,
           5,
           1,
           1,
           3,
           2,
           1,
           0,
           4,
           1,
           0,
           0,
           1,
           2,
           2,
           3,
           1,
           0,
           5,
           1,
           1,
           1,
           5,
           4,
           4,
           4,
           3,
           5,
           5,
           5,
           5,
           1,
           5,
           5,
           2,
           1,
           5,
           3,
           5,
           3,
           5,
           3,
           5,
           5,
           5,
           5,
           2,
           1,
           1,
           3,
           1,
           4,
           1,
           1,
           2,
           1,
           2,
           1,
           2,
           5,
           1,
           0,
           1,
           0,
           3,
           5,
           0,
           3,
           5,
           5,
           5,
           5,
           0,
           3,
           1,
           3,
           1,
           0,
           5,
           5,
           0,
           5,
           0,
           5,
           0,
           3,
           2,
           2,
           3,
           5,
           5,
           5,
           5,
           5,
           5,
           5,
           5,
           5,
           4,
           2,
           2,
           5,
           2,
           5,
           0,
           0,
           0,
           1,
           2,
           2,
           5,
           5,
           2,
           2,
           5,
           5,
           1,
           5,
           5,
           1,
           2,
           2,
           5,
           1,
           0,
           0,
           2,
           5,
           0,
           1,
           4,
           0,
           2,
           3,
           2,
           5,
           1,
           5,
           2,
           5,
           4,
           5,
           1,
           5,
           0,
           5,
           5,
           2,
           2,
           2,
           1,
           2,
           1,
           1,
           1,
           2,
           3,
           0,
           2,
           2,
           5,
           2,
           5,
           2,
           2,
           5,
           4,
           2,
           1,
           1,
           1,
           2,
           2,
           2,
           5,
           1,
           1,
           4,
           3,
           2,
           5,
           3,
           2,
           2,
           5,
           5,
           0,
           0,
           1,
           5,
           1,
           5,
           3,
           5,
           3,
           3,
           3,
           1,
           2,
           5,
           0,
           5,
           3,
           1,
           5,
           5,
           5,
           5,
           5,
           3,
           5,
           2,
           5,
           4,
           5,
           1,
           5,
           1,
           1,
           2,
           0,
           3,
           5,
           2,
           5,
           5,
           2,
           2,
           3,
           4,
           2,
           0,
           4,
           5,
           4,
           4,
           3,
           2,
           2,
           1,
           5,
           1,
           5,
           0,
           5,
           1,
           2,
           1,
           0,
           5,
           1,
           2,
           5,
           0,
           5,
           1,
           1,
           2,
           5,
           4,
           1,
           3,
           0,
           1,
           2,
           5,
           2,
           1,
           5,
           2,
           5,
           2,
           3,
           3,
           0,
           2,
           2,
           5,
           4,
           4,
           5,
           5,
           0,
           2,
           2,
           3,
           5,
           5,
           4,
           2,
           2,
           3,
           2,
           2,
           3,
           1,
           0,
           1,
           2,
           0,
           1,
           3,
           1,
           2,
           5,
           1,
           0,
           1,
           0,
           2,
           2,
           0,
           3,
           5,
           1,
           2,
           4,
           0,
           1,
           3,
           1,
           5,
           2,
           2,
           2,
           1,
           5,
           0,
           2,
           2,
           1,
           3,
           5,
           3,
           5,
           3,
           0,
           3,
           0,
           5,
           1,
           2,
           0,
           5,
           3,
           3,
           5,
           5,
           1,
           0,
           5,
           1,
           5,
           0,
           0,
           5,
           5,
           1,
           1,
           3,
           0,
           1,
           5,
           2,
           0,
           0,
           2,
           1,
           5,
           5,
           0,
           5,
           5,
           5,
           5,
           1,
           5,
           2,
           3,
           2,
           0,
           1,
           0,
           2,
           2,
           2,
           1,
           4,
           4,
           4,
           0,
           3,
           1,
           0,
           3,
           3,
           1,
           0,
           1,
           0,
           1,
           1,
           2,
           5,
           0,
           5,
           0,
           2,
           5,
           0,
           1,
           1,
           1,
           0,
           1,
           3,
           2,
           5,
           3,
           3,
           5,
           0,
           1,
           2,
           5,
           2,
           1,
           5,
           1,
           5,
           1,
           5,
           2,
           1,
           5,
           1,
           5,
           5,
           5,
           1,
           3,
           5,
           2,
           1,
           5,
           5,
           5,
           3,
           1,
           0,
           2,
           3,
           5,
           2,
           2,
           1,
           5,
           0,
           0,
           3,
           2,
           0,
           5,
           5,
           1,
           1,
           0,
           0,
           2,
           4,
           0,
           1,
           5,
           5,
           0,
           5,
           1,
           1,
           5,
           0,
           1,
           1,
           5,
           5,
           2,
           2,
           5,
           2,
           5,
           2,
           3,
           0,
           4,
           1,
           2,
           2,
           4,
           3,
           3,
           5,
           5,
           5,
           2,
           4,
           1,
           5,
           5,
           2,
           1,
           2,
           5,
           2,
           5,
           0,
           5,
           3,
           5,
           3,
           5,
           3,
           3,
           2,
           3,
           5,
           2,
           3,
           5,
           1,
           5,
           3,
           2,
           1,
           5,
           5,
           5,
           2,
           0,
           2,
           3,
           5,
           5,
           1,
           2,
           3,
           1,
           1,
           5,
           1,
           1,
           3,
           3,
           2,
           2,
           0,
           1,
           2,
           1,
           2,
           5,
           1,
           3,
           5,
           5,
           5,
           5,
           3,
           2,
           5,
           1,
           0,
           1,
           0,
           2,
           2,
           3,
           1,
           2,
           1,
           5,
           5,
           5,
           5,
           5,
           2,
           2,
           5,
           4,
           4,
           2,
           4,
           0,
           1,
           5,
           2,
           1,
           2,
           1,
           2,
           1,
           2,
           5,
           3,
           5,
           1,
           5,
           5,
           4,
           3,
           5,
           0,
           5,
           0,
           2,
           2,
           1,
           3,
           3,
           0,
           3,
           1,
           2,
           5,
           5,
           1,
           0,
           2,
           1,
           5,
           0,
           0,
           3,
           5,
           2,
           5,
           3,
           1,
           0,
           5,
           5,
           0,
           3,
           0,
           3,
           0,
           5,
           3,
           3,
           5,
           3,
           2,
           2,
           0,
           1,
           1,
           3,
           1,
           1,
           4,
           4,
           5,
           1,
           5,
           1,
           3,
           2,
           1,
           1,
           0,
           5,
           5,
           3,
           2,
           2,
           3,
           3,
           0,
           2,
           3,
           3,
           0,
           2,
           5,
           2,
           1,
           0,
           2,
           3,
           3,
           1,
           3,
           5,
           5,
           3,
           0,
           4,
           3,
           3,
           5,
           2,
           5,
           0,
           5,
           2,
           3,
           1,
           1,
           5,
           1,
           3,
           3,
           3,
           1,
           5,
           5,
           3,
           2,
           1,
           1,
           5,
           1,
           1,
           5,
           1,
           1,
           3,
           1,
           0,
           5,
           1,
           3,
           2,
           2,
           3,
           3,
           2,
           5,
           2,
           2,
           2,
           2,
           5,
           5,
           1,
           0,
           4,
           3,
           3,
           0,
           5,
           4,
           4,
           4,
           2,
           5,
           5,
           4,
           1,
           1,
           0,
           0,
           2,
           2,
           2,
           1,
           3,
           4,
           5,
           0,
           0,
           3,
           3,
           5,
           5,
           5,
           3,
           1,
           0,
           5,
           1,
           3,
           2,
           3,
           2,
           0,
           3,
           0,
           5,
           5,
           5,
           2,
           5,
           0,
           5,
           1,
           1,
           1,
           0,
           5,
           5,
           2,
           5,
           2,
           5,
           5,
           5,
           5,
           2,
           3,
           4,
           2,
           0,
           4,
           0,
           2,
           0,
           4,
           3,
           0,
           0,
           5,
           0,
           0,
           3,
           3,
           3,
           5,
           0,
           1,
           3,
           0,
           3,
           2,
           5,
           2,
           2,
           3,
           3,
           5,
           0,
           0,
           0,
           5,
           5,
           2,
           1,
           2,
           2,
           5,
           0,
           0,
           2,
           5,
           0,
           0,
           1,
           3,
           3,
           4,
           4,
           1,
           4,
           4,
           1,
           3,
           5,
           2,
           1,
           2,
           5,
           3,
           5,
           1,
           0,
           0,
           5,
           1,
           2,
           0,
           3,
           0,
           2,
           1,
           3,
           1,
           0,
           0,
           3,
           0,
           5,
           1,
           3,
           5,
           3,
           3,
           3,
           5,
           1,
           0,
           4,
           0,
           5,
           3,
           5,
           2,
           1,
           5,
           3,
           1,
           3,
           1,
           2,
           1,
           5,
           2,
           3,
           2,
           5,
           3,
           2,
           4,
           3,
           2,
           2,
           5,
           5,
           2,
           2,
           2,
           5,
           4,
           0,
           1,
           3,
           2,
           1,
           0,
           0,
           0,
           2,
           5,
           3,
           5,
           3,
           0,
           0,
           5,
           4,
           3,
           1,
           1,
           5,
           2,
           2,
           0,
           3,
           0,
           1,
           0,
           3,
           3,
           0,
           0,
           1,
           3,
           4,
           1,
           5,
           3,
           2,
           1,
           3,
           1,
           3,
           3,
           0,
           2,
           2,
           5,
           5,
           5,
           5,
           3,
           1,
           4,
           0,
           5,
           1,
           2,
           3,
           1,
           1,
           4,
           3,
           1,
           5,
           1,
           0,
           0,
           2,
           3,
           3,
           2,
           0,
           4,
           5,
           1,
           1,
           4,
           4,
           4,
           1,
           2,
           3,
           2,
           2,
           0,
           2,
           2,
           0,
           2,
           2,
           3,
           5,
           5,
           1,
           1,
           2,
           3,
           0,
           0,
           0,
           3,
           0,
           5,
           0,
           1,
           5,
           5,
           2,
           2,
           5,
           5,
           1,
           5,
           5,
           1,
           3,
           0,
           2,
           1,
           1,
           3,
           3,
           2,
           3,
           0,
           3,
           1,
           5,
           5,
           5,
           5,
           3,
           0,
           3,
           2,
           3,
           2,
           2,
           3,
           5,
           3,
           2,
           0,
           5,
           3,
           1,
           3,
           5,
           2,
           2,
           0,
           4,
           1,
           3,
           0,
           1,
           1,
           0,
           0,
           2,
           1,
           5,
           3,
           4,
           5,
           5,
           3,
           2,
           3,
           1,
           3,
           4,
           3,
           0,
           5,
           3,
           3,
           5,
           1,
           3,
           3,
           3,
           4,
           0,
           1,
           0,
           5,
           5,
           5,
           0,
           3,
           5,
           5,
           3,
           1,
           0,
           4,
           5,
           1,
           1,
           2,
           5,
           2,
           1,
           0,
           5,
           2,
           0,
           1,
           3,
           1,
           0,
           4,
           1,
           3,
           5,
           1,
           5,
           2,
           1,
           5,
           3,
           2,
           5,
           0,
           0,
           2,
           3,
           0,
           0,
           0,
           0,
           3,
           1,
           1,
           0,
           5,
           3,
           5,
           1,
           5,
           5,
           3,
           0,
           2,
           5,
           5,
           1,
           1,
           0,
           5,
           1,
           2,
           1,
           0,
           0,
           5,
           2,
           5,
           2,
           0,
           3,
           1,
           0,
           1,
           3,
           5,
           2,
           3,
           5,
           3,
           2,
           1,
           5,
           3,
           5,
           1,
           4,
           3,
           1,
           0,
           0,
           5,
           3,
           2,
           3,
           1,
           5,
           5,
           5,
           5,
           1,
           5,
           3,
           5,
           1,
           3,
           3,
           1,
           4,
           3,
           2,
           5,
           2,
           2,
           3,
           0,
           1,
           2,
           0,
           1,
           5,
           0,
           4,
           5,
           1,
           1,
           2,
           5,
           5,
           5,
           3,
           3,
           5,
           5,
           5,
           1,
           3,
           3,
           2,
           3,
           3,
           1,
           5,
           0,
           3,
           3,
           5,
           1,
           5,
           5,
           3,
           1,
           3,
           3,
           3,
           1,
           1,
           0,
           0,
           3,
           4,
           2,
           2,
           3,
           5,
           3,
           1,
           2,
           2,
           5,
           3,
           3,
           1,
           2,
           5,
           1,
           3,
           0,
           5,
           5,
           1,
           0,
           2,
           0,
           1,
           5,
           0,
           0,
           2,
           5,
           3,
           5,
           5,
           5,
           3,
           4,
           3,
           3,
           1,
           1,
           1,
           0,
           4,
           0,
           0,
           5,
           1,
           3,
           1,
           5,
           3,
           0,
           0,
           0,
           1,
           5,
           1,
           5,
           2,
           5,
           0,
           1,
           2,
           1,
           5,
           5,
           5,
           2,
           3,
           3,
           3,
           1,
           2,
           2,
           5,
           1,
           5,
           2,
           1,
           1,
           4,
           3,
           4,
           5,
           5,
           3,
           3,
           1
          ],
          "coloraxis": "coloraxis",
          "symbol": "circle"
         },
         "mode": "markers",
         "name": "",
         "showlegend": false,
         "type": "scattergl",
         "x": [
          13.398538,
          -16.382965,
          20.207012,
          -0.769052,
          5.357163,
          24.972286,
          11.113315,
          -24.898005,
          -4.628345,
          -18.059584,
          -7.918384,
          -21.072824,
          6.31565,
          24.877911,
          3.727612,
          -40.201614,
          4.228458,
          9.448136,
          -15.660917,
          15.949319,
          14.007587,
          12.406279,
          11.861338,
          1.773127,
          7.165889,
          12.947489,
          -1.343802,
          -13.062159,
          -43.497044,
          -6.568546,
          -17.405664,
          -10.06978,
          -8.275954,
          29.680822,
          19.408852,
          -12.570004,
          -1.626164,
          -20.002916,
          20.546835,
          16.709766,
          0.198531,
          9.849365,
          9.419487,
          -29.778399,
          -30.100039,
          -30.681829,
          7.464228,
          -0.605356,
          3.180505,
          9.010673,
          9.332893,
          24.648569,
          -3.659664,
          -7.974861,
          30.180109,
          2.524107,
          16.957993,
          -13.610785,
          -5.846823,
          8.12969,
          6.593239,
          -13.134299,
          10.591863,
          8.658277,
          -7.95792,
          -1.324246,
          21.920582,
          24.754793,
          8.049094,
          -10.329889,
          -1.136472,
          -47.88166,
          -1.344113,
          2.832401,
          23.760086,
          -2.531109,
          6.31565,
          5.597168,
          22.04562,
          18.399345,
          8.785762,
          -22.162931,
          0.195197,
          -22.927528,
          -3.279674,
          18.825901,
          -8.987806,
          1.414733,
          -1.711182,
          -11.281228,
          -5.846708,
          15.411913,
          -20.802471,
          1.05604,
          3.089531,
          -0.110034,
          11.560015,
          -9.284754,
          4.813592,
          1.145707,
          -27.498966,
          2.96116,
          -11.149566,
          -0.080921,
          -1.71924,
          0.477553,
          18.949974,
          5.357163,
          -6.165468,
          0.351145,
          -3.819836,
          2.71534,
          3.633777,
          3.975047,
          24.707222,
          21.710075,
          18.385929,
          27.206787,
          -47.359749,
          15.911852,
          19.408884,
          10.926805,
          12.921638,
          -7.926497,
          -27.451845,
          -26.162935,
          -13.43264,
          -5.059128,
          14.445009,
          8.67149,
          4.793128,
          -1.968707,
          23.017168,
          12.882107,
          9.766585,
          -3.031741,
          1.698094,
          2.783411,
          16.285524,
          3.299764,
          18.658106,
          26.12878,
          -5.901104,
          11.20449,
          -20.016472,
          -28.277899,
          22.925976,
          4.966724,
          -26.904325,
          5.302628,
          -45.839085,
          -11.824674,
          7.218225,
          -12.009,
          17.169376,
          24.930996,
          -7.539602,
          17.444115,
          14.613383,
          5.344738,
          -30.54035,
          -9.22271,
          9.263922,
          20.813442,
          -9.227282,
          19.499592,
          -1.141855,
          18.911354,
          19.258369,
          18.910921,
          7.40382,
          11.979546,
          7.725288,
          1.010016,
          3.867999,
          25.39633,
          -13.720707,
          -21.796116,
          25.645058,
          19.258261,
          -0.943456,
          11.167315,
          -9.644058,
          11.830154,
          17.941378,
          26.25371,
          -41.824249,
          19.894417,
          -9.800779,
          12.391864,
          9.81477,
          11.406816,
          17.111645,
          20.390247,
          3.645553,
          3.465374,
          8.108302,
          -38.044659,
          -10.809918,
          13.759634,
          23.5753,
          -5.246691,
          21.532234,
          11.873379,
          -2.571701,
          4.13129,
          -29.557312,
          -24.86655,
          4.262378,
          7.468789,
          -1.67283,
          -0.239139,
          -16.972881,
          14.883063,
          -12.726577,
          -12.752712,
          -5.711069,
          13.558987,
          18.024704,
          22.688957,
          -26.55242,
          27.205746,
          -0.658634,
          -14.59028,
          -0.375215,
          -2.383277,
          1.153774,
          -1.3244,
          0.807281,
          5.187434,
          15.93622,
          31.580526,
          18.826319,
          -30.252321,
          10.606117,
          -9.288706,
          -3.602131,
          10.126093,
          -7.926034,
          22.77351,
          -14.199614,
          -5.670806,
          11.44285,
          9.627458,
          18.72434,
          9.603019,
          18.802427,
          8.671437,
          -13.19082,
          -29.187868,
          11.553759,
          -17.405134,
          -32.017197,
          9.829602,
          -43.874557,
          -33.740421,
          -18.223497,
          17.837072,
          11.834093,
          -1.019082,
          4.526205,
          -1.732639,
          19.847523,
          -26.993748,
          -0.985475,
          2.257912,
          4.612744,
          8.886732,
          -27.012156,
          15.826451,
          7.349713,
          19.316212,
          9.567706,
          -21.920732,
          25.852146,
          -1.453003,
          2.531983,
          20.291245,
          18.210659,
          -32.837875,
          -0.299244,
          -11.156241,
          -31.122913,
          4.257913,
          20.274736,
          26.727745,
          12.882106,
          -4.877228,
          23.322378,
          17.694841,
          -1.813824,
          11.790492,
          4.691832,
          1.359882,
          -28.220341,
          18.013369,
          7.7985,
          16.232323,
          -43.722103,
          -43.190876,
          -9.715694,
          -3.142006,
          -23.584974,
          11.662642,
          16.844158,
          -11.046198,
          25.765749,
          17.658718,
          -38.866352,
          21.387491,
          14.165492,
          -16.27948,
          18.880276,
          6.815797,
          -1.736789,
          8.573524,
          -28.438829,
          5.095744,
          24.715841,
          -21.120441,
          12.391829,
          5.305024,
          -0.977876,
          11.83378,
          22.382296,
          -3.930405,
          -29.522659,
          9.459723,
          -15.312238,
          16.1943,
          11.112807,
          -23.637947,
          -11.412153,
          14.245398,
          8.239032,
          24.342222,
          -40.635273,
          -25.101242,
          -11.949883,
          -10.543726,
          7.10789,
          -4.277543,
          9.456911,
          23.062332,
          10.832418,
          3.592929,
          6.083443,
          -12.077735,
          13.930925,
          18.23052,
          3.782559,
          -4.384808,
          8.336624,
          -12.94027,
          10.536887,
          -18.748804,
          -22.481237,
          3.140944,
          -12.926556,
          17.656479,
          2.289764,
          21.102531,
          -30.959908,
          20.484364,
          3.254139,
          0.457943,
          0.356852,
          15.554449,
          -0.011688,
          -10.069775,
          8.364243,
          3.162089,
          15.930162,
          -10.133697,
          -25.908981,
          9.969906,
          12.489863,
          -3.931278,
          10.489192,
          0.207825,
          -12.61301,
          -5.094511,
          21.810081,
          9.399011,
          -12.181018,
          -25.453838,
          18.465876,
          -7.742878,
          2.267544,
          -2.928811,
          -27.098774,
          -6.105012,
          21.939184,
          14.295362,
          15.810434,
          -1.504229,
          16.880966,
          8.968053,
          -9.909913,
          14.916877,
          -26.860743,
          -9.759774,
          -14.789631,
          16.366974,
          18.782032,
          8.968045,
          2.803978,
          -45.709011,
          -46.1381,
          -44.450836,
          -23.480921,
          -11.112521,
          8.714524,
          -19.099077,
          -17.887089,
          -14.989736,
          10.684365,
          -26.218529,
          -7.2586,
          -23.846254,
          -3.707073,
          0.442734,
          22.040869,
          9.574454,
          -8.944661,
          7.045397,
          -9.555786,
          22.228312,
          12.138601,
          -25.101305,
          4.286219,
          6.251618,
          9.170052,
          -17.510405,
          -1.662771,
          6.069727,
          23.872793,
          1.40982,
          -15.582136,
          0.385211,
          -0.769055,
          -17.732044,
          -3.012465,
          33.5532,
          -0.298802,
          21.839188,
          -2.327151,
          14.27443,
          -3.009258,
          -0.381691,
          1.142663,
          -3.547656,
          15.883677,
          3.47683,
          21.029505,
          2.508132,
          15.065332,
          -9.814316,
          7.20871,
          14.114174,
          -7.947959,
          -8.014221,
          16.606829,
          -5.563835,
          6.868288,
          -0.29861,
          -11.838054,
          0.926834,
          13.843626,
          -19.606617,
          13.021929,
          -1.05772,
          17.527719,
          21.697048,
          17.726923,
          1.518776,
          -3.819723,
          -23.687166,
          -21.958464,
          0.582374,
          3.260379,
          -14.149644,
          3.369818,
          14.508307,
          -2.846777,
          -5.948795,
          -23.893244,
          -14.309255,
          12.510588,
          -39.957863,
          -20.272995,
          -7.612687,
          9.917378,
          1.853281,
          -25.846502,
          14.316048,
          0.808816,
          -1.917395,
          4.193678,
          -28.962938,
          4.50347,
          11.330198,
          -1.513391,
          20.477036,
          20.789507,
          28.026628,
          12.724758,
          22.045069,
          16.461592,
          18.829102,
          -8.036761,
          -11.824839,
          -28.940142,
          1.103018,
          13.645885,
          12.705923,
          -36.522141,
          1.394243,
          -0.011297,
          17.676008,
          0.002655,
          15.686514,
          31.081476,
          -45.161964,
          -2.596005,
          -6.515605,
          24.914669,
          7.138161,
          1.592286,
          25.147158,
          5.487123,
          11.67446,
          16.620888,
          -20.57885,
          -5.783864,
          -2.296201,
          4.460359,
          6.664115,
          4.155496,
          6.493933,
          2.815187,
          21.259792,
          0.251312,
          15.585279,
          19.831299,
          4.842124,
          -10.384716,
          -4.030096,
          10.349563,
          4.911411,
          24.815565,
          5.04742,
          12.319662,
          21.423254,
          1.636405,
          24.189796,
          -30.122644,
          11.077101,
          2.742503,
          19.080782,
          1.148908,
          -5.718,
          8.290468,
          5.199879,
          -0.277954,
          -12.864757,
          19.618113,
          12.885049,
          -14.696953,
          -9.475581,
          -20.866011,
          19.231754,
          30.618908,
          -25.566721,
          -11.444802,
          15.460883,
          -0.296335,
          15.3332,
          21.221256,
          4.794008,
          -10.224298,
          -14.002975,
          20.274008,
          6.134116,
          27.463692,
          -19.026903,
          15.595681,
          13.743406,
          -0.836623,
          -31.453455,
          -5.866027,
          -25.034998,
          27.603758,
          24.558088,
          1.40245,
          1.788738,
          31.951708,
          8.270768,
          12.908548,
          10.460732,
          -0.333568,
          9.730534,
          -2.926912,
          28.475687,
          28.352619,
          -0.943853,
          -41.421455,
          -41.651161,
          15.911262,
          -33.049473,
          -29.925936,
          8.476369,
          1.700943,
          33.558956,
          6.895756,
          33.381962,
          -5.35439,
          22.678421,
          8.735281,
          14.988066,
          4.078218,
          -0.429001,
          9.771574,
          -3.074929,
          -1.428781,
          4.489478,
          -32.101055,
          1.475978,
          6.482501,
          -20.414009,
          -10.112522,
          -13.42638,
          17.693117,
          17.937662,
          2.606845,
          -23.500849,
          4.845348,
          -20.852055,
          1.650964,
          8.515757,
          23.623857,
          2.990662,
          5.215155,
          15.033638,
          -25.909121,
          18.466087,
          10.243193,
          -6.105019,
          -9.56942,
          -28.963135,
          -9.918913,
          10.853766,
          28.182919,
          21.334175,
          -17.282181,
          -14.5902,
          -20.061289,
          22.800022,
          12.2143,
          -28.199129,
          -8.801687,
          -24.30624,
          8.390704,
          -17.782751,
          6.810313,
          -17.774748,
          -3.207973,
          11.594969,
          3.572646,
          31.952311,
          15.476968,
          -22.412464,
          -4.805979,
          6.540498,
          -1.748146,
          1.31141,
          16.507284,
          -45.149796,
          -46.185196,
          6.825983,
          5.164884,
          7.694747,
          -1.420785,
          -6.083246,
          10.209282,
          9.767653,
          -1.031299,
          -22.396187,
          -5.094891,
          2.715359,
          -9.851058,
          9.396463,
          5.718171,
          -13.748043,
          8.143609,
          -14.578238,
          25.043941,
          -6.153084,
          -6.277106,
          -26.194756,
          14.614152,
          5.78595,
          8.54847,
          -3.61275,
          -14.206947,
          23.597376,
          -13.168605,
          -12.129803,
          5.067145,
          -18.371002,
          14.245506,
          23.151255,
          -0.563421,
          -24.7817,
          -34.827759,
          4.44382,
          -10.355091,
          5.960811,
          5.120066,
          16.65613,
          -21.766857,
          -5.487352,
          25.370781,
          -8.944784,
          -8.635741,
          4.963546,
          -6.168803,
          4.371107,
          -14.516765,
          -7.215864,
          -7.108099,
          10.820367,
          11.52887,
          -9.636168,
          3.955664,
          13.85671,
          4.682738,
          -9.561852,
          0.398954,
          5.98345,
          5.136489,
          26.341034,
          -0.994779,
          2.135856,
          -0.23866,
          5.006597,
          -27.999189,
          4.221781,
          15.39913,
          -8.0737,
          13.642047,
          28.157949,
          -5.85768,
          0.247879,
          28.121153,
          -11.144387,
          13.828976,
          24.116253,
          8.150827,
          17.113354,
          0.914509,
          6.455647,
          5.078606,
          -19.375988,
          -44.356243,
          -1.481435,
          -1.529876,
          -28.34643,
          4.224584,
          -29.725338,
          -30.578466,
          -29.42428,
          7.129193,
          14.087882,
          1.968171,
          -44.047359,
          5.607514,
          5.711177,
          -26.106895,
          -20.061377,
          33.717506,
          3.229385,
          20.605949,
          -5.375858,
          -9.329338,
          -30.203449,
          20.506868,
          -21.072977,
          -22.759249,
          -0.691734,
          -9.16369,
          -7.582893,
          -3.659629,
          -0.212328,
          -9.247353,
          5.512228,
          -24.934793,
          20.907314,
          10.605701,
          -0.781204,
          12.78371,
          2.964517,
          18.253319,
          -20.589024,
          -12.133718,
          -19.902786,
          -13.588123,
          6.277471,
          -13.147593,
          11.643744,
          16.034307,
          -16.57025,
          -10.74581,
          2.161404,
          -0.456228,
          7.093934,
          -24.986927,
          -10.384758,
          16.379936,
          13.121985,
          -2.183247,
          16.948771,
          0.57386,
          12.438497,
          17.301529,
          15.437974,
          12.240037,
          -10.256721,
          -33.235718,
          17.607452,
          -26.735432,
          -45.384575,
          -24.667873,
          24.2092,
          -24.986959,
          -46.387451,
          -15.179363,
          -22.8316,
          -23.584967,
          -9.33161,
          -16.808521,
          -26.80689,
          -9.809572,
          -4.853464,
          -13.646832,
          9.968352,
          -12.443217,
          0.71435,
          5.424609,
          -11.142373,
          4.526551,
          15.428227,
          10.044051,
          21.878014,
          14.520363,
          4.410826,
          -16.802547,
          -9.351116,
          -20.414305,
          -12.289723,
          -27.980686,
          -6.686091,
          5.051448,
          14.991859,
          0.536394,
          23.677155,
          10.174972,
          17.409237,
          -30.481186,
          -27.711563,
          28.330679,
          1.409813,
          -17.547693,
          -28.31539,
          0.739106,
          -2.620806,
          10.10007,
          -45.443951,
          -44.973179,
          -15.999349,
          -30.114264,
          -44.772469,
          -2.087939,
          -5.924023,
          15.946025,
          24.675177,
          -15.660892,
          22.012049,
          1.076091,
          1.170736,
          9.766593,
          2.767056,
          -24.846231,
          -24.160812,
          -7.825496,
          4.887729,
          9.774688,
          -17.178402,
          -0.879973,
          -21.726631,
          14.594769,
          7.961353,
          -16.717285,
          12.569636,
          -21.480606,
          -26.774158,
          -7.624638,
          -27.532104,
          -2.641152,
          -0.499913,
          -9.338695,
          18.933447,
          -1.083527,
          -6.662453,
          -10.248091,
          8.399246,
          -2.000242,
          -27.443308,
          -43.104271,
          -24.749256,
          18.109917,
          -1.914633,
          -4.093673,
          23.242449,
          -4.443057,
          7.904056,
          -4.063791,
          6.525771,
          -1.805862,
          1.547254,
          12.546615,
          -4.538351,
          3.331109,
          17.538567,
          -15.144568,
          19.724716,
          0.508358,
          -17.195414,
          15.883674,
          -42.382343,
          -10.498886,
          23.940285,
          16.462122,
          13.951664,
          21.423429,
          27.383879,
          26.798546,
          15.505682,
          -7.926543,
          -39.592964,
          -18.669889,
          1.131044,
          -10.251291,
          19.378004,
          10.990887,
          -17.78368,
          -24.413725,
          -17.73575,
          5.192714,
          23.425274,
          -14.846553,
          0.120311,
          -17.361187,
          -17.195171,
          -18.536623,
          13.148241,
          -41.082371,
          -4.052852,
          -11.744976,
          0.096254,
          8.350537,
          24.80407,
          16.701683,
          -12.035501,
          1.03295,
          -28.065058,
          2.51794,
          -17.868286,
          -9.160283,
          1.796686,
          -20.289457,
          -19.302526,
          -2.127789,
          -15.552387,
          -30.89596,
          0.757706,
          0.867471,
          8.002195,
          28.121401,
          -5.034671,
          -13.149426,
          0.947294,
          -10.797866,
          -10.930122,
          -20.807835,
          25.768431,
          23.677172,
          8.611421,
          -0.23628,
          -7.701384,
          -4.676383,
          1.002301,
          4.82135,
          -45.123833,
          -19.392178,
          -9.22271,
          -5.777863,
          20.291245,
          0.935078,
          12.589084,
          0.606169,
          -41.030125,
          -8.10629,
          8.567249,
          0.867469,
          -1.26217,
          -22.549355,
          -21.400208,
          26.228016,
          2.526414,
          4.958024,
          25.818575,
          -23.43368,
          -42.104343,
          18.004436,
          -3.102329,
          6.103334,
          -44.718597,
          -29.953863,
          -43.527939,
          -2.534266,
          15.783129,
          -3.448561,
          23.658674,
          22.621962,
          -5.345934,
          33.671177,
          24.002983,
          -21.088907,
          25.412561,
          12.01672,
          -21.117008,
          17.929928,
          -1.952096,
          1.587867,
          -4.032823,
          7.385884,
          -3.619202,
          -17.63464,
          -26.901091,
          -17.3517,
          -21.021175,
          -26.990084,
          14.414332,
          -20.898268,
          -2.152076,
          6.233903,
          0.687183,
          21.453955,
          22.601374,
          4.670085,
          14.846833,
          -6.518017,
          9.15852,
          12.547259,
          2.918983,
          -10.761343,
          -11.323067,
          8.002644,
          5.800633,
          2.406111,
          -8.332129,
          -13.298504,
          7.677027,
          -21.022533,
          -13.65382,
          2.861861,
          4.368665,
          14.038995,
          6.216444,
          0.807228,
          2.361315,
          -7.377718,
          -23.247471,
          -19.195089,
          12.873684,
          -18.152306,
          20.503906,
          19.725718,
          -5.304728,
          2.902176,
          4.76333,
          24.273355,
          -13.998339,
          23.483492,
          1.52162,
          7.251178,
          0.723341,
          -0.785199,
          11.172006,
          8.697425,
          -17.222458,
          -29.679955,
          15.603833,
          -11.65382,
          -27.559307,
          6.850929,
          0.92589,
          -18.314344,
          -14.06824,
          1.377169,
          10.005006,
          -0.659581,
          -12.649852,
          -40.331032,
          11.888425,
          20.582886,
          -13.614083,
          28.65196,
          4.248878,
          3.973915,
          -8.423114,
          -42.685963,
          2.385473,
          -12.111549,
          20.998007,
          4.315143,
          -5.787843,
          25.185617,
          -0.496167,
          -3.562631,
          -11.249587,
          -10.681393,
          -44.246098,
          -23.485954,
          2.398993,
          -30.21718,
          6.054368,
          17.670141,
          19.863979,
          -24.815569,
          -14.901424,
          12.483645,
          2.249052,
          0.238585,
          5.63046,
          -26.075539,
          -44.494389,
          4.677355,
          4.307199,
          -4.896712,
          24.300629,
          13.168663,
          14.561111,
          -0.226755,
          -9.901879,
          21.119091,
          13.594002,
          -9.576631,
          2.015751,
          -21.732433,
          3.900014,
          -26.664293,
          -43.395916,
          1.127533,
          -3.272576,
          -4.024382,
          4.405551,
          4.992755,
          5.357626,
          -12.029757,
          16.187162,
          -0.146946,
          9.799718,
          3.278863,
          -30.097027,
          -23.626354,
          24.92551,
          0.356325,
          -25.961102,
          -21.796242,
          -24.090372,
          -26.978258,
          -7.861882,
          -1.090263,
          2.128557,
          -23.473967,
          -4.24021,
          -6.575195,
          20.965025,
          -7.014184,
          -11.596994,
          -0.913228,
          -1.708069,
          -23.305294,
          19.546436,
          -3.142053,
          19.316965,
          3.153646,
          -6.483424,
          -21.604057,
          4.385021,
          -4.117025,
          22.533409,
          16.178471,
          -22.616871,
          -26.099451,
          18.649584,
          24.596375,
          4.629436,
          28.380478,
          -21.925377,
          -3.131092,
          1.395533,
          -1.900614,
          1.088329,
          -7.662829,
          9.285965,
          26.552834,
          -3.954218,
          16.844311,
          -12.146302,
          8.098718,
          1.538596,
          19.171371,
          -3.326763,
          17.243954,
          -4.289503,
          -39.861488,
          -7.194056,
          5.445489,
          -19.394148,
          -20.115011,
          5.229014,
          -2.682865,
          13.778835,
          -5.344882,
          6.735537,
          9.372272,
          4.20422,
          15.43017,
          -12.165134,
          -3.652869,
          7.329819,
          3.507411,
          11.263719,
          9.524447,
          -4.743245,
          -10.546029,
          -9.452527,
          -42.336777,
          -0.678031,
          28.213531,
          18.483232,
          25.044004,
          7.877857,
          -13.107512,
          -20.494225,
          0.082165,
          15.505563,
          -23.926426,
          4.056574,
          4.841384,
          -15.304428,
          -38.934704,
          2.934189,
          -0.177654,
          -6.462587,
          2.215736,
          -11.397936,
          15.211357,
          12.468109,
          -7.363054,
          -6.800309,
          10.668144,
          30.002184,
          2.772563,
          -0.765022,
          -4.782662,
          -1.565911,
          13.80771,
          -6.473467,
          -8.66315,
          1.939061,
          10.758595,
          -27.268158,
          -5.094468,
          4.13645,
          10.264647,
          6.999068,
          7.159618,
          25.880325,
          4.791008,
          0.728283,
          -7.686172,
          -4.552851,
          -8.044788,
          -12.192741,
          8.844921,
          -14.955662,
          -22.474186,
          -11.502878,
          -42.292526,
          18.663483,
          26.071283,
          -5.144057,
          11.758207,
          -1.71855,
          0.171318,
          28.004667,
          22.187046,
          4.208898,
          4.828428,
          0.803805,
          10.48007,
          24.490845,
          3.440068,
          -7.28071,
          -14.997482,
          -26.776173,
          14.034767,
          1.682781,
          1.000569,
          -24.910694,
          21.433704,
          -27.361864,
          11.8091,
          -6.008307,
          -20.446884,
          -19.766113,
          18.403572,
          7.808071,
          -17.645355,
          9.078854,
          20.087374,
          4.529272,
          -9.731324,
          -33.621059,
          -5.630203,
          -6.320838,
          -4.493041,
          2.898847,
          -0.072431,
          -20.668697,
          -38.218971,
          -19.397495,
          -28.538139,
          -1.654069,
          -4.748956,
          -2.495679,
          5.528067,
          6.974554,
          -11.421865,
          -19.476488,
          -20.060991,
          -24.63728,
          -1.732223,
          15.309025,
          -7.526921,
          -6.196744,
          13.710304,
          9.91732,
          -20.271358,
          -1.113064,
          24.505417,
          -0.59116,
          13.174072,
          -6.001996,
          22.968134,
          30.505972,
          -10.616702,
          -15.540196,
          -16.104067,
          4.044027,
          20.329809,
          14.614033,
          12.532496,
          4.992916,
          -2.995606,
          23.529076,
          4.335306,
          -1.786581,
          -41.350182,
          -14.618972,
          -37.965771,
          14.248724,
          7.42405,
          -3.349123,
          -0.608335,
          2.69036
         ],
         "xaxis": "x",
         "y": [
          40.550636,
          20.474205,
          9.472539,
          -53.177727,
          -0.97617,
          27.564659,
          -44.051842,
          -12.427406,
          36.035404,
          -9.780946,
          13.268147,
          -32.553959,
          -4.035066,
          12.367795,
          44.968178,
          26.452032,
          24.085135,
          -20.645761,
          39.364357,
          14.652889,
          -0.386835,
          -30.512892,
          24.998674,
          50.510487,
          19.696726,
          -15.474427,
          61.512657,
          -16.270546,
          26.134167,
          40.781467,
          -35.236691,
          -26.367208,
          27.362431,
          -8.52526,
          14.30049,
          0.694484,
          52.318008,
          -15.69057,
          -33.767437,
          29.058529,
          36.219097,
          34.433414,
          -32.111115,
          21.533352,
          21.031755,
          20.412289,
          17.775202,
          -49.45747,
          -43.424332,
          -45.307213,
          -44.17741,
          28.921425,
          -51.321041,
          -33.342781,
          -8.031285,
          53.733444,
          -22.096899,
          -3.935043,
          -49.131424,
          16.182756,
          -30.75778,
          4.036602,
          -33.478401,
          -37.579342,
          -40.660748,
          -46.134758,
          8.593516,
          28.461359,
          47.461575,
          14.692167,
          30.584929,
          22.376795,
          61.512733,
          45.529343,
          11.776356,
          55.33374,
          -4.035066,
          33.627491,
          -2.933502,
          -27.21446,
          24.772648,
          -12.643437,
          54.010376,
          -11.189027,
          15.108022,
          -33.541512,
          -29.78334,
          3.606658,
          -29.191628,
          -39.576374,
          -49.131477,
          -39.785114,
          -22.579527,
          17.246126,
          52.994961,
          -9.748834,
          29.204977,
          -9.67985,
          -30.315056,
          -45.871151,
          -23.759209,
          -32.254631,
          -33.435497,
          -28.802099,
          -13.697927,
          -7.977417,
          -8.048031,
          -0.97617,
          14.132481,
          -26.459354,
          -48.736103,
          -41.160591,
          -29.17807,
          -34.688732,
          -23.482952,
          -25.441154,
          -29.322092,
          -31.649612,
          24.240162,
          2.738811,
          14.300082,
          -22.408545,
          1.715777,
          -50.410137,
          -2.328907,
          -13.984744,
          -33.774582,
          45.704357,
          -16.696608,
          9.350948,
          -50.70874,
          -40.698898,
          10.279213,
          -0.567581,
          -48.25811,
          -38.163418,
          53.115219,
          -21.133781,
          -18.852573,
          48.880077,
          12.845056,
          -0.492483,
          -43.322815,
          52.801647,
          -26.600372,
          -14.845813,
          9.803351,
          -47.116951,
          -21.967184,
          55.025711,
          21.996948,
          -16.247122,
          2.976056,
          -4.054216,
          7.824875,
          -35.205906,
          50.595142,
          -39.132862,
          10.574055,
          -35.463337,
          19.916826,
          -37.880852,
          31.914953,
          -21.31365,
          -30.38032,
          -32.532764,
          -27.367901,
          20.25581,
          18.988491,
          20.256071,
          30.964005,
          -11.954705,
          43.307529,
          44.477192,
          40.542061,
          23.015879,
          13.333949,
          -26.061018,
          25.159807,
          18.987925,
          -51.136208,
          -8.724141,
          -33.048695,
          -12.886174,
          17.257391,
          -26.161051,
          25.80271,
          -3.951111,
          44.116116,
          22.88784,
          23.681738,
          18.177668,
          3.722579,
          3.531314,
          -45.023823,
          38.221066,
          57.217052,
          23.028856,
          3.06236,
          -0.355781,
          -28.438839,
          -9.196748,
          -13.971351,
          -5.080339,
          -32.533119,
          -36.049099,
          -17.539806,
          -23.676783,
          36.726311,
          -28.55608,
          35.562775,
          -49.508411,
          0.85816,
          -35.797104,
          12.104671,
          12.202604,
          16.790037,
          40.297577,
          14.74224,
          -26.198725,
          -28.467171,
          -26.639757,
          20.983919,
          29.594341,
          -42.095264,
          -48.231209,
          -35.219513,
          -46.136581,
          -53.184341,
          17.82531,
          -24.075619,
          -5.626309,
          -21.634237,
          26.170321,
          -20.517214,
          29.638109,
          -26.231853,
          43.418266,
          38.271877,
          6.882515,
          -29.281736,
          11.221185,
          -38.155228,
          -2.822207,
          -30.667418,
          -46.211514,
          13.872025,
          9.350958,
          8.023116,
          20.380959,
          14.557355,
          -35.236694,
          23.360374,
          -36.497849,
          20.118107,
          23.917744,
          10.002808,
          13.664437,
          9.589767,
          44.928753,
          -32.625782,
          48.878742,
          -38.116135,
          -3.383928,
          -44.329193,
          27.406754,
          -9.143097,
          54.902721,
          -29.783134,
          -37.386826,
          48.445457,
          -16.307703,
          -27.182236,
          -35.671326,
          -22.421923,
          44.391262,
          44.441269,
          -5.361599,
          -19.15822,
          22.76265,
          37.577682,
          25.126266,
          -11.534895,
          28.553829,
          14.744324,
          -32.220078,
          -0.567581,
          32.199677,
          -33.783207,
          1.342423,
          -29.63275,
          14.984674,
          10.667577,
          18.231756,
          -22.985779,
          -7.46655,
          -10.838069,
          -36.259499,
          20.613577,
          20.751236,
          -48.852905,
          -35.497372,
          -29.297949,
          3.608133,
          14.796627,
          -5.771576,
          -30.330256,
          -36.623043,
          23.934458,
          13.421996,
          4.91656,
          5.06495,
          -17.395782,
          3.458902,
          0.16747,
          50.122234,
          -15.337553,
          57.769577,
          20.003605,
          -20.135429,
          22.887819,
          4.410517,
          28.853651,
          9.589458,
          -21.258894,
          30.459459,
          -21.313166,
          30.296612,
          -12.156102,
          5.537433,
          13.045577,
          -30.189222,
          -1.675901,
          -32.848476,
          41.068588,
          2.618832,
          24.644308,
          -31.52327,
          31.588266,
          12.586315,
          47.125286,
          -32.89484,
          -8.552445,
          -12.26151,
          -14.193633,
          40.418201,
          -18.832188,
          -5.993923,
          -3.231951,
          6.539287,
          55.187908,
          9.640944,
          -31.002123,
          16.259624,
          -16.623362,
          11.998503,
          -20.11869,
          17.369141,
          -23.021711,
          -30.912462,
          59.414116,
          -18.382233,
          -11.369665,
          -25.480194,
          23.063744,
          0.275612,
          -48.062275,
          -39.020447,
          45.541466,
          -26.367235,
          -39.933693,
          31.294493,
          -38.535931,
          -22.83201,
          -30.261971,
          -18.933516,
          -21.219509,
          27.486914,
          23.260906,
          20.902805,
          -20.434191,
          52.659428,
          -19.639505,
          5.617004,
          -7.048828,
          -22.544708,
          4.214533,
          27.408562,
          -45.32785,
          -46.000301,
          -1.560422,
          -40.990425,
          -26.459269,
          -35.685787,
          -33.662003,
          38.549976,
          -32.482353,
          7.459186,
          16.173828,
          7.749781,
          -32.116394,
          44.143543,
          -19.996181,
          5.422973,
          -4.113774,
          7.459183,
          41.393185,
          22.869715,
          21.577082,
          21.633348,
          -11.042242,
          19.287834,
          45.324207,
          -12.491326,
          3.352914,
          -3.262045,
          45.614685,
          -23.521965,
          32.039131,
          -16.285528,
          39.008335,
          25.376854,
          6.572207,
          -24.121101,
          -26.749975,
          -20.350622,
          -25.045696,
          4.358541,
          -22.635033,
          -31.523277,
          46.022411,
          37.177921,
          33.841938,
          -12.844006,
          47.809933,
          14.546815,
          -12.766089,
          -32.892483,
          25.463554,
          -9.663354,
          -53.177631,
          -24.923586,
          42.030991,
          -4.140766,
          -39.38549,
          13.44236,
          55.217728,
          -20.590368,
          45.840443,
          -26.987722,
          42.932594,
          -38.936039,
          -6.749744,
          38.1656,
          -31.578924,
          56.916588,
          -25.45306,
          -33.435532,
          -17.560059,
          38.618996,
          21.149506,
          -44.162704,
          -3.074908,
          35.003078,
          -17.585651,
          -39.385597,
          -43.678139,
          11.933919,
          33.661007,
          -20.837137,
          9.733488,
          -4.614542,
          -20.330927,
          -19.170656,
          -7.1524,
          52.347858,
          -48.735561,
          -34.743103,
          -10.809774,
          22.486115,
          -4.682899,
          -24.122173,
          -14.588736,
          -27.648884,
          35.467319,
          55.087849,
          -13.6787,
          -11.228415,
          17.916317,
          23.120296,
          -19.856022,
          32.961426,
          -41.018459,
          -31.998402,
          -15.940115,
          -45.161602,
          25.878469,
          53.643963,
          -34.067429,
          -27.585014,
          42.833344,
          29.248823,
          -33.778145,
          -26.909842,
          2.889894,
          21.257366,
          -26.212612,
          -2.932346,
          -29.062283,
          -13.919837,
          22.546156,
          -16.247156,
          21.051743,
          35.617249,
          5.997978,
          -3.604847,
          24.795387,
          14.134639,
          12.208458,
          -33.188301,
          -44.39642,
          -17.767878,
          -5.870211,
          23.049446,
          31.148537,
          -36.87682,
          -27.497847,
          -14.661717,
          51.044785,
          -19.074343,
          -29.525856,
          -13.488122,
          -33.568062,
          -18.296667,
          -34.608898,
          11.829339,
          -41.613449,
          11.332155,
          -39.828548,
          6.243381,
          21.58481,
          -10.882077,
          16.915754,
          -45.769043,
          -1.588933,
          3.481215,
          -41.699421,
          48.761791,
          -17.101263,
          12.146461,
          17.252674,
          55.776649,
          -20.729454,
          -27.449253,
          -21.398676,
          -12.48553,
          -23.348454,
          2.951047,
          23.667276,
          -20.953997,
          -37.900948,
          27.857582,
          -4.139217,
          9.95378,
          49.643951,
          31.116709,
          -19.246744,
          51.773857,
          40.608406,
          20.56863,
          4.874195,
          11.874916,
          -11.235192,
          -19.370661,
          32.515968,
          3.642156,
          47.843872,
          17.618414,
          -24.013689,
          45.91468,
          16.298252,
          -43.431713,
          -37.828468,
          -30.157051,
          -31.549679,
          -0.8912,
          -15.574631,
          -34.623981,
          51.736313,
          -13.231994,
          47.43251,
          -27.272055,
          -8.244688,
          -7.316079,
          -2.420957,
          55.271599,
          11.320529,
          29.281034,
          -18.554401,
          -35.278484,
          -48.145027,
          -43.488766,
          -43.628098,
          -17.663183,
          -17.242731,
          -51.135197,
          26.255081,
          24.624201,
          2.739566,
          25.266739,
          -10.212378,
          50.034679,
          -30.552883,
          -3.731705,
          46.548847,
          -0.01158,
          26.194002,
          -0.496994,
          51.715801,
          -6.510463,
          -36.666214,
          16.978815,
          -24.531073,
          48.472015,
          -37.202042,
          -45.193233,
          22.422411,
          3.932616,
          -42.459431,
          -37.450336,
          -40.698082,
          -20.330614,
          1.343463,
          2.12045,
          25.33061,
          5.122394,
          19.595491,
          -20.670099,
          10.404896,
          37.06208,
          -17.495102,
          -29.582764,
          -18.921461,
          30.897318,
          -30.261129,
          4.214577,
          22.517649,
          -40.990982,
          -8.152027,
          -27.585367,
          8.015044,
          -29.230015,
          -4.345194,
          -30.009512,
          0.263025,
          29.594345,
          -31.615366,
          -30.405233,
          -34.010086,
          -0.160341,
          26.167976,
          -16.736273,
          13.133421,
          -15.177848,
          -39.004517,
          6.947901,
          18.106245,
          -44.22953,
          11.210514,
          11.320452,
          17.63814,
          -4.651132,
          41.294594,
          54.174427,
          2.949478,
          37.658508,
          30.109058,
          21.654226,
          20.806683,
          -41.817558,
          51.337715,
          -26.779167,
          36.327133,
          15.80634,
          2.081214,
          52.170364,
          27.808683,
          -14.473042,
          -45.011475,
          -41.160488,
          20.564209,
          -8.82488,
          -7.725076,
          -0.292129,
          18.653316,
          -29.836679,
          -3.665384,
          7.778572,
          5.479053,
          -27.279657,
          10.573059,
          -40.713985,
          -3.382775,
          51.101261,
          -32.965115,
          12.241995,
          21.890278,
          21.320499,
          49.527348,
          -2.363759,
          -32.848312,
          -24.513891,
          -0.495834,
          -17.071436,
          23.539427,
          8.200619,
          9.962008,
          -27.33597,
          -8.786916,
          -26.86062,
          -21.14637,
          -31.937542,
          26.170555,
          -5.308558,
          38.129677,
          27.493469,
          -46.634968,
          57.124565,
          4.500323,
          8.099847,
          -2.411154,
          48.081291,
          -32.133942,
          -48.968342,
          17.777393,
          12.589666,
          44.641937,
          34.45335,
          -32.244797,
          43.324303,
          47.641342,
          -25.82793,
          55.526199,
          49.047283,
          14.026384,
          38.743633,
          -28.50565,
          -24.739824,
          30.384148,
          4.347824,
          -9.431539,
          -13.680611,
          1.471397,
          11.424002,
          5.001816,
          -44.39225,
          16.546553,
          -6.582133,
          1.379102,
          -11.890263,
          -34.261162,
          -33.118885,
          34.046989,
          -7.188892,
          24.822407,
          4.708672,
          -5.898302,
          -3.027191,
          -16.652994,
          20.621655,
          21.055197,
          19.761475,
          -14.215109,
          -23.907286,
          -38.240879,
          22.090971,
          58.741882,
          58.940788,
          -20.540812,
          -31.615498,
          -2.470941,
          -4.597732,
          10.730723,
          37.630032,
          24.252411,
          26.334368,
          -39.735039,
          -4.658379,
          -16.545671,
          9.002873,
          4.736088,
          -40.946129,
          -51.320927,
          -33.619209,
          7.034505,
          35.842567,
          -16.250057,
          -36.752487,
          46.645462,
          1.92106,
          5.361572,
          12.802777,
          9.438893,
          -13.464018,
          6.677281,
          -13.135354,
          -42.892807,
          -45.594929,
          -43.482738,
          -13.989355,
          -44.162064,
          -13.293849,
          -45.448677,
          31.566803,
          58.110771,
          31.348537,
          -28.641228,
          -41.69939,
          -22.060572,
          13.937124,
          -33.013721,
          -12.324912,
          -41.425407,
          -21.706285,
          -30.642418,
          -24.422781,
          1.539855,
          4.213464,
          22.764481,
          -8.414575,
          -2.700884,
          19.663521,
          -25.289604,
          -8.497253,
          -28.641289,
          22.560135,
          0.947224,
          -10.23887,
          -29.298014,
          -34.762035,
          -11.795913,
          -8.21615,
          -3.662104,
          11.92602,
          -0.613203,
          -26.953545,
          -24.049818,
          47.102966,
          16.990402,
          -34.162201,
          13.6099,
          15.737093,
          -35.873077,
          4.711365,
          0.430049,
          21.994934,
          12.086463,
          -32.601177,
          -37.450275,
          -36.127232,
          -16.955484,
          -38.101227,
          -38.414566,
          -16.371372,
          53.066822,
          1.223848,
          -9.647438,
          -25.253679,
          -19.876488,
          -13.610353,
          -16.220352,
          -32.892445,
          -27.406458,
          -19.26441,
          48.961845,
          0.406248,
          21.961546,
          20.845718,
          22.205889,
          38.917686,
          26.023647,
          20.903168,
          37.698334,
          -6.063436,
          -30.764299,
          20.489733,
          39.364395,
          -5.281759,
          -29.403208,
          9.492822,
          -48.257599,
          47.194447,
          -10.052742,
          -10.891839,
          -44.726208,
          41.111698,
          5.682498,
          -9.034882,
          19.02248,
          -30.744944,
          18.161697,
          40.69516,
          4.546386,
          23.892202,
          -18.58886,
          -13.157566,
          19.66256,
          -29.88829,
          -50.305939,
          50.422516,
          9.685826,
          -26.899174,
          -6.994757,
          23.828934,
          12.661059,
          -18.99106,
          57.720772,
          -20.231003,
          26.885628,
          -33.914497,
          -43.043438,
          13.091693,
          -47.877132,
          -1.952968,
          30.401863,
          -35.149979,
          5.821362,
          46.802773,
          -10.548671,
          49.191151,
          6.683981,
          49.456028,
          -35.688633,
          -3.576275,
          -1.82253,
          -0.987434,
          -46.870579,
          -1.944218,
          -6.749741,
          27.69426,
          4.157479,
          -19.812447,
          12.790824,
          -21.105593,
          -27.449718,
          -3.574732,
          -2.997615,
          12.012734,
          -50.410156,
          23.869215,
          -24.730171,
          45.217323,
          22.986073,
          -0.455848,
          52.58672,
          -15.177634,
          -15.3533,
          -27.541475,
          -1.586621,
          -24.890602,
          -3.282301,
          -27.967749,
          8.09684,
          -14.168637,
          -5.274433,
          -33.300777,
          23.663403,
          -4.03281,
          31.124985,
          39.906891,
          -44.269402,
          19.834499,
          -13.458206,
          -33.188885,
          12.631497,
          -20.77788,
          46.264229,
          -17.78174,
          8.008492,
          -2.990433,
          -36.926331,
          -13.34083,
          33.025002,
          25.452948,
          23.623098,
          39.700127,
          -50.034046,
          17.028221,
          5.001963,
          44.937614,
          14.376849,
          41.355831,
          17.983507,
          18.208857,
          -15.558807,
          -0.416415,
          1.223848,
          -16.878195,
          -45.64838,
          -38.417587,
          -41.289726,
          7.030501,
          47.72963,
          25.275892,
          -9.718637,
          -37.880863,
          28.368677,
          -5.361598,
          2.486093,
          41.367027,
          55.876091,
          27.273012,
          10.967995,
          30.808714,
          -50.034092,
          40.397594,
          -9.667277,
          -8.418093,
          -9.315418,
          24.110189,
          3.969769,
          -1.055773,
          -13.051405,
          26.901646,
          -27.760588,
          33.547482,
          56.079453,
          25.824213,
          19.886513,
          27.757702,
          43.549248,
          6.073707,
          22.396851,
          -17.541725,
          -7.376545,
          -12.389943,
          -1.549332,
          -14.745765,
          -6.334688,
          23.338554,
          11.254952,
          2.717568,
          -20.580217,
          -35.124634,
          41.958076,
          37.886578,
          4.85375,
          2.324772,
          -25.188908,
          -35.77158,
          -5.503942,
          4.896167,
          -36.319656,
          -18.018507,
          -2.164943,
          46.246178,
          -22.426229,
          -35.963848,
          1.481476,
          -4.281398,
          -22.718899,
          -29.11204,
          45.609585,
          -29.980164,
          -42.779068,
          42.769684,
          -0.432409,
          -8.680326,
          1.55404,
          52.381966,
          37.238804,
          22.96896,
          22.008379,
          -10.334065,
          3.912253,
          -14.299553,
          -0.072881,
          31.017698,
          -30.820086,
          -43.385681,
          -53.184319,
          -47.208744,
          9.063819,
          -15.549275,
          0.454015,
          -14.821899,
          11.100406,
          5.731036,
          9.372917,
          11.472522,
          -27.158604,
          13.663893,
          12.570696,
          -24.448782,
          -28.046333,
          0.260442,
          57.007492,
          -5.712843,
          -36.739044,
          -15.224423,
          -12.068292,
          -10.602598,
          27.074932,
          29.01742,
          7.104968,
          -13.261982,
          44.756668,
          51.201035,
          -28.766609,
          -27.708969,
          -10.574018,
          50.275982,
          -34.185383,
          3.598079,
          25.360126,
          -37.957306,
          -34.236374,
          19.319519,
          -3.057473,
          14.813693,
          49.46582,
          18.249998,
          25.269896,
          19.377947,
          -29.52356,
          -40.151516,
          9.164273,
          4.102979,
          -24.043758,
          31.23712,
          17.642498,
          -0.872529,
          -4.602623,
          27.218689,
          -8.78985,
          39.767193,
          -21.877762,
          -47.87899,
          -37.54673,
          -29.120083,
          -14.475372,
          -0.004794,
          -35.91898,
          -23.08312,
          6.852626,
          35.882191,
          -0.168823,
          22.835279,
          -15.104274,
          52.446186,
          47.507626,
          -6.825429,
          -26.439701,
          7.635561,
          52.565525,
          -23.834906,
          -32.685688,
          -6.663584,
          -10.03685,
          35.745975,
          0.85517,
          49.845108,
          -19.014376,
          24.712828,
          29.476091,
          18.695114,
          -26.441965,
          41.305283,
          -39.428501,
          -7.234906,
          30.624105,
          -44.358234,
          0.333729,
          -13.518888,
          -19.619677,
          -19.124163,
          -33.452808,
          -2.57906,
          -6.179225,
          -2.668126,
          -26.061029,
          -19.889597,
          -14.237977,
          3.322912,
          28.159594,
          59.142723,
          -15.060117,
          -51.548298,
          15.481379,
          -30.914579,
          31.339615,
          -36.011383,
          -47.047794,
          -0.944234,
          -25.461449,
          7.376887,
          -35.497242,
          -28.083693,
          51.492458,
          56.211903,
          -19.447609,
          -38.260735,
          36.081764,
          -0.282329,
          24.203236,
          -33.593636,
          -22.260962,
          -22.632641,
          3.087907,
          -20.622337,
          -12.302964,
          -22.894066,
          14.871465,
          39.250057,
          -11.710607,
          47.408443,
          16.713085,
          -31.145792,
          -6.058381,
          7.491064,
          -29.402824,
          10.573037,
          -2.970499,
          33.889233,
          -42.538231,
          19.784168,
          -19.839931,
          44.198814,
          24.311239,
          16.67391,
          27.179537,
          -5.360312,
          -19.108534,
          -36.632713,
          22.240536,
          3.611321,
          -8.98922,
          40.153763,
          -39.627033,
          -15.50828,
          -28.549603,
          -39.392319,
          41.169773,
          -36.114635,
          1.866009,
          -19.095119,
          54.618214,
          20.91077,
          -4.288624,
          30.016186,
          23.935385,
          23.300041,
          -7.884977,
          -25.306026,
          -3.66556,
          -4.733416,
          -2.209263,
          -27.658533,
          34.959141,
          12.013209,
          -18.649803,
          52.533367,
          -38.19146,
          -4.214845,
          24.823074,
          -47.058388,
          41.653828,
          56.229485,
          -7.506148,
          -40.444252,
          -30.880091,
          -24.722973,
          0.952265,
          1.19855,
          -26.666759,
          -28.507772,
          -34.195599,
          43.155121,
          22.603008,
          -10.319864,
          -9.616452,
          9.45563,
          5.185269,
          47.925991,
          -30.662952,
          -17.429886,
          7.358554,
          6.741741,
          -19.619881,
          51.106987,
          -23.19969,
          -22.370384,
          10.777079,
          44.256744,
          9.690637,
          20.042522,
          14.280513,
          32.46767,
          28.402916,
          -12.336206,
          -8.013229,
          8.208659,
          25.427872,
          0.204018,
          15.913598,
          8.501966,
          -29.626245,
          1.754996,
          33.54348,
          21.294964,
          -8.625874,
          -25.540136,
          18.743925,
          -0.737761,
          30.75,
          -1.75654,
          -46.865452,
          27.862499,
          -1.820761,
          -8.755217,
          -37.232529,
          -19.865593,
          46.056717,
          -21.603817,
          8.224385,
          -25.99192,
          25.911188,
          -37.711758,
          -10.94876,
          -26.436842,
          -0.490494,
          -21.224365,
          8.251545,
          -23.091066,
          -24.403481,
          -26.037037,
          23.282808,
          21.245811,
          19.777193,
          5.842654,
          53.489964,
          34.868919,
          25.284401,
          -2.850457,
          25.549881,
          -18.745085,
          -22.419378,
          -47.965912,
          41.64106,
          25.00177,
          50.81805,
          -24.452326,
          0.638766,
          -16.70108,
          -31.615583,
          -24.994539,
          34.382286,
          -40.31741,
          51.794254,
          -32.009186,
          4.644476,
          -41.018631,
          -8.974922,
          37.416504,
          17.146732,
          47.150314,
          -38.212856,
          -42.534992,
          -21.802555,
          -7.291582,
          10.403893,
          7.817647,
          -3.147906,
          43.015759,
          -17.781801,
          10.572289,
          -28.833975,
          54.236607,
          -29.239351,
          7.803993,
          34.923153,
          51.113247,
          22.408907,
          1.843041,
          23.748569,
          -21.888941,
          -33.082314,
          -4.597585,
          22.224337,
          30.511929
         ],
         "yaxis": "y"
        }
       ],
       "layout": {
        "coloraxis": {
         "colorbar": {
          "title": {
           "text": "kmeans_cluster"
          }
         },
         "colorscale": [
          [
           0,
           "#0d0887"
          ],
          [
           0.1111111111111111,
           "#46039f"
          ],
          [
           0.2222222222222222,
           "#7201a8"
          ],
          [
           0.3333333333333333,
           "#9c179e"
          ],
          [
           0.4444444444444444,
           "#bd3786"
          ],
          [
           0.5555555555555556,
           "#d8576b"
          ],
          [
           0.6666666666666666,
           "#ed7953"
          ],
          [
           0.7777777777777778,
           "#fb9f3a"
          ],
          [
           0.8888888888888888,
           "#fdca26"
          ],
          [
           1,
           "#f0f921"
          ]
         ]
        },
        "legend": {
         "tracegroupgap": 0
        },
        "margin": {
         "t": 60
        },
        "template": {
         "data": {
          "bar": [
           {
            "error_x": {
             "color": "#2a3f5f"
            },
            "error_y": {
             "color": "#2a3f5f"
            },
            "marker": {
             "line": {
              "color": "#E5ECF6",
              "width": 0.5
             }
            },
            "type": "bar"
           }
          ],
          "barpolar": [
           {
            "marker": {
             "line": {
              "color": "#E5ECF6",
              "width": 0.5
             }
            },
            "type": "barpolar"
           }
          ],
          "carpet": [
           {
            "aaxis": {
             "endlinecolor": "#2a3f5f",
             "gridcolor": "white",
             "linecolor": "white",
             "minorgridcolor": "white",
             "startlinecolor": "#2a3f5f"
            },
            "baxis": {
             "endlinecolor": "#2a3f5f",
             "gridcolor": "white",
             "linecolor": "white",
             "minorgridcolor": "white",
             "startlinecolor": "#2a3f5f"
            },
            "type": "carpet"
           }
          ],
          "choropleth": [
           {
            "colorbar": {
             "outlinewidth": 0,
             "ticks": ""
            },
            "type": "choropleth"
           }
          ],
          "contour": [
           {
            "colorbar": {
             "outlinewidth": 0,
             "ticks": ""
            },
            "colorscale": [
             [
              0,
              "#0d0887"
             ],
             [
              0.1111111111111111,
              "#46039f"
             ],
             [
              0.2222222222222222,
              "#7201a8"
             ],
             [
              0.3333333333333333,
              "#9c179e"
             ],
             [
              0.4444444444444444,
              "#bd3786"
             ],
             [
              0.5555555555555556,
              "#d8576b"
             ],
             [
              0.6666666666666666,
              "#ed7953"
             ],
             [
              0.7777777777777778,
              "#fb9f3a"
             ],
             [
              0.8888888888888888,
              "#fdca26"
             ],
             [
              1,
              "#f0f921"
             ]
            ],
            "type": "contour"
           }
          ],
          "contourcarpet": [
           {
            "colorbar": {
             "outlinewidth": 0,
             "ticks": ""
            },
            "type": "contourcarpet"
           }
          ],
          "heatmap": [
           {
            "colorbar": {
             "outlinewidth": 0,
             "ticks": ""
            },
            "colorscale": [
             [
              0,
              "#0d0887"
             ],
             [
              0.1111111111111111,
              "#46039f"
             ],
             [
              0.2222222222222222,
              "#7201a8"
             ],
             [
              0.3333333333333333,
              "#9c179e"
             ],
             [
              0.4444444444444444,
              "#bd3786"
             ],
             [
              0.5555555555555556,
              "#d8576b"
             ],
             [
              0.6666666666666666,
              "#ed7953"
             ],
             [
              0.7777777777777778,
              "#fb9f3a"
             ],
             [
              0.8888888888888888,
              "#fdca26"
             ],
             [
              1,
              "#f0f921"
             ]
            ],
            "type": "heatmap"
           }
          ],
          "heatmapgl": [
           {
            "colorbar": {
             "outlinewidth": 0,
             "ticks": ""
            },
            "colorscale": [
             [
              0,
              "#0d0887"
             ],
             [
              0.1111111111111111,
              "#46039f"
             ],
             [
              0.2222222222222222,
              "#7201a8"
             ],
             [
              0.3333333333333333,
              "#9c179e"
             ],
             [
              0.4444444444444444,
              "#bd3786"
             ],
             [
              0.5555555555555556,
              "#d8576b"
             ],
             [
              0.6666666666666666,
              "#ed7953"
             ],
             [
              0.7777777777777778,
              "#fb9f3a"
             ],
             [
              0.8888888888888888,
              "#fdca26"
             ],
             [
              1,
              "#f0f921"
             ]
            ],
            "type": "heatmapgl"
           }
          ],
          "histogram": [
           {
            "marker": {
             "colorbar": {
              "outlinewidth": 0,
              "ticks": ""
             }
            },
            "type": "histogram"
           }
          ],
          "histogram2d": [
           {
            "colorbar": {
             "outlinewidth": 0,
             "ticks": ""
            },
            "colorscale": [
             [
              0,
              "#0d0887"
             ],
             [
              0.1111111111111111,
              "#46039f"
             ],
             [
              0.2222222222222222,
              "#7201a8"
             ],
             [
              0.3333333333333333,
              "#9c179e"
             ],
             [
              0.4444444444444444,
              "#bd3786"
             ],
             [
              0.5555555555555556,
              "#d8576b"
             ],
             [
              0.6666666666666666,
              "#ed7953"
             ],
             [
              0.7777777777777778,
              "#fb9f3a"
             ],
             [
              0.8888888888888888,
              "#fdca26"
             ],
             [
              1,
              "#f0f921"
             ]
            ],
            "type": "histogram2d"
           }
          ],
          "histogram2dcontour": [
           {
            "colorbar": {
             "outlinewidth": 0,
             "ticks": ""
            },
            "colorscale": [
             [
              0,
              "#0d0887"
             ],
             [
              0.1111111111111111,
              "#46039f"
             ],
             [
              0.2222222222222222,
              "#7201a8"
             ],
             [
              0.3333333333333333,
              "#9c179e"
             ],
             [
              0.4444444444444444,
              "#bd3786"
             ],
             [
              0.5555555555555556,
              "#d8576b"
             ],
             [
              0.6666666666666666,
              "#ed7953"
             ],
             [
              0.7777777777777778,
              "#fb9f3a"
             ],
             [
              0.8888888888888888,
              "#fdca26"
             ],
             [
              1,
              "#f0f921"
             ]
            ],
            "type": "histogram2dcontour"
           }
          ],
          "mesh3d": [
           {
            "colorbar": {
             "outlinewidth": 0,
             "ticks": ""
            },
            "type": "mesh3d"
           }
          ],
          "parcoords": [
           {
            "line": {
             "colorbar": {
              "outlinewidth": 0,
              "ticks": ""
             }
            },
            "type": "parcoords"
           }
          ],
          "pie": [
           {
            "automargin": true,
            "type": "pie"
           }
          ],
          "scatter": [
           {
            "marker": {
             "colorbar": {
              "outlinewidth": 0,
              "ticks": ""
             }
            },
            "type": "scatter"
           }
          ],
          "scatter3d": [
           {
            "line": {
             "colorbar": {
              "outlinewidth": 0,
              "ticks": ""
             }
            },
            "marker": {
             "colorbar": {
              "outlinewidth": 0,
              "ticks": ""
             }
            },
            "type": "scatter3d"
           }
          ],
          "scattercarpet": [
           {
            "marker": {
             "colorbar": {
              "outlinewidth": 0,
              "ticks": ""
             }
            },
            "type": "scattercarpet"
           }
          ],
          "scattergeo": [
           {
            "marker": {
             "colorbar": {
              "outlinewidth": 0,
              "ticks": ""
             }
            },
            "type": "scattergeo"
           }
          ],
          "scattergl": [
           {
            "marker": {
             "colorbar": {
              "outlinewidth": 0,
              "ticks": ""
             }
            },
            "type": "scattergl"
           }
          ],
          "scattermapbox": [
           {
            "marker": {
             "colorbar": {
              "outlinewidth": 0,
              "ticks": ""
             }
            },
            "type": "scattermapbox"
           }
          ],
          "scatterpolar": [
           {
            "marker": {
             "colorbar": {
              "outlinewidth": 0,
              "ticks": ""
             }
            },
            "type": "scatterpolar"
           }
          ],
          "scatterpolargl": [
           {
            "marker": {
             "colorbar": {
              "outlinewidth": 0,
              "ticks": ""
             }
            },
            "type": "scatterpolargl"
           }
          ],
          "scatterternary": [
           {
            "marker": {
             "colorbar": {
              "outlinewidth": 0,
              "ticks": ""
             }
            },
            "type": "scatterternary"
           }
          ],
          "surface": [
           {
            "colorbar": {
             "outlinewidth": 0,
             "ticks": ""
            },
            "colorscale": [
             [
              0,
              "#0d0887"
             ],
             [
              0.1111111111111111,
              "#46039f"
             ],
             [
              0.2222222222222222,
              "#7201a8"
             ],
             [
              0.3333333333333333,
              "#9c179e"
             ],
             [
              0.4444444444444444,
              "#bd3786"
             ],
             [
              0.5555555555555556,
              "#d8576b"
             ],
             [
              0.6666666666666666,
              "#ed7953"
             ],
             [
              0.7777777777777778,
              "#fb9f3a"
             ],
             [
              0.8888888888888888,
              "#fdca26"
             ],
             [
              1,
              "#f0f921"
             ]
            ],
            "type": "surface"
           }
          ],
          "table": [
           {
            "cells": {
             "fill": {
              "color": "#EBF0F8"
             },
             "line": {
              "color": "white"
             }
            },
            "header": {
             "fill": {
              "color": "#C8D4E3"
             },
             "line": {
              "color": "white"
             }
            },
            "type": "table"
           }
          ]
         },
         "layout": {
          "annotationdefaults": {
           "arrowcolor": "#2a3f5f",
           "arrowhead": 0,
           "arrowwidth": 1
          },
          "coloraxis": {
           "colorbar": {
            "outlinewidth": 0,
            "ticks": ""
           }
          },
          "colorscale": {
           "diverging": [
            [
             0,
             "#8e0152"
            ],
            [
             0.1,
             "#c51b7d"
            ],
            [
             0.2,
             "#de77ae"
            ],
            [
             0.3,
             "#f1b6da"
            ],
            [
             0.4,
             "#fde0ef"
            ],
            [
             0.5,
             "#f7f7f7"
            ],
            [
             0.6,
             "#e6f5d0"
            ],
            [
             0.7,
             "#b8e186"
            ],
            [
             0.8,
             "#7fbc41"
            ],
            [
             0.9,
             "#4d9221"
            ],
            [
             1,
             "#276419"
            ]
           ],
           "sequential": [
            [
             0,
             "#0d0887"
            ],
            [
             0.1111111111111111,
             "#46039f"
            ],
            [
             0.2222222222222222,
             "#7201a8"
            ],
            [
             0.3333333333333333,
             "#9c179e"
            ],
            [
             0.4444444444444444,
             "#bd3786"
            ],
            [
             0.5555555555555556,
             "#d8576b"
            ],
            [
             0.6666666666666666,
             "#ed7953"
            ],
            [
             0.7777777777777778,
             "#fb9f3a"
            ],
            [
             0.8888888888888888,
             "#fdca26"
            ],
            [
             1,
             "#f0f921"
            ]
           ],
           "sequentialminus": [
            [
             0,
             "#0d0887"
            ],
            [
             0.1111111111111111,
             "#46039f"
            ],
            [
             0.2222222222222222,
             "#7201a8"
            ],
            [
             0.3333333333333333,
             "#9c179e"
            ],
            [
             0.4444444444444444,
             "#bd3786"
            ],
            [
             0.5555555555555556,
             "#d8576b"
            ],
            [
             0.6666666666666666,
             "#ed7953"
            ],
            [
             0.7777777777777778,
             "#fb9f3a"
            ],
            [
             0.8888888888888888,
             "#fdca26"
            ],
            [
             1,
             "#f0f921"
            ]
           ]
          },
          "colorway": [
           "#636efa",
           "#EF553B",
           "#00cc96",
           "#ab63fa",
           "#FFA15A",
           "#19d3f3",
           "#FF6692",
           "#B6E880",
           "#FF97FF",
           "#FECB52"
          ],
          "font": {
           "color": "#2a3f5f"
          },
          "geo": {
           "bgcolor": "white",
           "lakecolor": "white",
           "landcolor": "#E5ECF6",
           "showlakes": true,
           "showland": true,
           "subunitcolor": "white"
          },
          "hoverlabel": {
           "align": "left"
          },
          "hovermode": "closest",
          "mapbox": {
           "style": "light"
          },
          "paper_bgcolor": "white",
          "plot_bgcolor": "#E5ECF6",
          "polar": {
           "angularaxis": {
            "gridcolor": "white",
            "linecolor": "white",
            "ticks": ""
           },
           "bgcolor": "#E5ECF6",
           "radialaxis": {
            "gridcolor": "white",
            "linecolor": "white",
            "ticks": ""
           }
          },
          "scene": {
           "xaxis": {
            "backgroundcolor": "#E5ECF6",
            "gridcolor": "white",
            "gridwidth": 2,
            "linecolor": "white",
            "showbackground": true,
            "ticks": "",
            "zerolinecolor": "white"
           },
           "yaxis": {
            "backgroundcolor": "#E5ECF6",
            "gridcolor": "white",
            "gridwidth": 2,
            "linecolor": "white",
            "showbackground": true,
            "ticks": "",
            "zerolinecolor": "white"
           },
           "zaxis": {
            "backgroundcolor": "#E5ECF6",
            "gridcolor": "white",
            "gridwidth": 2,
            "linecolor": "white",
            "showbackground": true,
            "ticks": "",
            "zerolinecolor": "white"
           }
          },
          "shapedefaults": {
           "line": {
            "color": "#2a3f5f"
           }
          },
          "ternary": {
           "aaxis": {
            "gridcolor": "white",
            "linecolor": "white",
            "ticks": ""
           },
           "baxis": {
            "gridcolor": "white",
            "linecolor": "white",
            "ticks": ""
           },
           "bgcolor": "#E5ECF6",
           "caxis": {
            "gridcolor": "white",
            "linecolor": "white",
            "ticks": ""
           }
          },
          "title": {
           "x": 0.05
          },
          "xaxis": {
           "automargin": true,
           "gridcolor": "white",
           "linecolor": "white",
           "ticks": "",
           "title": {
            "standoff": 15
           },
           "zerolinecolor": "white",
           "zerolinewidth": 2
          },
          "yaxis": {
           "automargin": true,
           "gridcolor": "white",
           "linecolor": "white",
           "ticks": "",
           "title": {
            "standoff": 15
           },
           "zerolinecolor": "white",
           "zerolinewidth": 2
          }
         }
        },
        "updatemenus": [
         {
          "buttons": [
           {
            "args": [
             "shapes",
             []
            ],
            "label": "None",
            "method": "relayout"
           },
           {
            "args": [
             "shapes",
             [
              {
               "line": {
                "color": "#0d0887"
               },
               "type": "circle",
               "x0": -31.453455,
               "x1": -1.71924,
               "xref": "x",
               "y0": -37.450336,
               "y1": -0.160341,
               "yref": "y"
              }
             ]
            ],
            "label": "Cluster 0",
            "method": "relayout"
           },
           {
            "args": [
             "shapes",
             [
              {
               "line": {
                "color": "#46039f"
               },
               "type": "circle",
               "x0": -15.999349,
               "x1": 24.972286,
               "xref": "x",
               "y0": 22.517649,
               "y1": 61.512733,
               "yref": "y"
              }
             ]
            ],
            "label": "Cluster 1",
            "method": "relayout"
           },
           {
            "args": [
             "shapes",
             [
              {
               "line": {
                "color": "#7201a8"
               },
               "type": "circle",
               "x0": 1.377169,
               "x1": 33.717506,
               "xref": "x",
               "y0": -19.812447,
               "y1": 26.170555,
               "yref": "y"
              }
             ]
            ],
            "label": "Cluster 2",
            "method": "relayout"
           },
           {
            "args": [
             "shapes",
             [
              {
               "line": {
                "color": "#9c179e"
               },
               "type": "circle",
               "x0": -23.500849,
               "x1": 10.10007,
               "xref": "x",
               "y0": -10.548671,
               "y1": 26.167976,
               "yref": "y"
              }
             ]
            ],
            "label": "Cluster 3",
            "method": "relayout"
           },
           {
            "args": [
             "shapes",
             [
              {
               "line": {
                "color": "#bd3786"
               },
               "type": "circle",
               "x0": -47.88166,
               "x1": -28.940142,
               "xref": "x",
               "y0": 19.663521,
               "y1": 27.757702,
               "yref": "y"
              }
             ]
            ],
            "label": "Cluster 4",
            "method": "relayout"
           },
           {
            "args": [
             "shapes",
             [
              {
               "line": {
                "color": "#d8576b"
               },
               "type": "circle",
               "x0": -14.002975,
               "x1": 30.002184,
               "xref": "x",
               "y0": -53.184341,
               "y1": -14.588736,
               "yref": "y"
              }
             ]
            ],
            "label": "Cluster 5",
            "method": "relayout"
           },
           {
            "args": [
             "shapes",
             [
              {
               "line": {
                "color": "#0d0887"
               },
               "type": "circle",
               "x0": -31.453455,
               "x1": -1.71924,
               "xref": "x",
               "y0": -37.450336,
               "y1": -0.160341,
               "yref": "y"
              },
              {
               "line": {
                "color": "#46039f"
               },
               "type": "circle",
               "x0": -15.999349,
               "x1": 24.972286,
               "xref": "x",
               "y0": 22.517649,
               "y1": 61.512733,
               "yref": "y"
              },
              {
               "line": {
                "color": "#7201a8"
               },
               "type": "circle",
               "x0": 1.377169,
               "x1": 33.717506,
               "xref": "x",
               "y0": -19.812447,
               "y1": 26.170555,
               "yref": "y"
              },
              {
               "line": {
                "color": "#9c179e"
               },
               "type": "circle",
               "x0": -23.500849,
               "x1": 10.10007,
               "xref": "x",
               "y0": -10.548671,
               "y1": 26.167976,
               "yref": "y"
              },
              {
               "line": {
                "color": "#bd3786"
               },
               "type": "circle",
               "x0": -47.88166,
               "x1": -28.940142,
               "xref": "x",
               "y0": 19.663521,
               "y1": 27.757702,
               "yref": "y"
              },
              {
               "line": {
                "color": "#d8576b"
               },
               "type": "circle",
               "x0": -14.002975,
               "x1": 30.002184,
               "xref": "x",
               "y0": -53.184341,
               "y1": -14.588736,
               "yref": "y"
              }
             ]
            ],
            "label": "All",
            "method": "relayout"
           }
          ]
         }
        ],
        "xaxis": {
         "anchor": "y",
         "domain": [
          0,
          1
         ],
         "title": {
          "text": "x"
         }
        },
        "yaxis": {
         "anchor": "x",
         "domain": [
          0,
          1
         ],
         "title": {
          "text": "y"
         }
        }
       }
      },
      "text/html": [
       "<div>\n",
       "        \n",
       "        \n",
       "            <div id=\"f86cdcbc-8bbf-4aa8-9ed5-201fe5ac391b\" class=\"plotly-graph-div\" style=\"height:525px; width:100%;\"></div>\n",
       "            <script type=\"text/javascript\">\n",
       "                require([\"plotly\"], function(Plotly) {\n",
       "                    window.PLOTLYENV=window.PLOTLYENV || {};\n",
       "                    \n",
       "                if (document.getElementById(\"f86cdcbc-8bbf-4aa8-9ed5-201fe5ac391b\")) {\n",
       "                    Plotly.newPlot(\n",
       "                        'f86cdcbc-8bbf-4aa8-9ed5-201fe5ac391b',\n",
       "                        [{\"customdata\": [[\"li\\u00ean h\\u1ec7\"], [\"gi\\u00e1\"], [\"ship cod nha\"], [\"ti\\u1ec1n kho\\u1ea3n\"], [\"ship mai\"], [\"xong\"], [\"ti\\u1ec1n kho\\u1ea3n nha\"], [\"ph\\u00f2ng b\\u1ea3o h\\u00e0nh\"], [\"nh\\u00e2n vi\\u00ean u\\u1ed1ng b\\u1ea3o m\\u00f9i\"], [\"g\\u1eedi v\\u01b0\\u00e8 b\\u1ea3o h\\u00e0nh\"], [\"\\u0111i quanh b\\u1ea3o \\u0111\\u1ecdc giao 1\"], [\"b\\u1ea3o g\\u1ecdi\"], [\"g\\u1ecdi ship\"], [\"ship \\u0111i\"], [\"ng\\u1eafm \\u0111\\u01b0\\u1eddng ngoan h\\u1ee3p t\\u00e1c\"], [\"https //www facebook com/1454523434857990/p\\u00f3s/2353017268341931/\"], [\"hi t\\u1eaft \\u0111i xong kho\\u1ea3n h\\u1ed9 i\"], [\"kho\\u1ea3n tech\"], [\"l\\u1eafp\"], [\"h\\u00f4m m\\u1ea5y ship\"], [\"ship shopee ph\\u00ed ship\"], [\"t\\u00e0i kho\\u1ea3n bidv\"], [\"t\\u1ed1i giao \\u0111i\"], [\"\\u0111/c kh\\u00e1nh 0914 634 889 s\\u1ea3nh h\\u1ed9 - th\\u00e1p - d\\u00edov\\u1ebb compl\\u1ebd 302 c\\u1ea7u gi\\u1ea5y\"], [\"kho\\u1ea3n r\\u1ed3i nh\\u00e9\"], [\"kho\\u1ea3n ntnao\"], [\"m\\u00e0u xanh\"], [\"ship h\\u00e0nh\"], [\"https //www facebook com/1454523434857990/p\\u00f3s/2357077891269202/\"], [\"ok thanks p\"], [\"h\\u00e0ng\"], [\"ship h\\u00e0ng\"], [\"t\\u1ed1i mai g\\u1eedi ship\"], [\"ok ship\"], [\"ship h\\u00f4m\"], [\"xe \\u0111\\u1ea9y shop l\\u1ed7i shop xe \\u0111\\u1ea9y b-beko b\\u1ea3o h\\u00e0nh gi\\u1ea5y b\\u1ea3o h\\u00e0nh h\\u00e3ng 2018 nh\\u1eafc b\\u1ea3o h\\u00e0nh\"], [\"c\\u1ea3m \\u01a1n\"], [\"ch\\u1ebf \\u0111\\u1ed9 b\\u1ea3o h\\u00e0nh\"], [\"t\\u00e0i kho\\u1ea3n \\u0111i\"], [\"ch\\u00e0o shop\"], [\"li\\u1ec1n k\\u1ec1 12 ng\\u00f5 175 \\u0111\\u1ecbnh c\\u00f4ng b7\"], [\"to\\u00e1n\"], [\"kho\\u1ea3n tri\\u1ec7u 50 h\\u00e0ng kho\\u1ea3n\"], [\"https //m facebook com/st\\u1ecf php st\\u1ecf_fbid=2357987524511572 id=1454523434857990\"], [\"https //m facebook com/st\\u1ecf php st\\u1ecf_fbid=2351953035115021 id=1454523434857990\"], [\"https //m facebook com/st\\u1ecf php st\\u1ecf_fbid=2353149771662014 id=1454523434857990\"], [\"kho\\u1ea3n 40k ship t\\u1ed5ng 560k\"], [\"nh\\u1eafn t\\u00e0i kho\\u1ea3n kho\\u1ea3n ship\"], [\"kho\\u1ea3n nha\"], [\"t\\u00e0i kho\\u1ea3n nha\"], [\"t\\u00e0i kho\\u1ea3n nha kho\\u1ea3n ti\\u1ec1n ship nha\"], [\"check\"], [\"kho\\u1ea3n ship\"], [\"g\\u1ecdi h\\u1ed9 kho\\u1ea3n\"], [\"ok ship \\u0111i\"], [\"46 d\\u01b0\\u01a1ng qu\\u1ea3ng h\\u00e0m\"], [\"th\\u00f4ng t\\u00e0i kho\\u1ea3n nha\"], [\"shop m\\u0169 b\\u1ea3o h\\u00e0nh b\\u00e9 s\"], [\"shop kho\\u1ea3n\"], [\"kho\\u1ea3n tech check\"], [\"ch\\u1ed1t kho\\u1ea3n\"], [\"h\\u00f4m b\\u1ea3o k\\u1ec7\"], [\"gh\\u1ebf kho\\u1ea3n t\\u00e0i kho\\u1ea3n h\\u00f4m\"], [\"t\\u00e0i kho\\u1ea3n vietcombank\"], [\"kho\\u1ea3n xong\"], [\"shop t\\u00e0i kho\\u1ea3n\"], [\"chi\\u1ec1u ship nha\"], [\"check xong\"], [\"l\\u00ea hoang hai yen\"], [\"b\\u00e1o nviedn ben b\\u1ea3o h\\u00e0nh ma\"], [\"57 ng\\u00f5 444 \\u0111\\u1ed9i c\\u1ea5n\"], [\"khung facebook\"], [\"m\\u00e0u xanh m\\u00e0u\"], [\"667 nguy\\u1ec5n v\\u0103n c\\u1eeb c\\u1eeda h\\u00e0ng \\u00e9p tuyo thu\\u1ef7 l\\u1ef1c\"], [\"chi\\u1ec1u ship \\u0111i\"], [\"c\\u1ee7 chi\"], [\"ship g\\u1ecdi\"], [\"shopee\"], [\"check gi\\u00fap ship\"], [\"t\\u00e0i kho\\u1ea3n g\\u1eedi ti\\u1ec1n\"], [\"mai 7 \\u0111i\"], [\"b\\u1ea3o h\\u00e0nh \\u0111i 40p\"], [\"\\u0111\\u1ed7 th\\u1ecb h\\u1eb1ng nga\"], [\"h\\u00e0ng \\u0111\\u1ea3m b\\u1ea3o ch\\u1ea5t b\\u1ea3o h\\u00e0nh bao shop\"], [\"kho\\u1ea3n th\\u1ee7y g\\u1eedi d\\u00f9m\"], [\"nh\\u1eafn t\\u00e0i kho\\u1ea3n\"], [\"ship h\\u00e0ng gi\\u00fap\"], [\"h\\u00e0ng g\\u1eedi ti\\u1ec1n\"], [\"b\\u1ea3o ship gi\\u00fap hic\"], [\"kho\\u1ea3n ship h\\u00e0ng gi\\u00fap\"], [\"kho\\u1ea3n shop\"], [\"ok ship xong kho\\u1ea3n\"], [\"h\\u00e0nh shop\"], [\"kho\\u1ea3n ng\\u00e2n h\\u00e0ng vietcombank xong kho\\u1ea3n 250k ghi n\\u1ed9i dung\"], [\"51 ph\\u00fa di\\u1ec5n\"], [\"h\\u00f4m ship b\\u1ea3o shop ch\\u1ed7\"], [\"g\\u1ecdi grab\"], [\"gh\\u1ebf l\\u00e1t kho\\u1ea3n\"], [\"okie giao kho\\u1ea3n\"], [\"g\\u1eedi t\\u00e0i kho\\u1ea3n kho\\u1ea3n\"], [\"b\\u1ea3o h\\u00e0nh \\u0111\\u1ed5i\"], [\"kho\\u1ea3n shop v\\u1eadn\"], [\"kho\\u1ea3n giao h\\u00e0ng h\\u1ea3\"], [\"shop t\\u00e0i kho\\u1ea3n kho\\u1ea3n xong h\\u00f4m shop ship mai\"], [\"giao g\\u1ecdi kho\\u1ea3n th\\u00f4ng\"], [\"b\\u1ea3o ship h\\u00f4m ruid\"], [\"ship gi\\u00fap\"], [\"mai ship\"], [\"shopee b\\u1ea3o li\\u00ean h\\u1ec7\"], [\"mai kho\\u1ea3n xong nh\\u1eafn shop shop g\\u1eedi\"], [\"shop t\\u00e0i kho\\u1ea3n kho\\u1ea3n\"], [\"kho\\u1ea3n nha shop\"], [\"kho\\u1ea3n th\\u00eca\"], [\"ok shop shop t\\u00e0i kho\\u1ea3n \\u0111i\"], [\"ok kho\\u1ea3n 1 kia nh\\u1eafn\"], [\"check t\\u00e0i kho\\u1ea3n \\u0111i\"], [\"check t\\u00e0i kho\\u1ea3n\"], [\"kho\\u1ea3n xong b\\u00e1o\"], [\"facebook\"], [\"ship t\\u1ed1i gi\\u00fap\"], [\"h\\u00f4m ship\"], [\"kho\\u1ea3n ph\\u00ed ship r\\u1ebb\"], [\"h\\u00e0ng to\\u00e1n ship shopee\"], [\"kho\\u1ea3n gi\\u00fap\"], [\"giao h\\u00e0nh gi\\u00fap\"], [\"m\\u00e1y b\\u1ea3o h\\u00e0nh bao h\\u1ea3\"], [\"kho\\u1ea3n g\\u1eedi h\\u00e0ng\"], [\"440 v\\u0129nh h\\u01b0ng\"], [\"tiki h\\u1ea3 kho\\u1ea3n\"], [\"chi\\u1ec1u giao\"], [\"ok kho\\u1ea3n\"], [\"\\u0111\\u1ed9 kho\\u1ea3n\"], [\"ship \\u0111i nha\"], [\"shopee ship\"], [\"kho\\u1ea3n b\\u00e1o\"], [\"kho\\u1ea3n shop ship xe\"], [\"76 ch\\u01b0\\u01a1ng d\\u01b0\\u01a1ng linh chi\\u1ec3u th\\u1ee7 \\u0111\\u1ee9c\"], [\"kho\\u1ea3n 650k\"], [\"kho\\u1ea3n 700k nha\"], [\"17 \\u0111\\u01b0\\u1eddng 25a p t\\u00e2n quy q7 0932027966\"], [\"h\\u00f4m ship h\\u1ea3\"], [\"ship t\\u1ee7 gi\\u00fap\"], [\"chi\\u1ec1u kho\\u1ea3n\"], [\"\\u0111\\u1ed9i nh\\u00e2n\"], [\"h\\u00e0ng h\\u00e3ng b\\u1ea3o h\\u00e0nh\"], [\"xe b\\u1ea3o h\\u00e0nh bao\"], [\"ship nha\"], [\"t\\u00e0i kho\\u1ea3n kho\\u1ea3n nhed\"], [\"xe b\\u1ea3o h\\u00e0nh\"], [\"866 ch\\u1ee3 1 mong th\\u1ecd ch\\u00e2u th\\u00e0nh ki\\u00ean giang 0944788844\"], [\"https //www facebook com/shopgauvabingo/phot\\u00f3pcb 2353122761664715/2353122421664749/ type=3 theat\\u1ebb\"], [\"ship h\\u00e0nh gi\\u00fap\"], [\"giao h\\u00e0ng nh\\u1eadt ti\\u1ec1n shop\"], [\"b\\u1ea3o h\\u00e3ng li\\u00ean l\\u1ea1c\"], [\"g\\u1ecdi phong \\u0111\\u1ea5y\"], [\"kho\\u1ea3n 50-60\"], [\"nguy\\u1ec5n khanh 0903588251\"], [\"ok t\\u00e0i kho\\u1ea3n\"], [\"h\\u00f4m ship mai\"], [\"shop mfinh t\\u00e0i kho\\u1ea3n kho\\u1ea3n to\\u00e1n\"], [\"https //m facebook com/st\\u1ecf php st\\u1ecf_fbid=2353097265000598 id=1454523434857990\"], [\"kho\\u1ea3n ti\\u1ec1n h\\u00e0ng\"], [\"g\\u1ecdi th\\u1eed\"], [\"t\\u00e0i kho\\u1ea3n ctien\"], [\"h\\u00e0ng gi\\u00fap\"], [\"nh\\u1eafn t\\u00e0i kho\\u1ea3n ti\\u1ec1n\"], [\"shop ship giao h\\u00e0ng gi\\u00fap\"], [\"ship t\\u1ed1i\"], [\"chi\\u1ec1u t\\u1ed1i ship\"], [\"t\\u1ed1i ship\"], [\"g\\u1ecdi viettel\"], [\"ho\\u00e1 \\u0111\\u01a1n kho\\u1ea3n\"], [\"\\u00e2u\"], [\"qlda \\u0111i\\u1ec7n l\\u1ef1c d\\u1ea7u kh\\u00ed th\\u00e1i b\\u00ecnh 2\"], [\"1 giao 9- ng\\u00f5 3- x\\u00f3m kho- c\\u1ed5 \\u0111i\\u1ec3n a- t\\u1ee9 hi\\u1ec7p-thanh tr\\u00ec h\\u00e0 n\\u1ed9i gi\\u00fap 0989530246\"], [\"nh\\u1eafn \\u0111\\u1ea5y\"], [\"tem b\\u1ea3o h\\u00e0nh h\\u01b0\\u1edbng l\\u1eafp \\u0111\\u1eb7t\"], [\"b\\u1ea3o h\\u00e0nh \\u0111\\u1eb7t h\\u00e0ng\"], [\"nh\\u1eafn\"], [\"ship chi\\u1ec1u t\\u1ed1i\"], [\"t\\u00e0i kho\\u1ea3n kho\\u1ea3n ti\\u1ec1n\"], [\"shop check gi\\u00f9m kho\\u1ea3n\"], [\"shop h\\u00e0ng kho\\u1ea3n n\\u1ed1t\"], [\"shop ch\\u1ed1t \\u0111\\u01a1n h\\u00e0ng kho\\u1ea3n 600k\"], [\"check ship\"], [\"t\\u1ed5ng t\\u00e0i kho\\u1ea3n\"], [\"https //www facebook com/1454523434857990/p\\u00f3s/2351953035115021/\"], [\"s\\u1eb5n ship gi\\u00fap\"], [\"t\\u00f4n \\u0111\\u1ee9c th\\u1eafng\"], [\"\\u0111i giao\"], [\"mai \\u0111i\"], [\"g\\u1eedi ph\\u00ed ship\"], [\"ship chi\\u1ec1u t\\u1ed1i gi\\u00fap\"], [\"ship 5h chi\\u1ec1u gi\\u00fap\"], [\"kho\\u1ea3n h\\u1ea3\"], [\"c\\u01b0 petroland duong nguyen trinh phuong binh trung long q2\"], [\"9 ph\\u00e2n\"], [\"https //www facebook com/1454523434857990/p\\u00f3s/2356113481365643/ d=n\"], [\"b\\u1ea3o hu\\u1ef7 \\u0111\\u01a1n\"], [\"ship cod ship shopee\"], [\"l\\u00e1t kho\\u1ea3n xong nh\\u1eafn\"], [\"1 l\\u00e1t l\\u1ed7i t\\u00e0i kho\\u1ea3n\"], [\"check grab gi\\u00fap kho\\u1ea3n\"], [\"ch\\u1eadu kho\\u1ea3n ph\\u00ed ph\\u00ed ship \\u0111i\"], [\"kho\\u1ea3n 100%\"], [\"shop t\\u00e0i kho\\u1ea3n \\u0111i\"], [\"uh b\\u1ea3o h\\u00e0nh\"], [\"okie b\\u1ea3o h\\u00e0nh\"], [\"34d ng\\u00e1ch 34/218 ng\\u00f5 218 l\\u1ea1c long qu\\u00e2n 070 638 6666\"], [\"ship cod kho\\u1ea3n h\\u1ea3\"], [\"v\\u1ee3 \\u0111\\u1eb7t 7a4 ng\\u00f5 378/39 thu\\u1ef5 khu\\u00ea \\u0111\\u1ea5y\"], [\"nh\\u1eafn t\\u00e0i kho\\u1ea3n kho\\u1ea3n\"], [\"mai h\\u00e0nh \\u0111i\"], [\"g\\u1eedi t\\u00e0i kho\\u1ea3n\"], [\"h\\u00e0nh mai 5h chi\\u1ec1u\"], [\"h\\u00e0nh 5h chi\\u1ec1u\"], [\"giao h\\u00e0ng 117 tr\\u1ea7n h\\u01b0ng mai\"], [\"li\\u00ean h\\u1ec7 nha\"], [\"n\\u00f4i ship h\\u00f4m\"], [\"ok nh\\u1eafn t\\u00e0i kho\\u1ea3n ti\\u1ec1n mua n\\u00f4i\"], [\"2 b\\u1ea3o h\\u00e0nh shop\"], [\"uki t\\u00e0i kho\\u1ea3n\"], [\"b\\u00f4 h\\u00e0ng tr\\u1ef1c ti\\u1ebfp kho\\u1ea3n 50%\"], [\"mai \\u0111\\u1ea5y\"], [\"kho\\u1ea3n \\u0111\\u1ea5y\"], [\"g\\u1ecdi t\\u00e0i kho\\u1ea3n kho\\u1ea3n\"], [\"\\u0111\\u01a1n gi\\u00fap kho\\u1ea3n\"], [\"t\\u00e0i kho\\u1ea3n shop\"], [\"kho\\u1ea3n ti\\u1ec1n ship\"], [\"to\\u00e1n tr\\u1ef1c ti\\u1ebfp h\\u1ea3 ch\\u1edd t\\u00e0i kho\\u1ea3n t\\u01b0\\u1edfng ship\"], [\"t\\u00e0i kho\\u1ea3n vietcombank nha\"], [\"ok ch\\u1ed1t \\u0111\\u01a1n ship\"], [\"check t\\u00e0i kho\\u1ea3n nha\"], [\"https //www facebook com/shopgauvabingo/p\\u00f3s/2354229071554084 __xts__%5b0%5d=68 \\u1ea9tzszbsgfm-_fvwkcl04\\u1ea1ohvzmxpzzhfmxy5wsspa\\u1ecdp5clah0a7hly-kybi5msn67rgduqbu16m-itf\\u00fa17vdgunqjuik0stcd9bk2sbmeb\\u1ebb-\\u00e3t1jqj2ska-x8tyglfg16tysbi78g8t6qs6vayyrty\\u1ee5ai_ydwi-9l4amdwo54rszqfxjhme2r9ugubz6rx-xn7w4nwn4eqqgklw97kyw7krqd969vvme0u_cthv9b8g6uabg-n\\u00faud3vd1xlun\\u1ecbrfbb8epfyprqiwnq05vy\\u00f97_rmi84wmynl2jns4kiqdbkb_o1v7f-ev6rgitdw75qs2rudi8nn __tn__=-r\"], [\"kho\\u1ea3n \\u0111\\u1ea5y check\"], [\"mai \\u0111\\u1ed5i\"], [\"\\u0111\\u1ee1 ship shop b\\u1ea3o\"], [\"p h\\u00e3ng c\\u1ed3ng k\\u1ec1nh\"], [\"lai ch\\u00e2u\"], [\"ship d\\u00f9m nha\"], [\"\\u0111\\u1ea5y b\\u1ea3o mua shop\"], [\"h\\u00e0ng \\u0111\\u1ea3m b\\u1ea3o ch\\u1ea5t y h\\u00ecnh shop\"], [\"ship ch\\u1eadm kho\\u1ea3n\"], [\"ch\\u1ec9 ship h\\u00e3ng\"], [\"mjh t\\u00e0i kho\\u1ea3n\"], [\"b\\u00e1o t\\u00e0i kho\\u1ea3n\"], [\"h\\u00f4m ship \\u0111\\u1ea5y\"], [\"giao chi\\u1ec1u\"], [\"h\\u00ecnh th\\u1ee9c b\\u1ea3o h\\u00e0nh nhj\"], [\"https //m facebook com/st\\u1ecf php st\\u1ecf_fbid=2351904738453184 id=1454523434857990\"], [\"m\\u1ea5y ship h\\u1ed9\"], [\"h\\u00e0ng h\\u00e0ng\"], [\"https //www facebook com/1454523434857990/p\\u00f3s/2353149771662014 vh=e d=n sfns=mo\"], [\"g\\u1ecdi t\\u00e0i kho\\u1ea3n\"], [\"https //www facebook com/shopgauvabingo/phot\\u00f3a 1454528958190771/2349612098682448/ type=3 theat\\u1ebb\"], [\"https //www facebook com/watch/ v=2527086560895192\"], [\"l\\u01b0\\u1edbt b\\u1ea3o h\\u00e0nh \\u0111\\u1ecdc\"], [\"th\\u1ec3 ship h\\u00f4m\"], [\"mai ship chi\\u1ec1u\"], [\"to c\\u01b0 \\u0111\\u1ed3ng ph\\u00e1t k\\u0111t v\\u0129nh ho\\u00e0ng 429 tam trinh \\u0111i 500m 0984487598\"], [\"kho\\u1ea3n 1 355k shop ki\\u1ec3m tra t\\u00e0i kho\\u1ea3n gi\\u00fap\"], [\"s\\u1ea1n quan hoa\"], [\"th\\u00f4ng t\\u00e0i kho\\u1ea3n\"], [\"mai shop giao h\\u00e0nh\"], [\"kho\\u1ea3n shop p\"], [\"bien hoa a\"], [\"g\\u1ecdi kia kho\\u1ea3n\"], [\"ship 178 \\u0111\\u00ecnh th\\u00f4n m\\u1ef9 \\u0111\\u00ecnh\"], [\"b\\u1ea3o h\\u00e0nh shop\"], [\"ok g\\u1eedi t\\u00e0i kho\\u1ea3n \\u0111i kho\\u1ea3n\"], [\"t\\u01b0\\u1edfng vinh\"], [\"ok t\\u1ed1i kho\\u1ea3n b\\u00e1o\"], [\"b\\u00e1o kho\\u1ea3n shop \\u0111\\u1eb7t ship\"], [\"b\\u1ea3o h\\u00e0ng\"], [\"shop g\\u1eedi t\\u00e0i kho\\u1ea3n ct\"], [\"c\\u01b0 udic compl\\u1ebd ho\\u00e0ng \\u0111\\u1ea1o thu\\u00fd-to\\u00e0b-n04\"], [\"uh \\u0111\\u1ed3ng 1m4*2m\"], [\"gi\\u00fap ph\\u00ed ship\"], [\"kho\\u1ea3n n\\u1ed1t nha\"], [\"https //www facebook com/1454523434857990/p\\u00f3s/2386406928336298/ vh=e d=n\"], [\"c\\u01b0 goldm\\u1ea3 city 136 htm\"], [\"h\\u00f4m b\\u1ea3o g\\u1eedi h\\u00f4m t5\"], [\"b\\u1ea3o g\\u1eedi\"], [\"t\\u1ea7m giao h\\u1ed9\"], [\"ship h\\u00f4m ship\"], [\"kho\\u1ea3n xong nha\"], [\"ship shopee\"], [\"ok mai giao h\\u00e0nh c\\u1ee5c thu\\u1ebf 187 gi\\u1ea3ng v\\u00f5 \\u0111i\\u1ec7n tho\\u1ea1i 0946943979\"], [\"t\\u00ed kho\\u1ea3n nh\\u1eafn\"], [\"g\\u1ecdi ship grab gi\\u00fap\"], [\"kho\\u1ea3n ch\\u1ec9 to\\u00e1n ship\"], [\"kia ship h\\u1ed9\"], [\"shop k\\u00eau kho\\u1ea3n nh\\u1eafn ch\\u1ed1ng th\\u1ea5m\"], [\"\\u0111\\u1eb7t shopee ph\\u00ed ship\"], [\"b\\u1ea3o h\\u00e0nh 5h\"], [\"g\\u1ecdi ship gi\\u00fap\"], [\"to\\u00e1n kho\\u1ea3n nh\\u00e2n h\\u00e0ng to\\u00e1n\"], [\"t\\u00e0i kho\\u1ea3n kho\\u1ea3n s nhe\"], [\"https //www facebook com/shopgauvabingo/phot\\u00f3a 1454528958190771/2388824881427836/ type=3 theat\\u1ebb\"], [\"https //www facebook com/shopgauvabingo/phot\\u00f3a 1454528958190771/2388824928094498/ type=3 theat\\u1ebb\"], [\"a kho\\u1ea3n\"], [\"to\\u00e1n kho\\u1ea3n\"], [\"b\\u1ea3o h\\u00e0nh ship\"], [\"h\\u00f4m ship h\\u00e0ng\"], [\"h\\u00f4m ship \\u0111\\u1ed3\"], [\"mua h\\u1ed9 b\\u1ea3o l\\u00e1t ch\\u1ea1y shop shop ship\"], [\"kho\\u1ea3n xong nh\\u1eafn b\\u00e1o shop\"], [\"ch\\u00fat kho\\u1ea3n\"], [\"https //www facebook com/1454523434857990/p\\u00f3s/2380826695560988/ d=n\"], [\"h\\u00f4m g\\u1ecdi ship\"], [\"check h\\u1ed9 ship h\\u00e0ng h\\u00f4m ship h\\u00f4m ship g\\u1ecdi \\u0111i\\u1ec7n h\\u1eb9n chi\\u1ec1u ship\"], [\"h\\u00f4m \\u0111\\u1eb7t \\u0111\\u1ed3 h\\u00f4m h\\u00e0ng b\\u1ea3o h\\u00e0nh\"], [\"t\\u00e0i kho\\u1ea3n bao nhi\\u00eau nha\"], [\"giao h\\u00e0ng chi\\u1ec1u 7\"], [\"h\\u00e0ng clieu \\u0111\\u1ea3m b\\u1ea3o\"], [\"t\\u00e2y t\\u00f2a hanc\\u1ecf plaza 72 tr\\u1ea7n \\u0111\\u0103ng ninh d\\u1ecbch v\\u1ecdng\"], [\"b\\u1ea3o h\\u00e0nh bt\"], [\"178/4g phan \\u0111\\u0103ng l\\u01b0u p4 ph\\u00fa nhu\\u1eadn\"], [\"vay ship nha\"], [\"shop s\\u00e1ch b\\u1ea3o h\\u00e0nh\"], [\"giao \\u0111i\"], [\"h\\u00f4m giao h\\u00e0ng g\\u1ecdi \\u0111i\"], [\"b5 ng\\u00f5 195 \\u0111\\u1ed9i c\\u1ea5n\"], [\"chi\\u1ec1u mai ship\"], [\"t\\u00e0i kho\\u1ea3n vietinbank\"], [\"b\\u1ea3o h\\u00e0nh \\u0111em kho ahh ad\"], [\"s\\u00e1ch b\\u1ea3o h\\u00e0nh\"], [\"g\\u1ecdi nayd h\\u1ed9\"], [\"\\u0111\\u1eb7t 1 ship b\\u1ea3o h\\u00e0nh sdc\"], [\"shop c\\u1ed1 g\\u1eafng ship gi\\u00fap chi\\u1ec1u mai\"], [\"mai m\\u1ea5y ship\"], [\"b\\u1ea3o h\\u00e0nh ship h\\u00e0ng\"], [\"set holla b\\u1ea3o h\\u00e0nh\"], [\"check t\\u00e0i kho\\u1ea3n gi\\u00fap\"], [\"611 l\\u0129nh nam\"], [\"th\\u1ec3 ship h\\u00f4m gi\\u00fap\"], [\"https //www facebook com/1454523434857990/p\\u00f3s/2382957532014571/ d=n\"], [\"b\\u1ea3o h\\u00e0nh h\\u00e0ng\"], [\"uh h\\u00f4m chi\\u1ec1u mai mai mai chi\\u1ec1u\"], [\"\\u0111\\u00e0 n\\u1eb5ng b\\u1ea3o h\\u00e0nh\"], [\"b\\u00ecnh thu\\u1eddng lay 1b 280k goi\"], [\"ch kho\\u1ea3n\"], [\"kho\\u1ea3n ti\\u1ec1n ki\\u1ec3m tra m\\u00e1y li\\u00ean h\\u1ec7 shop\"], [\"check x\\u00e1c kho\\u1ea3n\"], [\"okie giao b\\u00e1o kho\\u1ea3n\"], [\"569/120 t\\u1ed5 7 \\u1ea5p kim giao th\\u1ecb tr\\u1ea5n ng\\u00e3i giao huy\\u00ean ch\\u00e2u \\u0111\\u1ee9c tinh br-vt 0988317078\"], [\"kho\\u1ea3n 1098k\"], [\"m\\u00e1y b\\u1ea3o h\\u00e0nh shop \\u0111\\u1ea9y coa h\\u00e0ng nevi\"], [\"ship cod ng\\u00e2n h\\u00e0ng ng\\u1ea1i \\u0111i kho\\u1ea3n l\\u1eafm\"], [\"t\\u1ea7m chi\\u1ec1u \\u0111i \\u0111\\u1ea5y g\\u1ecdi \\u0111i\\u1ec7n ship a\"], [\"11t c\\u01b0 x\\u00e1 ph\\u00fa l\\u00e2m d f10 q6\"], [\"c\\u00f4ng ty h\\u00e0nh\"], [\"phi\\u1ec1n kho\\u1ea3n\"], [\"kho\\u1ea3n \\u0111\\u1ee3i 10\"], [\"chai chi\\u1ec1u kho\\u1ea3n quan kho\\u1ea3n \\u00e2u shop\"], [\"b\\u1ea3oh h\\u00e0nh\"], [\"shop b\\u1ea3o h\\u00e0nh \\u0111\\u00e0n\"], [\"n\\u00f4i facebook lan b\\u00f9i kho\\u1ea3n \\u0111i\\u1ec7n tho\\u1ea1i 0963828025 ti\\u1ec1n 700k\"], [\"h\\u00f4m b\\u1ea3o ship 2\"], [\"t\\u00e0i kho\\u1ea3n 50%\"], [\"h\\u1eadu giang\"], [\"t\\u00e0i kho\\u1ea3n g\\u1eedi 500k\"], [\"b\\u1ea3o g\\u1eedi mai\"], [\"check t\\u00e0i kho\\u1ea3n vietcombank\"], [\"m\\u2019 kho\\u1ea3n 554k grab ship 60k \\u0111\\u1ea5y\"], [\"kho\\u1ea3n 50% coi h\\u00e0ng to\\u00e1n\"], [\"kho\\u1ea3n \\u0111i\"], [\"ok ship \\u0111i kho\\u1ea3n\"], [\"ship 21 l\\u00ea v\\u0103n l\\u01b0\\u01a1g s\\u1ea3h a chug c\\u01b0 the golden palm\"], [\"h\\u00e0ng ship\"], [\"shop t\\u00e0i kho\\u1ea3n ti\\u1ec1n\"], [\"kho\\u1ea3n 400k roi ma\"], [\"ok kho\\u1ea3n \\u0111i\"], [\"n\\u00e3y b\\u1ea3o ship\"], [\"b\\u1ea3o h\\u00e0nh h\\u00e0ng shop\"], [\"kho\\u1ea3n 245k\"], [\"bao nhi\\u00eau t\\u00e0i kho\\u1ea3n kho\\u1ea3n ship l\\u1eabn ti\\u1ec1n h\\u00e0ng nha\"], [\"s\\u1ea3n 2b ng\\u00e1ch 24 ng\\u00f5 420 kh\\u01b0\\u01a1ng \\u0111\\u00ecnh\"], [\"mai giao \\u0111i\"], [\"b\\u1ea3o 2c b\\u00e1o gi\\u00e1 1c nh\\u1eafn laik\"], [\"b\\u1ea3o 2 m\\u1eb7c ship\"], [\"500k\"], [\"g\\u1eedi t\\u00e0i kho\\u1ea3n vietinbank\"], [\"giao gi\\u00fap \\u0111i\"], [\"\\u0111\\u1eb7t kho\\u1ea3n shop ship b\\u01b0u \\u0111i\\u1ec7n\"], [\"gh\\u1ebf b\\u1ea3o h\\u00e0nh\"], [\"ship gi\\u00fap chi\\u1ec1u 4h chi\\u1ec1u\"], [\"g\\u1ecdi b\\u1ea3o g\\u1eedi \\u0111\\u1ed3 th\\u00e1i nguy\\u00ean\"], [\"t\\u00e0i kho\\u1ea3n kho\\u1ea3n nha\"], [\"kho\\u1ea3n c\\u00f4ng\"], [\"ok giao h\\u00e0nh gi\\u00fap\"], [\"kho\\u1ea3n ship cod\"], [\"nh\\u1eafn t\\u00e0i kho\\u1ea3n g\\u1eedi ti\\u1ec1n\"], [\"kho\\u1ea3n t\\u1eadn\"], [\"nh\\u1eafn gi\\u00fap a t\\u00e0i kho\\u1ea3n\"], [\"1 ship \\u1ea5p th\\u1edbi thu\\u1eadn th\\u1ecb tr\\u1ea5n th\\u1edbi lai huy\\u1ec7n th\\u1edbi lai tpct 0981234399\"], [\"nh\\u1eafn t\\u00e0i kho\\u1ea3n kho\\u1ea3n xe \\u0111\\u1ea9y\"], [\"giao gi\\u00fap chi\\u1ec1u\"], [\"xe d\\u1eb7m mastela 1015 mua coa b\\u1ea3o h\\u00e0nh\"], [\"hic mai ship h\\u00f4m gi\\u00fap\"], [\"kho\\u1ea3n b\\u1ea3o h\\u00e0nh\"], [\"uh t\\u00f4n \\u0111\\u1ee9c th\\u1eafng\"], [\"t\\u1ea7m b\\u1ea3o h\\u00e0nh ship\"], [\"shop c\\u1ed1 g\\u1eafng chi\\u1ec1u ship gi\\u00fap\"], [\"chi\\u1ec1u ship gi\\u00fap\"], [\"chi\\u1ec1u giao gi\\u00fap\"], [\"10 ng\\u00f5 66 nguy\\u1ec5n ph\\u00fac lai \\u00f4 ch\\u1ee3 d\\u1eeba tel 0327279999\"], [\"https //www facebook com/shopgauvabingo/phot\\u00f3pcb 2396417667335224/2396416920668632/ type=3 theat\\u1ebb\"], [\"https //www facebook com/shopgauvabingo/phot\\u00f3pcb 2398041833839474/2398036697173321/ type=3 theat\\u1ebb\"], [\"https //www facebook com/shopgauvabingo/phot\\u00f3pcb 1793019401008390/1793015827675414/ type=3 theat\\u1ebb\"], [\"h\\u00e0ng b\\u1ea3o h\\u00e0nh ad\"], [\"g\\u1eedi b\\u1ea3o h\\u00e0nh gui \\u0111\\u1ea5y b\\u1ea5t ti\\u1ec7n huhu\"], [\"t\\u01b0\\u1edfng day h\\u1ea1\"], [\"b\\u1ea3o h\\u00e0nh g\\u1edfi shop \\u0111\\u1ecba ch\\u1ec9\"], [\"gian b\\u1ea3o h\\u00e0nh ghi gian\"], [\"chi\\u1ebfu b\\u1ea3o h\\u00e0nh t\\u00ecnh shop kg \\u0111i\\u1ec7n b\\u1ea3o h\\u00e0nh ch\\u1ebf \\u0111\\u1ed9\"], [\"n\\u00e2ng h\\u1ea1\"], [\"b\\u1ea3o h\\u00e0nh bao\"], [\"mai m\\u1ea5y\"], [\"s\\u00e1ch b\\u1ea3o h\\u00e0nh m\\u00e1y\"], [\"ad \\u0111eo l\\u01b0ng b\\u1ea3o v\\u1ec7 \\u0111\\u1ea7u\"], [\"ship gi\\u00e1 b\\u00e1t th\\u00eca g\\u1ecdi a c\\u01b0\\u1eddng \\u0111i\\u1ec7n tho\\u1ea1i 0988999612 kho\\u1ea3n gi\\u00e1p b\\u00e1t 1h\"], [\"ship 2h chi\\u1ec1u gi\\u00fap nha\"], [\"kho\\u1ea3n ti\\u1ec1n h\\u00e0ng+ ti\\u1ec1n ship\"], [\"ship ch\\u1ec9 h\\u00e0ng\"], [\"kho\\u1ea3n to\\u00e0n\"], [\"ship h\\u00e0ng a\"], [\"ship gi\\u00fap nha\"], [\"th\\u1ec3 kho\\u1ea3n ph\\u00ed ship\"], [\"h\\u00e0ng b\\u1ea3o h\\u00e0nh\"], [\"359 \\u0111\\u1ed7 xu\\u00e2n h\\u1ee3p f ph\\u01b0\\u1edbc long q9 0932143949 thu\"], [\"check gi\\u00fap ph\\u00ed c\\u1ee5 th\\u1ec3 nha\"], [\"h\\u00f4m g\\u1ecdi ca\"], [\"\\u0111\\u1ea3m b\\u1ea3o h\\u00e0nh h\\u00e3ng\"], [\"check kho\\u1ea3n 1890k t\\u1ea1 thu h\\u01b0\\u01a1ng\"], [\"ch\\u1ed3ng kho\\u1ea3n ch\\u1ee5p \\u1ea3nh\"], [\"ch\\u1ed3ng kho\\u1ea3n xong check gi\\u00fap\"], [\"shop check gi\\u00fap kho\\u1ea3n\"], [\"li\\u00ean l\\u1ea1c\"], [\"kho\\u1ea3n xong giao h\\u00f4m\"], [\"kho\\u1ea3n ti\\u1ec1n\"], [\"\\u0111\\u1ea3m b\\u1ea3o\"], [\"ship 10h-11h hoa lan 5-01 vinhom\\u00e9 riv\\u1ebbide long bi\\u00ean 0916896566\"], [\"ok b\\u00e1o t\\u1ed5ng \\u0111\\u01a1n kho\\u1ea3n\"], [\"h\\u00f4m kho\\u1ea3n\"], [\"th\\u1ec3 g\\u1ecdi ship\"], [\"chi 280\"], [\"mua t\\u00e0i kho\\u1ea3n day ban\"], [\"an ki\\u1ec3u chet luon\"], [\"mai ship shop\"], [\"18 a tr\\u1ea7n h\\u01b0ng \\u0111\\u1ea1o 0915222228\"], [\"kho\\u1ea3n xe\"], [\"mai ship gi\\u00fap\"], [\"\\u0111\\u1ecba ch\\u1ec9 471/17 n\\u01a1 trang long p13 b\\u00ecnh th\\u1ea1nh tr\\u00e2m 0935287333\"], [\"nh\\u1eafn t\\u00e0i kho\\u1ea3n vietcombank\"], [\"m\\u1ef9 \\u0111\\u00ecnh bann\"], [\"kho\\u1ea3n 295k\"], [\"kho\\u1ea3n h\\u00e0ng \\u0111i gi\\u00fap\"], [\"kho\\u1ea3n oy\"], [\"li\\u00ean h\\u1ec7 ship b\\u00e1o\"], [\"ship h\\u00e0nh 8-11h chi\\u1ec1u 1h30 5h gi\\u00fap\"], [\"kho\\u1ea3n 50%\"], [\"ship gi\\u00fap 6h h\\u00e0ng\"], [\"193 \\u0111\\u01b0\\u1eddng 1 p 11 g\\u00f2 v\\u1ea5p\"], [\"kho\\u1ea3n lu\\u1ed9\"], [\"kho\\u1ea3n h\\u00f4m\"], [\"mai kho\\u1ea3n\"], [\"shop mua \\u0111\\u1ea5y c\\u1eafm n\\u00f4i ho\\u1ea1t \\u0111\\u1ed9ng n\\u00f4i b\\u1ea3o h\\u00e0nh\"], [\"shop \\u1ea1h\"], [\"t\\u01b0\\u1edfng b\\u1ea3o h\\u00e0nh shop\"], [\"mai ship \\u0111\\u1ea5y\"], [\"h\\u00e0nh h\\u00f4m ship nha\"], [\"\\u0111\\u1eb7t 1 nha t\\u00e0i kho\\u1ea3n\"], [\"g\\u1eedi viettel t\\u00e0i kho\\u1ea3n\"], [\"ship gi\\u00fap g\\u1ecdi giao\"], [\"ph\\u00fa x\\u00e3 eadrong huy\\u1ec7n c\\u01b0mg\\u1ea3 \\u0111aklak 0975068066\"], [\"t\\u00e0i kho\\u1ea3n kho\\u1ea3n shop\"], [\"b\\u1ea3o b\\u1ea3o giao\"], [\"kho\\u1ea3n h\\u1ed9 nh\\u1eafn 7 tu\\u1ea7n b\\u1ea3o h\\u00e0nh rep b\\u1ea3o h\\u00e0ng\"], [\"check d\\u00f9m ship h\\u00e0ng h\\u00f4m h\\u1ed9\"], [\"b\\u00e2y ship g\\u1ecdi b\\u1ea3o \\u0111\\u00f3ng h\\u00e0ng\"], [\"ship b\\u1ea3o 11h\"], [\"kho\\u1ea3n 50% n\\u00e9\"], [\"t\\u00e0i kho\\u1ea3n ng\\u00e2n h\\u00e0ng vietcombank\"], [\"vietcombank 0011004295858 d\\u01b0\\u01a1ng ng\\u1ecdc mai \\u2014\\u2014\\u2014\\u2014\\u2014 techcombank 19026708018015 d\\u01b0\\u01a1ng ng\\u1ecdc mai\"], [\"h\\u1ea3i c\\u1ea9u\"], [\"phi\\u1ebfu b\\u1ea3o h\\u00e0nh h\\u1ea3\"], [\"\\u0111i h\\u00e0nh\"], [\"thu ship g\\u1eedi gi\\u00fap\"], [\"https //www facebook com/1454523434857990/p\\u00f3s/2388638118113179/ d=n\"], [\"h\\u00e3ng b\\u1ea3o h\\u00e0nh shop\"], [\"mai kia\"], [\"t\\u00e0i kho\\u1ea3n ti\\u1ec1n\"], [\"shop kho\\u1ea3n 50%\\u0111c\"], [\"m\\u00e1y b\\u1ea3o h\\u00e0nh bao\"], [\"ti\\u1ec7n kho\\u1ea3n\"], [\"ok nh\\u1eafn ho\\u00e0ng h\\u00e0 tbao \\u0111\\u1ed3 c\\u00e1m \\u01a1n shop\"], [\"12510000800087 nguyen nhuy linh bidv chi nh\\u00e1nh \\u0111\\u1ed3ng \\u0111\\u00f4\"], [\"ok shop shop ckhoan t\\u00e0i kho\\u1ea3n\"], [\"m\\u00e1y b\\u1ea3o h\\u00e0nh\"], [\"0942395488 nha khoa l\\u1ea7u 2 888 \\u0111l b\\u00ecnh d\\u01b0\\u01a1ng thu\\u1eadn giao thu\\u1eadn an bd\"], [\"shop check \\u0111i xong g\\u1ecdi grab\"], [\"shop kho\\u1ea3n nhea\"], [\"oki t\\u00e0i kho\\u1ea3n\"], [\"ship 5h gi\\u00fap\"], [\"ti\\u1ec1n nh\\u1eafn nha\"], [\"kho\\u1ea3n nh\\u00e8\"], [\"check ship gi\\u00fap\"], [\"nh\\u1eafn t\\u00e0i kho\\u1ea3n ng\\u00e2n h\\u00e0ng\"], [\"okie ch\\u00fat kho\\u1ea3n nha\"], [\"b\\u1ea3o h\\u00e0nh m\\u00e1y ch\\u1ea1y caid m\\u00fat b\\u1ecbt ntnay h\\u1ea3\"], [\"ship gi\\u00fap h\\u00e0nh\"], [\"https //m facebook com/st\\u1ecf php st\\u1ecf_fbid=2369736120003379 id=1454523434857990\"], [\"h\\u00e0nh sn 3 ng\\u00e1ch 18 ng\\u00f5 28 thi\\u1ebft gi\\u00e1p c\\u1ed5 nhu\\u1ebf\"], [\"shop h\\u1eb9n ship h\\u00f4m ship\"], [\"kho\\u1ea3n gi\\u00f9m ph\\u00ed ship h\\u00f4m\"], [\"https //www facebook com/shopgauvabingo/p\\u00f3s/2383003148676676 __tn__=-r\"], [\"ui \\u0111\\u1ecbnh kho\\u1ea3n h\\u00f4m\"], [\"t\\u00e0i kho\\u1ea3n mua vol\\u0103ng \\u0111i\\u1ec7n t\\u1eed\"], [\"nh\\u1eafn t\\u00e0i kho\\u1ea3n kho\\u1ea3n 50\"], [\"p kho\\u1ea3n\"], [\"kho\\u1ea3n ui nha\"], [\"ok ship d\\u00f9m\"], [\"https //www facebook com/shopgauvabingo/phot\\u00f3pcb 2387834484860209/2387834461526878/ type=3 theat\\u1ebb\"], [\"ship 1 \\u1ea123 ng\\u00f5 109 truong chinh\"], [\"shop b\\u1ea3o ti\\u1ec1n\"], [\"nh\\u1eafn t\\u00e0i kho\\u1ea3n nhed\"], [\"kho\\u1ea3n 50% nha\"], [\"208 nguy\\u1ec5n tr\\u00e3i p ph\\u1ea1m ng\\u0169 l\\u00e3o q1 0901666349-t\\u00e2m\"], [\"t\\u00e0i kho\\u1ea3n nhez\"], [\"kho\\u1ea3n ruid\"], [\"mai kho\\u1ea3n shop ch\\u1ed1t \\u0111\\u01a1n gi\\u00fap\"], [\"nh\\u1eafn t\\u00e0i kho\\u1ea3n gi\\u00fap\"], [\"m\\u00e1y b\\u1ea3o h\\u00e0nh shop inbox gi\\u00fap\"], [\"g\\u1eedi kho\\u1ea3n\"], [\"xl phi\\u1ec1n kho\\u1ea3n\"], [\"kho\\u1ea3n gi\\u00fap nha\"], [\"kho\\u1ea3n li\\u1ec1n th\\u1eeba\"], [\"kho\\u1ea3n ha\"], [\"h\\u00f4m shop b\\u1ea3o 50k hic\"], [\"kho\\u1ea3n 1tr490 \\u0111ungs\"], [\"ship 1tr5 kho\\u1ea3n h\\u00ec\"], [\"kho\\u1ea3n t\\u00e0i kho\\u1ea3n mua h\\u00e0ng v\\u00f4 m\\u00e2y trang wed b\\u00e1nh h\\u00e0ng\"], [\"kho\\u1ea3n 500\"], [\"ch\\u1ec9 ti\\u1ec1n m\\u1eb7t ship cod gi\\u00fap\"], [\"m\\u00e3i giao h\\u00e0ng ship\"], [\"mai ship kho\\u1ea3n\"], [\"\\u0111\\u1ed5i ch\\u1ed7 c\\u1ed5ng l\\u1ed1i \\u0111\\u01b0\\u1eddng d\\u1ecbch v\\u1ecdng\"], [\"kho\\u1ea3n ti\\u1ec1n to\\u00e1n cod\"], [\"s ki\\u1ec3m tra \\u0111i kho\\u1ea3n ti\\u1ec1n t\\u00fai nhi\\u1ec7t roi h\\u00e0ng ch\\u1ec9 ti\\u1ec1n ship\"], [\"th\\u00f4ng ship nha\"], [\"\\u1ea5p hi\\u00eap l\\u1ee3i x\\u00e3 m\\u1ef9 hi\\u00eap s\\u01a1n h\\u00f2n \\u0111\\u1ea5t kien giang\"], [\"t\\u00e0i kho\\u1ea3n kho\\u1ea3n b\\u00e0n gh\\u1ebf b\\u00e9\"], [\"hi\\u1ec7n t\\u00e0i kho\\u1ea3n ti\\u1ec1n\"], [\"kho\\u1ea3n 330\"], [\"\\u00f4i kho\\u1ea3n mata\"], [\"b\\u1ea3o h\\u00e0nh t\\u00ecnh kho\\u1ea3n\"], [\"t\\u1ed1i ship h\\u00e0ng\"], [\"ki\\u1ec3m tra t\\u00e0i kho\\u1ea3n ha \\u0111\\u1ea1 ch\\u1ee5p\"], [\"t\\u00e0i kho\\u1ea3n agribank nha\"], [\"x\\u00edu kho\\u1ea3n shop\"], [\"s\\u1ea3n 62 ng\\u00f5 th\\u1ed1ng c\\u1ef1 kh\\u1ed1i long bi\\u00ean\"], [\"ship ship h\\u1ed9\"], [\"mai giao th\\u00f4ng ti\\u1ec1n m\\u1eb7t kho\\u1ea3n\"], [\"34 h\\u1ed3ng l\\u0129nh p \\u0111\\u1eadp \\u0111\\u00e1 tx an nh\\u01a1n b\\u00ecnh \\u0111\\u1ecbnh 0904680230\"], [\"chi\\u1ec1u mai\"], [\"t\\u00e0i kho\\u1ea3n g\\u1eedi 600k nha\"], [\"nh\\u1eafn h\\u01a1i\"], [\"l\\u1eafp h\\u00ecnh\"], [\"th\\u00e1o l\\u1eafp h\\u1ecfng h\\u00f3c s\\u1ee9t m\\u1ebb b\\u1ea3o h\\u00e0nh\"], [\"c\\u1ed9ng b\\u1ea3o h\\u00e0nh 12 h\\u1ea3\"], [\"h\\u00f4m ship nha\"], [\"ok nh\\u1eafn\"], [\"b\\u1ea3o h\\u00e0nh 5\"], [\"uh mai\"], [\"kho ship g\\u1ecdi gi\\u00fap\"], [\"2581/19/7a huynh ph\\u00e1t ph\\u00fa xu\\u00e2n b\\u00e8\"], [\"g\\u1eedi ship\"], [\"g\\u1eedi t\\u00e0i kho\\u1ea3n \\u0111i\"], [\"\\u0111\\u1ecdc facebook t2 d\\u00f2ng t\\u00edch\"], [\"b\\u1ea3o h\\u00e0nh c\\u00f4ng ty nh\\u1eadp kh\\u1ea9u v\\u1ea1n an\"], [\"mua kho\\u1ea3n\"], [\"th\\u00f4ng t\\u00e0i kho\\u1ea3n ti\\u1ec1n\"], [\"kho\\u1ea3n ship \\u00ed\"], [\"kho\\u1ea3n xong a b\\u00e1o\"], [\"bao m\\u00e1y h\\u00e2m b\\u1ea3o h\\u00e0nh bao\"], [\"\\u0111\\u1ee1 ph\\u00ed kho\\u1ea3n\"], [\"g\\u1eedi gi\\u00fap t\\u00e0i kho\\u1ea3n\"], [\"c\\u1ea3m \\u01a1n shop shopee viettel post v\\u1eadn h\\u00e0 n\\u1ed9i t\\u1ea7m \\u0111i\\u1ec7p 90k\"], [\"b\\u1ea3o gh\\u1ebf\"], [\"s\\u1ea3n d cc imp\\u1ebba 423 minh khai\"], [\"ship b\\u1ea3o h\\u00e0nh gi\\u00fap\"], [\"ok mai ship\"], [\"ok chi\\u1ec1u ship gi\\u00fap\"], [\"\\u0111\\u01a1n h\\u00e0ng ship nha\"], [\"60 \\u0111\\u00f4ng h\\u01b0ng- t\\u00e2n hi\\u1ec7p- ki\\u00ean giang 0909645479\"], [\"giao ti\\u1ec1n\"], [\"m\\u00e3i g\\u1ecdi\"], [\"b\\u00f4 \\u0111i kho\\u1ea3n\"], [\"t\\u00e0i kho\\u1ea3n to\\u00e1n\"], [\"t\\u00e0i kho\\u1ea3n \\u0111i kho\\u1ea3n\"], [\"kho\\u1ea3n nb\\u00e9\"], [\"kho\\u1ea3n h\\u1ed9\"], [\"kho\\u1ea3n 200k\"], [\"t\\u00e0i kho\\u1ea3n 200k\"], [\"ti\\u1ec1n t\\u00e0i kho\\u1ea3n kho\\u1ea3n\"], [\"https //www facebook com/1454523434857990/p\\u00f3s/2383003148676676/\"], [\"https //www facebook com/shopgauvabingo/vide\\u00f33167915863236311/\"], [\"t\\u1ed1i ship gi\\u00fap\"], [\"\\u0111\\u1eb7t facebook l\\u00ea huy\\u1ec1n\"], [\"b\\u1ea3o qu\\u1ea3n\"], [\"210 tr\\u1ea7n \\u0111\\u1ea1i ngh\\u0129a k\\u00e9o\"], [\"kho\\u1ea3n thanks shop\"], [\"ch\\u1ed1t bill xong kho\\u1ea3n\"], [\"37/2 ho\\u00e0ng hoa th\\u00e1m ph\\u01b0\\u1edbc h\\u1ed9i lagi b\\u00ecnh thu\\u1eddng 0937552524\"], [\"ch\\u1eafn gi\\u00fap\"], [\"g\\u1eedi b\\u1ea3o v\\u1ec7 ph\\u00f2ng 306\"], [\"ship g\\u1ea5p gi\\u00fap\"], [\"park 8 times city\"], [\"mai ti\\u1ec1n ship gi\\u00fap\"], [\"shop t\\u00e0i kho\\u1ea3n vietcombank\"], [\"ship gi\\u00fap 11 h\\u00e0ng m\\u1eafm h\\u00e0nh nhed\"], [\"kho\\u1ea3n ti\\u1ec1n ship r\\u1ebb\"], [\"s\\u1ea3n a-b\\u1ec7nh vi\\u1ec7n ph\\u1ee5 s\\u1ea3n h\\u00e0 n\\u1ed9i-\\u0111\\u00ea la th\\u00e0nh-ba \\u0111\\u00ecnh 0934556698\"], [\"kho\\u1ea3n xong shop\"], [\"t\\u00e0i kho\\u1ea3n kho\\u1ea3n momo\"], [\"https //www facebook com/1454523434857990/p\\u00f3s/2383055565338101/ vh=e d=n\"], [\"t\\u01b0\\u1edfng h\\u00e0ng g\\u1eedi ti\\u1ec1n\"], [\"kho\\u1ea3n b\\u00e2y ship gi\\u00fap\"], [\"h\\u00e0ng kho\\u1ea3n\"], [\"mai kho\\u1ea3n ship gi\\u00fap\"], [\"b\\u1ea3o h\\u00e0nh ship \\u0111i b\\u00e1o\"], [\"ship g\\u1ecdi grab gi\\u00fap\"], [\"ship chi\\u1ec1u g\\u1ecdi grab gi\\u00fap\"], [\"ibanking kho\\u1ea3n h\\u01a1i b\\u1ea5t ti\\u1ec7n\"], [\"h\\u00e0nh h\\u1ea3\"], [\"hi c\\u00e1 back tien m\\u1eb7t t\\u00e0i kho\\u1ea3n a\"], [\"b\\u1ea3o h\\u00e0nh shop \\u0111\\u0103ng\"], [\"ship m\\u00e1y \\u1ee7 \\u1ea5m nevi b\\u1ea3o\"], [\"g\\u1ecdi to\\u00e0n b\\u1eadn a\"], [\"t\\u00e0i kho\\u1ea3n kho\\u1ea3n 300k n\\u1ed1t \\u0111x\"], [\"m\\u00f3n ship cod kho\\u1ea3n shop\"], [\"kho\\u1ea3n l\\u00e1t ch\\u1ed3ng\"], [\"doux shop\"], [\"h\\u00e0ng b\\u1ea3o h\\u00e0nh shop\"], [\"chi\\u1ec1u ship 4h chi\\u1ec1u gi\\u00fap\"], [\"mai ship giao chi\\u1ec1u s\\u1ee3 \\u0111i\"], [\"ship cod kho\\u1ea3n\"], [\"l\\u00e1t \\u0111\\u1ea7u kho\\u1ea3n\"], [\"b\\u1ea3o h\\u00e0nh m\\u00e1y\"], [\"m\\u00e1y made in vietnam ha b\\u1ea3o h\\u00e0nh bao\"], [\"v\\u00f4 kho\\u1ea3n\"], [\"ok check gi\\u00fap ph\\u00ed ship\"], [\"xong t\\u00e0i kho\\u1ea3n vietcombank\"], [\"m\\u00e1y trung qu\\u1ed1c b\\u1ea3o h\\u00e0nh gi\\u00e1 bt\"], [\"\\u0111\\u1ea5y mai\"], [\"b\\u1ea3o ship g\\u1ecdi\"], [\"ntin t\\u00e0i kho\\u1ea3n vietcombank\"], [\"ntin t\\u00e0i kho\\u1ea3n kho\\u1ea3n xe gi\\u00fap\"], [\"babe giao h\\u00e0nh\"], [\"ship h\\u00e0nh 8h t\\u1ed1i\"], [\"m\\u00e1y beaba b\\u1ea3o h\\u00e0nh\"], [\"kho\\u1ea3n h\\u00ecnh th\\u1ee9c ship r\\u1ebb\"], [\"li\\u00ean h\\u1ec7 b\\u1ea3o h\\u00e0nh shop\"], [\"kho\\u1ea3n 430k\"], [\"g\\u1eedi h\\u00e0ng h\\u00f4m g\\u1eedi h\\u00e0nh\"], [\"mai g\\u1eedi kho\\u1ea3n to\\u00e1n tr\\u1ef1c ti\\u1ebfp\"], [\"ti\\u1ec1n kho\\u1ea3n b\\u00e1o\"], [\"ok kho\\u1ea3n giao gia ti\\u1ec1n \\u0111\\u00e2i\"], [\"ti\\u1ec1n giao\"], [\"ship grab ship g\\u1eedi\"], [\"b\\u1ea3o \\u0111\\u1eb9p\"], [\"ok p607g5 nguy\\u1ec5n c\\u1ea3nh d\\u1ecb \\u0111\\u1ea1i kim\"], [\"nga s\\u01a1n h\\u00f3a\"], [\"kho\\u1ea3n 50% gi\\u00e1 tr\\u1ecb \\u0111\\u01a1n h\\u00e0ng\"], [\"\\u0111\\u1ecbnh \\u0111\\u1eb7t shopee nhg nh b\\u1ea3o khay m\\u00e9o\"], [\"shop z\"], [\"https //www facebook com/shopgauvabingo/phot\\u00f3pcb 2380826695560988/2380824908894500/ type=3 theat\\u1ebb\"], [\"https //www facebook com/shopgauvabingo/phot\\u00f3pcb 2380826695560988/2380824898894501/ type=3 theat\\u1ebb\"], [\"phai kho\\u1ea3n\"], [\"\\u00e2p bai ng\\u01b0 an s\\u01a1n huy\\u00ean ki\\u00ean hai tinh ki\\u00ean giang\"], [\"kho\\u1ea3n momo\"], [\"ship ct3a m\\u1ec5 tr\\u00ec th\\u01b0\\u1ee3ng n\\u1eb1m m\\u1eb7t \\u0111\\u1ea1i l\\u1ed9 th\\u0103ng long 0913223008\"], [\"mai ship h\\u00e0ng b\\u00e1o \\u0111\\u01a1n d\\u00e1ng\"], [\"ship h\\u00e0ng t\\u1ea7m\"], [\"18t2 trung ho\\u00e0n nh\\u00e2n\"], [\"ship 2 m\\u00f3n 10 ng\\u00f5 41 \\u0111\\u00f4ng t\\u00e1c ha\\u1ec9 salon b\\u1ea3o 0909220000\"], [\"m\\u00e1y fatz b\\u1ea3o h\\u00e0nh 1\"], [\"kho\\u1ea3n vietcombank\"], [\"shop kho\\u1ea3n nha\"], [\"\\u0111\\u1ee3i ch\\u00fat kho\\u1ea3n x\\u00e1c mai\"], [\"kho\\u1ea3n shop nha~ check h\\u1ed9\"], [\"kho\\u1ea3n vietcombank mb\"], [\"v\\u00e0 ch\\u1ebf \\u0111\\u1ed9 b\\u1ea3o h\\u00e0nh\"], [\"kho\\u1ea3n zui nhed\"], [\"b\\u1ea3o mua shop\"], [\"g\\u1eedi ship gi\\u00fap\"], [\"b\\u1ea3o a g\\u1ecdi tr\\u1ecdng th ship 6h ship xong g\\u1eedi b\\u1ea3o v\\u1ec7 gi\\u00fap kvm\"], [\"gviec b\\u00e9 b\\u1ea3o h\\u00e0nh ship hxhx ship t\\u1ed1i\"], [\"b\\u1ea3o h\\u00e0nh gi\\u00fap\"], [\"ship h\\u00f4m mai\"], [\"g\\u1eedi gi\\u00fap t\\u00e0i kho\\u1ea3n kho\\u1ea3n nha\"], [\"ship h\\u1ed9\"], [\"frrship t\\u1eadn xu\\u00e2n\"], [\"\\u0111\\u1eb7t h\\u00e0ng kho\\u1ea3n\"], [\"b\\u00e2y g\\u1ecdi ship \\u0111i\"], [\"37 l\\u00ea \\u0111\\u1ea1i h\\u00e0nh\"], [\"l\\u00ea \\u0111\\u1ea1i h\\u00e0nh hbt\"], [\"b\\u1ed9 c\\u00e2u c\\u00e1 ben minh b\\u00e1n sak a\"], [\"gh\\u1ebf b\\u1ea3o h\\u00e0nh blau\"], [\"check gi\\u00fap t\\u00e0i kho\\u1ea3n\"], [\"t\\u00e0i kho\\u1ea3n 50% giao nha\"], [\"mua m\\u00e1y phi\\u1ebfu b\\u1ea3o h\\u00e0ng tr\\u00e1ng tinh\"], [\"th\\u00f4ng b\\u1ea3o h\\u00e0nh m\\u00e1y\"], [\"https //www facebook com/shopgauvabingo/p\\u00f3s/2418174771826180 __tn__=k-r g\"], [\"kk b\\u1ea3o tr\\u00ec ti\\u1ec1n c\\u1ed9ng\"], [\"chi\\u1ec1u ch\\u1ed7 b\\u1ea3o h\\u00e0nh m\\u00e1y xay h\\u1ea5p babymov \\u0111\\u1ea5y\"], [\"chi\\u1ec1u kho\\u1ea3n \\u0111i\"], [\"kho\\u1ea3n mai phong t\\u1ecfa ship\"], [\"kho\\u1ea3n c\\u1ed9ng ti\\u1ec1n ship\"], [\"shop \\u0111\\u1ea3m b\\u1ea3o h\\u00e0nh\"], [\"kho\\u1ea3n nhea\"], [\"xong nh\\u1eafn\"], [\"ok shop h\\u00e3ng b\\u1ea3o d\\u1ea1ng h\\u00e0ng\"], [\"lai\"], [\"35 kim m\\u00e3 th\\u01b0\\u1ee3ng a\"], [\"g\\u1ecdi kho\\u1ea3n\"], [\"v\\u0169 h\\u1eefu\"], [\"phieu b\\u1ea3o h\\u00e0nh roi\"], [\"shop \\u0111\\u1ecba ch\\u1ec9 b\\u1ea3o h\\u00e0nh s\\u1eeda ch\\u1eefa s\\u1ea3n ph\\u1ea9m\"], [\"\\u0111\\u1ee3t b\\u1ea3o kho\\u1ea3n qu\\u00ean huhu\"], [\"y\\u00ean b\\u00e1i\"], [\"chuaq kho\\u1ea3n a\"], [\"kho\\u1ea3n gi\\u00fap a\"], [\"kho\\u1ea3n t\\u00e0i kho\\u1ea3n \\u0111i 62893338 ho\\u00e0ng v\\u0169 hi\\u1ec7p vpbank-cn c\\u1ed9ng ho\\u00e0\"], [\"uh mai ship \\u0111i\"], [\"19034633411010 techcombank ctk tr\\u1ea7n th\\u1ecb th\\u1ea3o\"], [\"mai t\\u01b0\\u1edfng h\\u00f4m\"], [\"kho\\u1ea3n shop nah\"], [\"keang nam\"], [\"to s4 cc goldm\\u1ea3 city 136 h\\u1ed3 t\\u00f9ng m\\u1eadu 0857158397 tr\\u1ea7n kh\\u00e1nh ly\"], [\"uki t\\u00e0i kho\\u1ea3n kho\\u1ea3n t\\u1ed5ng 1045k\"], [\"0939881000 chi\"], [\"a8/7g2 \\u0111\\u01b0\\u1eddng 1\\u00e0 v\\u0129nh l\\u1ed9c ch\\u1ec9nh\"], [\"th\\u1ec3 th\\u00f4ng kho\\u1ea3n shipper\"], [\"ok b\\u1ea3o gi\\u01b0\\u1eddng h\\u1ee3p h\\u1ed7 tr\\u1ee3 ch\\u1eadu tr\\u00e1ch nhi\\u1ec7m\"], [\"m\\u00e1y b\\u1ea3o h\\u00e0nh shop\"], [\"kho\\u1ea3n ti\\u1ec1n h\\u00e0ng \\u0111x\"], [\"shop sale inbox\"], [\"b\\u1ef1c b\\u1ea3o v\\u00edt v\\u1eb7n h\\u00e3ng b\\u1ea3o\"], [\"shop ship cod gi\\u00fap ng\\u00e2n h\\u00e0ng\"], [\"n\\u00f4i hoi shop t\\u00e0i kho\\u1ea3n gio\"], [\"mai kho\\u1ea3n tao khoan a\"], [\"mai kho\\u1ea3n 50% h\\u00f3a \\u0111\\u01a1n\"], [\"ship to\\u00e1n\"], [\"mai kho\\u1ea3n shop\"], [\"g\\u1eedi shopee ship\"], [\"ok g\\u1ecdi ship gi\\u00fap\"], [\"cbi s\\u1eb5n kho\\u1ea3n ti\\u1ec1n h\\u00e0ng xong h\\u00e0ng ph\\u00e9p\"], [\"ship h\\u1ed9 nha\"], [\"shop g\\u1edfi gi\\u00fap kho\\u1ea3n\"], [\"t\\u00e0i kho\\u1ea3n bidv shop\"], [\"shopee ph\\u00ed\"], [\"mua xe \\u0111\\u1ea9y b\\u1ea3o h\\u00e0nh\"], [\"https //www facebook com/shopgauvabingo\"], [\"kho\\u1ea3n 50% h\\u00e0ng ti\\u1ebfp %\"], [\"ship h\\u00e0nh kia ship\"], [\"giao h\\u00e0nh\"], [\"mua nha kho\\u1ea3n g\\u1eedi\"], [\"https //m facebook com/st\\u1ecf php st\\u1ecf_fbid=2422439128066411 id=1454523434857990\"], [\"https //m facebook com/st\\u1ecf php st\\u1ecf_fbid=2425026481141009 id=1454523434857990\"], [\"https //m facebook com/st\\u1ecf php st\\u1ecf_fbid=2425791684397822 id=1454523434857990\"], [\"kho\\u1ea3n 3 m\\u00f3n h\\u00e0ng nha\"], [\"kho\\u1ea3n c\\u0169g\"], [\"kho\\u1ea3n 900k\"], [\"https //www facebook com/shopgauvabingo/phot\\u00f3pcb 2425056854471305/2425056784471312/ type=3 theat\\u1ebb\"], [\"\\u0111\\u1ea1i l\\u00fd\"], [\"\\u0111\\u1ea1i l\\u00fd \\u0111\\u1ea1i di\\u1ec7n\"], [\"phi\\u1ebfu b\\u1ea3o h\\u00e0nh\"], [\"g\\u1ecdi ship b\\u1ea3o\"], [\"t\\u1ed5ng bill gi\\u00fap kho\\u1ea3n\"], [\"ship h\\u00e0ng b\\u00e2y\"], [\"okie ship nha\"], [\"https //shop\\u00ea vn/product/36371562/1056037842\"], [\"h\\u00f4m ship 6b ho\\u00e0ng di\\u1ec7u h\\u00e0nh\"], [\"https //www facebook com/shopgauvabingo/p\\u00f3s/2424242474552743 __xts__%5b0%5d=68 \\u1ea3x8tkiigpdrnyklnj\\u00e1m\\u0129tqu1brwty-1cqfvnsleq5lxzh4znk49\\u00ecbs\\u00e32kpwge-cp6j27h3n-otbrb3bpiqtjkdft5h10ljchnlva0\\u1ec9dxzxcqxipyqsk-rxjlfla1\\u1ebb_jty9ltk\\u1ec9w_47bcnlozja66vk8cko2douy4lgzcnjabi4ffqgx47yqvxlold78ytl7b1yqmrqneyv2jf8vo\\u0129biwfd6jmjvvr65fi96kfd-xwrzvrkeugwmnf95g44ngizum8zb_vngp01hlw4a-oqr\\u00f3h\\u1eed79zy6zd9x8denxbau2jb-qb15qzgf\\u00e21txa9lnhuvj4snt __tn__=-r\"], [\"th\\u00f4ng kho\\u1ea3n\"], [\"b\\u1ea3o d\\u01b0\\u1ee1ng\"], [\"m\\u00e1y mjh b\\u1ea3o h\\u00e0nh\"], [\"mjh b\\u1ea3o d\\u01b0\\u1ee1ng m\\u00e1y\"], [\"b\\u1ea3o h\\u00e0nh mjh sinh b\\u00e9\"], [\"kho\\u1ea3n xong ship\"], [\"ship kho\\u1ea3n\"], [\"shop vnpay kho\\u1ea3n\"], [\"b\\u1ea3o h\\u00e0ng \\u0111\\u1ed5i m\\u00e1y \\u0111\\u1ee1 tg\"], [\"689 l\\u1ea1c long qu\\u00e2n phong 0986784182\"], [\"m\\u00e1y b\\u1ea3o h\\u00e0nh th\"], [\"ok nh\\u1eafn gi\\u00fap th\\u00f4ng kho\\u1ea3n\"], [\"n\\u00e2ng h\\u1ea1 y\\u00ean \\u0111x\"], [\"check \\u0111\\u01a1n ship h\\u00e0ng 2\"], [\"h\\u00f4m shop ship h\\u00e0ng h\\u00f4m \\u0111\\u1eb7t ship\"], [\"\\u0111\\u1ea5y nh\\u1eafn b\\u1ea3o 480k mua 580k\"], [\"li\\u00ean ship\"], [\"gui\\u1ebb \\u0111i b\\u1ea3o h\\u00e0nh m\\u00e1y\"], [\"b\\u00e1o g\\u1eedi th\\u00f4ng h\\u00e3ng b\\u1ea3o h\\u00e0nh\"], [\"b\\u1ea3o h\\u00e0nh ki\\u1ec3m tra m\\u00e1y\"], [\"b\\u1ea3o kho\\u1ea3n 50%\"], [\"2 t\\u00e0i kho\\u1ea3n\"], [\"b\\u1ea3o ch\\u1ed3ng kho\\u1ea3n\"], [\"shop kho\\u1ea3n h\\u00f4m kho\\u1ea3n gi\\u00fap mai m1 ng\\u1ea1i nh\\u1eafc\"], [\"kho\\u1ea3n 1019\"], [\"\\u0111\\u1ee3i kho\\u1ea3n\"], [\"kho\\u1ea3n giao\"], [\"kho\\u1ea3n tu hom ma\"], [\"linh \\u0111\\u00f4i\"], [\"b\\u0103c ninh\"], [\"b\\u1ea3o h\\u00e0nh shop ship\"], [\"mai kho\\u1ea3n ship\"], [\"th\\u00f4ng kho\\u1ea3n nha\"], [\"uh ship \\u0111i h\\u1ed9\"], [\"kho\\u1ea3n 100% shop\"], [\"kho\\u1ea3n 50% truoc nha\"], [\"kho\\u1ea3n \\u0111\\u1ea5y gi\\u00fap\"], [\"t\\u00e0i kho\\u1ea3n vietcombank ti\\u1ec1n ng\\u00e2n h\\u00e0ng bidv b\\u1ea3o \\u0111i\"], [\"t\\u00e0i kho\\u1ea3n vietcombank check t\\u00e0i kho\\u1ea3n\"], [\"hix bj kho\\u1ea3n t\\u00e0i kho\\u1ea3n kia vietcombank kho\\u1ea3n\"], [\"h\\u00e0ng ship shopee\"], [\"khung b\\u1ea3o v\\u1ec7 luon ha shop\"], [\"https //www facebook com/1454523434857990/p\\u00f3s/2417104801933177/ vh=e d=n\"], [\"ship gi\\u00fap chi\\u1ec1u to\\u00e1n kho\\u1ea3n\"], [\"mai giao gi\\u00fap h\\u00e0nh\"], [\"https //www facebook com/shopgauvabingo/phot\\u00f3pcb 2417040051939652/2417022035274787/ type=3 theat\\u1ebb nhieu shop\"], [\"b\\u1ea3o h\\u00e0nh ship h\\u1ea3\"], [\"ok nha ship gi\\u00fap\"], [\"b\\u1ea3o h\\u00e0nh ship shop\"], [\"https //www facebook com/shopgauvabingo/phot\\u00f3pcb 2415298025447188/2415297105447280/ type=3 theat\\u1ebb\"], [\"41 b\\u00e1t \\u0111\\u00e0n b\\u1ea3o h\\u00e0nh\"], [\"m\\u00e1y v\\u0111\\u1ec1 b\\u1ea3o h\\u00e0nh c\\u1eeda h\\u00e0ng b\\u1ea3o h\\u00e0nh h\\u1ea3\"], [\"ship b\\u1ea3o h\\u00e0nh\"], [\"chi\\u1ec1u h\\u00e0ng nh\\u1eafn kho\\u1ea3n\"], [\"b\\u1ea3o h\\u00e0nh h\\u00e3ng philip\"], [\"b\\u1ea3o h\\u00e0nh li\\u00ean l\\u1ea1c \\u0111\\u1ea7u\"], [\"h\\u00e0ng b\\u1ea3o h\\u00e0nh t\\u1eadp 3 l\\u1eafm\"], [\"mua h\\u1ed9 b\\u1ea3o chat tr\\u1ef1c ti\\u1ebfp\"], [\"ch\\u1ebf \\u0111\\u1ed9 b\\u1ea3o h\\u00e0nh qu\\u00ean\"], [\"\\u0111\\u1eb7t ship b\\u00e1o kho\\u1ea3n\"], [\"b\\u1ea3o 11h10 ship h\\u00e0ng\"], [\"100b l\\u00ea l\\u1ee3i phan rang th\\u00e1p ch\\u00e0m t\\u1ec9nh ninh thu\\u1eadn hana 0933853778\"], [\"t\\u00e0i kho\\u1ea3n ch\\u1ec9 g\\u1eedi tr\\u1ef1c ti\\u1ebfp\"], [\"kho\\u1ea3n giao h\\u00e0ng ch\\u1ec9\"], [\"s\\u1ee3 chi\\u1ec1u \\u0111i mua \\u0111\\u1ed3 t\\u00e0i kho\\u1ea3n\"], [\"h\\u00f4m g\\u1eedi ship\"], [\"g\\u1ecdi t\\u00e0i kho\\u1ea3n gi\\u00fap\"], [\"chi\\u1ec1u ship gi\\u00fap nha\"], [\"ship chi\\u1ec1u shopee\"], [\"ki\\u1ec3m tra ph\\u00ed ship\"], [\"xe bato h\\u00e0nh\"], [\"kho\\u1ea3n h\\u00e0ng b\\u00e1nh\"], [\"kho\\u1ea3n h\\u00e0ng\"], [\"ok kho\\u1ea3n h\\u00e0ng\"], [\"bg b\\u1ea3o h\\u00e0nh\"], [\"ti\\u1ec1n ship kho\\u1ea3n h\\u00e0ng shop\"], [\"shop t\\u00e0i kho\\u1ea3n kho\\u1ea3n 50% nha\"], [\"b\\u00e1o ph\\u00ed kho\\u1ea3n\"], [\"ch\\u1ea5t li\\u1ec7u g\\u1ed7 + s\\u01a1n \\u0111\\u1ed9c h\\u1ea1i\"], [\"ship h\\u00f4m gi\\u00fap\"], [\"kho\\u1ea3n 50% nh\\u00e1 shop\"], [\"t\\u00e0i kho\\u1ea3n mua ti\\u1ec7n\"], [\"gian b\\u1ea3o h\\u00e0nh\"], [\"gh\\u1ebf b\\u1ea3o h\\u00e0nh bao\"], [\"ok \\u0111\\u0103ng nh\\u1eadp t\\u00e0i kho\\u1ea3n\"], [\"kho\\u1ea3n shop check gi\\u00fap\"], [\"m\\u00e1y b\\u1ea3o h\\u00e0ng h\\u00e3ng\"], [\"b\\u1ea3o h\\u00e0nh 12\"], [\"73/1a qu\\u1ed1c l\\u1ed9 1\\u00e0 p t\\u00e2n th\\u1edbi hi\\u1ec7p q12\"], [\"ch\\u1eafn h\\u00e0ng\"], [\"ship mai \\u0111i t\\u1eb7ng\"], [\"https //www facebook com/shopgauvabingo/phot\\u00f3pcb 2407844429525881/2407839842859673/ type=3 theat\\u1ebb\"], [\"https //www facebook com/shopgauvabingo/phot\\u00f3pcb 2407995762844081/2407993859510938/ type=3 theat\\u1ebb\"], [\"l\\u1eafp 1 l\\u1eafp\"], [\"https //www facebook com/shopgauvabingo/p\\u00f3s/2352107208432937 __xts__%5b0%5d=68 \\u1ea3edcgdzg_j9d-xunjlqwj9en-rfmxamqgcwd5lm5hwnpann156mzxovk0_ihbf\\u00ec1uumjwocthbaibweug0ayga\\u0169i8dems5cv9xkhrrrwqzu0v5tonyf\\u0103d\\u0169gnvmwwfx1xj9jezw2hl2y4hwjzfp7wyskcpnuzylcnxjzti\\u1ea1fc2drfsg\\u01b0uzd\\u01035s140ctnhedc-xuini0wqez959c2ocy68mjid\\u1ea1dk7uyuv58\\u01b0l8b\\u00fa0nl70q-cqdu-aqbul\\u01b0f5t0mgp5i2hlhrww94-4la\\u00ecj1scqebaec\\u1ecbxlemupsc1lncc5ic85w785rjl\\u00f98qpsp2hdo __tn__=-r\"], [\"https //www facebook com/shopgauvabingo/phot\\u00f3pcb 2412024195774571/2412022332441424/ type=3 theat\\u1ebb\"], [\"c\\u00f4ng 1 bv vi\\u1ec7t \\u0111\\u1ee9c 16 ph\\u1ee7 do\\u00e3n\"], [\"mai ship 1\"], [\"minhg t\\u00e0i kho\\u1ea3n\"], [\"uki ship nha\"], [\"l\\u1eafp l\\u1eafp\"], [\"ship cod gi\\u00fap\"], [\"kho\\u1ea3n sip\"], [\"shop ship g\\u1ecdi \\u0111i\\u1ec7n giao \\u0111\\u1ed3 m\\u1ea5y\"], [\"b\\u00e1o kho\\u1ea3n\"], [\"h\\u00f4m 2266 \\u0111\\u01b0\\u1eddng hu\\u1ef3nh ph\\u00e1t\"], [\"b\\u1ea3o ch\\u1ea5t\"], [\"b\\u1ea3o h\\u00e0nh c\\u1eeda h\\u00e0ng\"], [\"gi\\u00e1 kho\\u1ea3n\"], [\"nguy\\u1ec5n b\\u00edch sn 66 t\\u1ed5 2 quang trung m\\u1ea1o kh\\u00ea \\u0111\\u00f4ng tri\\u1ec1u qu\\u1ea3ng ninh 0988999186\"], [\"shop th\\u1eed \\u0111\\u01a1n ship gi\\u00fap\"], [\"b\\u1ea3o h\\u00e0nh c\\u1ee9ng d\\u1ecbch\"], [\"g\\u1eedi h\\u00e0ng ch\\u1ee3 \\u0111\\u1ed3ng xu\\u00e2n gi\\u00fap\"], [\"b\\u1ea3o ship\"], [\"g\\u1eedi chi\\u1ec1u ship\"], [\"52 l\\u0129nh nam\"], [\"m\\u00e0u h\\u1ed3ng t\\u00edm b\\u1ea3o h\\u00e0nh h\\u00e0ng\"], [\"giao h\\u00f4m \\u0111i\"], [\"m\\u00e1y b\\u1ea3o h\\u00e0nh h\\u1ea3 shop\"], [\"m\\u00e1y b\\u1ea3o h\\u00e0nh bao nhi\\u00eau\"], [\"ok ch\\u00f3t ch\\u1ee5p th\\u1ebb b\\u1ea3o h\\u00e0nh h\\u00e3ng\"], [\"shop shop b\\u1ea3o h\\u00e0nh\"], [\"t\\u00e0i kho\\u1ea3n kho\\u1ea3n ship\"], [\"ph\\u1ea1m ng\\u1ecdc th\\u1ea1ch\"], [\"n\\u00e3y g\\u1ecdi \\u0111i\\u1ec7n kia b\\u1ea3o 550k\"], [\"t\\u00e0i kho\\u1ea3n agri\"], [\"ship dt g\\u1ecdi b\\u1ea3o ship h\\u00e0nh h\\u00f4m\"], [\"ship m\\u00e0u 169 nguy\\u1ec5n ng\\u1ecdc v\\u0169 h\\u00e0nh \\u1ea1b\"], [\"\\u0111\\u00e0 n\\u1eb5ng \\u0111\\u1ecba ch\\u1ec9 b\\u1ea3o h\\u00e0nh\"], [\"bank kho\\u1ea3n ship cod\"], [\"linh \\u0111\\u00e0m\"], [\"b\\u00e9 b\\u1ea3o h\\u00e0nh\"], [\"https //www facebook com/shopgauvabingo/vide\\u00f3610615676449368/\"], [\"b\\u1ea3o shop\"], [\"kho\\u1ea3n ti\\u1ec1n m\\u1eb7t\"], [\"kho\\u1ea3n 100% fs\"], [\"kho\\u1ea3n shop ship\"], [\"ship gi\\u00fap 4\"], [\"g\\u1eedi l\\u1ec5 t\\u00e2n b\\u1ea3o g\\u1eedi a hu\\u00e2n\"], [\"kho\\u1ea3n li\\u1ec1n ship\"], [\"h\\u00f4m b\\u1ea3o nh\\u1eafn qu\\u00ean\"], [\"ho\\u00e0ng hoa th\\u00e1m h\\u1ec9 t\\u1ea7m 3h30\"], [\"yep a b\\u1ea3o ship g\\u1ecdi\"], [\"di\\u1ec7u h\\u01b0\\u01a1ng 03883 4 9898 182 v\\u01b0\\u01a1ng th\\u1eeba v\\u0169 p kh\\u01b0\\u01a1ng trung q xu\\u00e2n\"], [\"h\\u00f4m ship mai shop\"], [\"110 \\u0111\\u01b0\\u1eddng d\\u1ecbch v\\u1ecdng h\\u1eadu\"], [\"kho\\u1ea3n shop ship nh\\u00e1\"], [\"t2 ship h\\u00e0ng gi\\u00fap\"], [\"shop shop g\\u1eedi k\\u00e8m chi\\u1ebfu b\\u1ea3o h\\u00e0nh\"], [\"ship gi\\u00fap to\\u00e1n ti\\u1ec1n m\\u1eb7t\"], [\"\\u0111\\u01a1n t\\u00e0i kho\\u1ea3n kho\\u1ea3n\"], [\"gh\\u1ebf gi\\u00e0y b\\u1ea3o h\\u00e0nh\"], [\"ship mai gi\\u00fap\"], [\"https //www facebook com/1454523434857990/p\\u00f3s/2450577061919284/\"], [\"khung b\\u1ea3o v\\u1ec7 ng\\u1ef1c\"], [\"t\\u00e0i kho\\u1ea3n tren\"], [\"\\u0111\\u01a1n h\\u00f4m ship\"], [\"kho\\u1ea3n ti\\u1ec1n \\u0111\\u1eb7t shopee\"], [\"hi\\u1ec7n ti\\u1ec1n t\\u00e0i kho\\u1ea3n\"], [\"ok ship gi\\u00fap thanks\"], [\"ship gi\\u00fap thanks\"], [\"ship \\u0111i h\\u00f4m mai\"], [\"gi\\u00fap kho\\u1ea3n\"], [\"https //www facebook com/1454523434857990/p\\u00f3s/2451520448491612/ d=n\"], [\"h\\u00e0ng \\u0111\\u1ea3m b\\u1ea3o b\\u1ea3o h\\u00e0nh 12\"], [\"kem nhi nha 1174 to 27 ap 2a xu\\u00e2n hung huy\\u1ec7n xu\\u00e2n loc tinh dong nai \\u0111i\\u1ec7n tho\\u1ea1i 0969411541\"], [\"bon\\u00fa clip https //www facebook com/suzyn tran/vide\\u00f32610259615704450/\"], [\"mai ship to\\u00e1n ti\\u1ec1n m\\u1eb7t\"], [\"chat nh\\u00e2n vi\\u00ean\"], [\"b\\u1ea3o h\\u00e0nh shop li\\u00ean h\\u1ec7\"], [\"m\\u00e1y gi\\u1eb7t b\\u1ea3o h\\u00e0nh\"], [\"b\\u1ea3o h\\u00e0ng h\\u00e3ng\"], [\"g\\u1ecdi mai ship\"], [\"oki shop nh\\u1eafn t\\u00e0i kho\\u1ea3n nha\"], [\"chi\\u1ebfu b\\u1ea3o h\\u00e0nh t\\u00ecnh mua shop\"], [\"h\\u00f4m kho\\u1ea3n 50% shop ship\"], [\"gh\\u1ebf b\\u1ea3o h\\u00e0nh th\\u01b0\\u01a1ng h\\u1ee3p\"], [\"2sp b\\u1ea3o h\\u00e0nh h\\u00e3ng 1\"], [\"b\\u1ea3o kia mua\"], [\"shop check t\\u00e0i kho\\u1ea3n gi\\u00fap\"], [\"https //www facebook com/1454523434857990/p\\u00f3s/2436433720000285/ d=n\"], [\"tu\\u1ea7n ship h\\u00e0nh gi\\u00fap\"], [\"uh mai giao a 3 chi\\u1ec1u\"], [\"ti\\u1ebfng vi\\u1ec7t\"], [\"kho\\u1ea3n ship nha\"], [\"ship gi\\u00f9m nha\"], [\"kho\\u1ea3n mau nha\"], [\"b\\u1ea3o h\\u00e0ng h\\u1ea3 shop\"], [\"shop mua m\\u00e1y medela pump shop b\\u00e2y h\\u01b0 h\\u00fat shop b\\u1ea3o h\\u00e0nh s\\u00e0i g\\u00f2n\"], [\"b\\u00e2y b\\u1ea3o h\\u00e0nh\"], [\"49/26/11 \\u0111\\u01b0\\u1eddng 51 ph\\u01b0\\u1eddng 14 g\\u00f2 v\\u1ea5p ph\\u00f9ng tr\\u1ea7n qu\\u1ed1c 0989313845\"], [\"h\\u00e0ng s\\u1eed d\\u1ee5ng b\\u1ea3o h\\u00e0nh shop\"], [\"gi\\u00e1 m\\u00e1y gi\\u1eb7t g\\u1ed1c ch\\u1ebf \\u0111\\u1ed9 b\\u1ea3o h\\u00e0ng\"], [\"ship h\\u00e0ng nha\"], [\"h\\u00e0ng kho\\u1ea3n h\\u00e0ng\"], [\"m\\u00e1y phi\\u1ebfu b\\u1ea3o h\\u00e0nh 2 h\\u00e3ng shop\"], [\"h\\u00f4m \\u0111\\u00f4ng nh\\u00ecu m\\u00e3 mua b\\u1ea3o m\\u00e3i h\\u0129\"], [\"ok li\\u00ean l\\u1ea1c\"], [\"https //www facebook com/photo fbid=2445776195732704 set=pcb 2445777899065867\"], [\"093 2802828 097 4399646 - vi\\u1ec7t\"], [\"kho\\u1ea3n nh\\u1eafn\"], [\"t\\u1ed5ng kho\\u1ea3n 1550\"], [\"to\\u00e1n ship\"], [\"5 ng\\u00f5 77 b\\u00f9i x\\u01b0\\u01a1ng tr\\u1ea1ch\"], [\"uh h\\u00e0nh nha\"], [\"s\\u1ea3n 33 ngo 41 ph\\u00f4 \\u0111uong hoa quang an\"], [\"nghi k\\u00e8m b\\u1ea3o h\\u00e0nh \\u0111\\u1ea5y newn \\u0111\\u1ea7u\"], [\"kbiet \\u0111\\u1ea7u nghi th\\u1ebb b\\u1ea3o h\\u00e0nh\"], [\"th\\u1ebb b\\u1ea3o h\\u00e0nh\"], [\"ship h\\u00e0nh 4h30 gi\\u00fap\"], [\"ship gi\\u00fap h\\u00f4m\"], [\"kho\\u1ea3n oy nha shop\"], [\"shop t\\u00e0i kho\\u1ea3n agribank kho\\u1ea3n\"], [\"ti\\u1ec1n ship h\\u00e0ng tinh kho\\u1ea3n\"], [\"kho\\u1ea3n ph\\u00ed ship\"], [\"t\\u00e0i kho\\u1ea3n vietin bank\"], [\"gold mark city 136 h\\u1ed3 t\\u00f9ng m\\u1eadu s4\"], [\"https //www facebook com/1454523434857990/p\\u00f3s/2441536686156655/\"], [\"b\\u00e2y g\\u1eedi b\\u1ea3o h\\u00e0nh\"], [\"ti\\u1ec1n h\\u00e0ng kho\\u1ea3n\"], [\"gi\\u00e1 g\\u1eedi l\\u00e1t grap b\\u1ea3o 100k toi\"], [\"ph\\u00ed ship gi\\u00fap\"], [\"c\\u1ecdc 50% xong h\\u00e0ng kho\\u1ea3n 50%\"], [\"ch\\u1ec9nh a li\\u00ean h\\u1ec7 thanks\"], [\"ph\\u00f9 l\\u1ed7 s\\u00f3c s\\u01a1n\"], [\"https //www facebook com/shopgauvabingo/vide\\u00f3254704795667789/\"], [\"kho\\u1ea3n ch ch ch k\\u1ebf to\\u00e1n h\\u1ed9\"], [\"g\\u1ecdi grab ch\\u1ed7\"], [\"nh\\u1eafn kho\\u1ea3n\"], [\"ngh\\u00e1ch 151 ng\\u00f5 172 \\u00e2u\"], [\"od b\\u1ea3o h\\u00e0nh h\\u00e0ng h\\u1ea3\"], [\"od b\\u1ea3o h\\u00e0nh h\\u1ea3\"], [\"ok kho\\u1ea3n xong ntin\"], [\"t\\u00ed ship 4 ng\\u00f5 13 d\\u1ed1c tam \\u0111a- thu\\u1ef5 khu\\u00ea\"], [\"\\u0111i giao h\\u00e0ng\"], [\"ship \\u0111\\u00e0n gi\\u00fap\"], [\"v\\u00f2ng b\\u1ea3o h\\u00e0nh\"], [\"https //www facebook com/1454523434857990/p\\u00f3s/2439684789675178/\"], [\"t\\u00e0i kho\\u1ea3n g\\u1eedi ti\\u1ec1n ship gi\\u00fap\"], [\"b\\u1ea3o \\u0111\\u1ee3t mua car seat zaracos th\\u1ec3 l\\u00fd gi\\u00fap\"], [\"23a ph\\u00fa \\u0111\\u1ee9ng\"], [\"https //www facebook com/1454523434857990/p\\u00f3s/2438866603090330/\"], [\"https //m facebook com/st\\u1ecf php st\\u1ecf_fbid=2438859986424325 id=1454523434857990\"], [\"https //www facebook com/1454523434857990/p\\u00f3s/2436526253324365/\"], [\"c\\u01b0 homecity 177 trung k\\u00ednh\"], [\"kho\\u1ea3n c\\u1ed1 g\\u1eafng giao h\\u00f4m gi\\u00fap\"], [\"kho\\u1ea3n 9h \\u0111\\u1ed3 trung h\\u00f4m\"], [\"check t\\u00e0i kho\\u1ea3n \\u0111x\"], [\"t\\u00e0i kho\\u1ea3n tech check ship gi\\u00fap\"], [\"shop b\\u1ea3o ch\\u1ec9 900\"], [\"chat gi\\u00fap mink mink kho\\u1ea3n\"], [\"ll kho\\u1ea3n ch\\u1ed7 gi\\u00fap\"], [\"b\\u1ea3o h\\u00e0nh b\\u1ea3o s\\u00edp trat ti\\u1ec1n\"], [\"\\u0111\\u0103ng nh\\u1eafn\"], [\"xong mai ship ti\\u1ec1n\"], [\"b\\u1ea3o qa h\\u1ed9\"], [\"g\\u1eedi t\\u00e0i kho\\u1ea3n nha\"], [\"to\\u00e1n kho\\u1ea3n shop\"], [\"s uii 37a 37 ng\\u00f5 124 ng\\u00e1ch 55 \\u00e2u\"], [\"g\\u1eedi b\\u1ea3o vao toi s\\u00e0i g\\u00f2n ban\"], [\"giao h\\u00e0ng h\\u00f4m \\u0111\\u00f4ng shop\"], [\"to\\u00e1n h\\u00ecnh th\\u1ee9c kho\\u1ea3n h\\u00e0ng\"], [\"h\\u00e0ng \\u0111\\u1ea3m b\\u1ea3o\"], [\"1 b\\u1ea3o\"], [\"mua b\\u1ea3o \\u0111\\u1eb7t h\\u00e0ng trung b\\u00e0y\"], [\"b\\u00f4 tr\\u00f2n b\\u1ea3o h\\u00e0nh h\\u00e0ng\"], [\"kho\\u1ea3n 1\"], [\"ch\\u1ed1t kho\\u1ea3n nha\"], [\"h\\u00e0nh s\\u1eb5n\"], [\"b\\u00ecnh \\u0111un moaz b\\u00ea be\"], [\"kho\\u1ea3n 1335 nha shop\"], [\"shop \\u0111\\u01a1n kho\\u1ea3n\"], [\"ship b\\u00f4 gi\\u00fap\"], [\"xong ship gi\\u00fap\"], [\"kho\\u1ea3n kia\"], [\"t\\u00e0i kho\\u1ea3n shopee\"], [\"h\\u00e0nh mao nhe\"], [\"uh kho\\u1ea3n\"], [\"kho\\u1ea3n n\"], [\"p1908 ct1a c\\u01b0 m\\u1ec5 tr\\u00ec plaza nam li\\u00eam 0912349671\"], [\"shop t\\u01b0 v\\u1ea5n b\\u1ea3o h\\u00e0nh\"], [\"kho\\u1ea3n \\u0111\\u1eb7t an\"], [\"h\\u00e0ng to\\u00e1n ti\\u1ec1n\"], [\"qu\\u1ea3ng tr\\u1ecb\"], [\"ship t\\u1ec9nh ki\\u1ec3m tra h\\u00e0ng m\\u00f3p m\\u00e9o\"], [\"uh ok h\\u00f4m ship 18 l\\u00ea \\u0111\\u1ea1i h\\u00e0nh\"], [\"18 l\\u00ea \\u0111\\u1ea1i h\\u00e0nh\"], [\"to\\u00e1n shop h\\u00e0ng h\\u00e0ng y\\u00ean t\\u00e2m to\\u00e1n kho\\u1ea3n shop\"], [\"b\\u1ea3o h\\u00e0nh 12 2 \\u0111\\u1eb1ng\"], [\"ok ship h\\u00e0nh\"], [\"ship m\\u1ea5y h\\u00e0ng\"], [\"ch\\u1ed7 71 h\\u00e0ng b\\u00ecnh \\u0111\\u00fag\"], [\"shipcod kho\\u1ea3n\"], [\"kho\\u1ea3n b\\u00e2y\"], [\"ti\\u1ec1n ship kho\\u1ea3n\"], [\"s\\u1ee3 t\\u00e0i kho\\u1ea3n kho\\u1ea3n\"], [\"m\\u1ea5y phi\\u1ebfu cod h\\u00e3ng b\\u1ea3o h\\u00e0nh\"], [\"m\\u00e1y lm phi\\u1ebfu b\\u1ea3o h\\u00e0nh b\\u1ea3o h\\u00e0nh s\"], [\"ki\\u1ebfm tra d\\u00f9m b\\u1ea3o h\\u00e0nh\"], [\"b\\u00e1o gi\\u00fap minhg kho\\u1ea3n\"], [\"h\\u00e0nh ho\\u00e0ng qu\\u1ed1c vi\\u1ec7t\"], [\"b\\u00e1o kho ship chi\\u1ec1u gi\\u00fap\"], [\"ship mai ship mu\\u1ed9n ch\\u00fat nha shop\"], [\"\\u0111\\u1ea3m b\\u1ea3o y h\\u00ecnh gi\\u00fap mua c\\u00f4ng\"], [\"kho\\u1ea3n ti\\u1ec1n grap shop\"], [\"xong ship l\\u1eb1ng nh\\u1eb1ng kho\\u1ea3n g\\u1ecdi\"], [\"g\\u1ecdi ship \\u0111i\"], [\"b\\u1ea3o ship giao h\\u00e0ng \\u0111i\"], [\"xong nh\\u1eafn h\\u1ed9 t\\u00e0i kho\\u1ea3n\"], [\"ship mai h\\u1ed9\"], [\"tr\\u01b0\\u1eddng chinh\"], [\"ship g\\u1ecdi \\u0111i\\u1ec7n b\\u00e1o ship\"], [\"mai t\\u00e0i kho\\u1ea3n shop\"], [\"mai \\u0111\\u01a1n gi\\u00fap kho\\u1ea3n ph\\u00ed ship\"], [\"to\\u00e1n kho\\u1ea3n nhen\"], [\"th\\u1ee7 t\\u1ee5c b\\u1ea3o h\\u00e0nh\"], [\"https //www snbshop vn/products/avent-may-hut-sua-bang-dien-doi\"], [\"full shop\"], [\"k\\u00e8m m\\u0169 b\\u1ea3o h\\u00e0nh b\\u00e9\"], [\"b\\u1ea3o h\\u00e0nh bao nhi\\u00eau\"], [\"b\\u00ecnh \\u1ee7 chao relea\"], [\"kp3 th\\u00f4ng tr\\u1ea3ng bom huy\\u1ec7n tr\\u1ea3ng bom t\\u1ec9nh \\u0111\\u1ed3ng nai 0345806666\"], [\"b\\u1ea3o gi\\u00e1\"], [\"h\\u00f4m shop b\\u1ea3o\"], [\"giao shop b\\u1ea3o h\\u00f4m giao h\\u00f4m\"], [\"c\\u00f4ng t\\u1eafc\"], [\"210 shop kho\\u1ea3n\"], [\"b\\u1ea3o v\\u1ec7 la\"], [\"https //www facebook com/1454523434857990/p\\u00f3s/2476461112664212/ d=n\"], [\"kho\\u1ea3n fz ship\"], [\"g\\u1ecdi t\\u00e0i kho\\u1ea3n \\u0111i\"], [\"\\u0111\\u1ee3i ch\\u00fat kho\\u1ea3n\"], [\"ok ship gi\\u00fap kia\"], [\"hi\\u1ec7n kho\\u1ea3n qu\\u00ea\"], [\"n16 271 tr\\u1ea7n \\u0111\\u0103ng ninh r\\u1ebd\"], [\"\\u0111\\u1eb7t tiki shop h\\u1ed7 tr\\u1ee3 v\\u00ed d\\u1ee5 th\\u00e1o l\\u1eafp b\\u1ea3o h\\u00e0nh\"], [\"https //www facebook com/1454523434857990/p\\u00f3s/2478174839159506/\"], [\"sn52 ng\\u00f5 14 m\\u1ec5 tr\\u00ec h\\u1ea1 0329984688\"], [\"b\\u1ea3o b\\u1ed1c\"], [\"kho\\u1ea3n l\\u1ed7i\"], [\"m\\u1ec5 tr\\u00ec\"], [\"mua m\\u1ea5y ship b\\u1ea3o kho\"], [\"okie nh\\u00e1 giao nh\\u1eafn kho\\u1ea3n\"], [\"ship 16 ng\\u00f5 310 nghi t\\u00e0m 0949800700\"], [\"th\\u1ebf qu\\u1ea1t mini c\\u00f3 b\\u1ea3o h\\u00e0nh shop\"], [\"b\\u1ea3o h\\u00e0nh l\\u1ee1 h\\u01b0 h\\u1ecfng shop\"], [\"h\\u00e0ng holla h\\u1ea3 shop b\\u1ea3o h\\u00e0nh h\\u00e3ng\"], [\"https //www facebook com/1454523434857990/p\\u00f3s/2473312826312374/\"], [\"b\\u1ea3o h\\u00e0nh li\\u1ec1n g\\u1edfi h\\u00e0ng\"], [\"tr\\u01b0\\u01a1ng th\\u1ecb b\\u00edch h\\u1ee3p th\\u00f4n l\\u1ea1c l\\u1ee3i x\\u00e3 di\\u00ean ho\\u00e0 huy\\u1ec7n di\\u00ean kh\\u00e1nh tinh kh\\u00e1nh ho\\u00e0 dt 0777449235\"], [\"b\\u1ea3o h\\u00e0nh s\"], [\"kho\\u1ea3n nhed\"], [\"ok ch\\u00fat kho\\u1ea3n\"], [\"t\\u00e0i kho\\u1ea3n vi\\u00eatcombank\"], [\"ah m\\u00e1y b\\u1ea3o h\\u00e0nh\"], [\"m\\u00e1y ti\\u1ec7t khu\\u1ea9n b\\u1ea3o h\\u00e0nh\"], [\"kho\\u1ea3n trv\"], [\"mua kho\\u1ea3n h\\u1ea3\"], [\"kho\\u1ea3n 19029029199999 techcombank\"], [\"713 l\\u1ea1c long qu\\u00e2n 0936725368\"], [\"h\\u00e0nh quan\"], [\"https //www facebook com/shopgauvabingo/phot\\u00f3pcb 2469123436731313/2469122833398040/ type=3 theat\\u1ebb\"], [\"kho\\u1ea3n 50% \\\\\"], [\"113 v\\u0129nh h\\u1ea3o phong b\\u00ecnh thu\\u1eddng trang 0972927223\"], [\"\\u0111\\u1ebfn nh\\u00e0 a khu 7 2ha v\\u0129nh ph\\u00fac \\u0111\\u00ecnh\"], [\"ok ship gi\\u00fap\"], [\"t\\u00e0i kho\\u1ea3n kho\\u1ea3n \\u0111\\u1ed1ng \\u0111a\"], [\"ship gi\\u00fap h\\u00f4m mai\"], [\"hi\\u1ec7n thu\\u1ed1c v\\u00e2n s\\u01a1n\"], [\"b\\u1ea3o ship h\\u1ed9 a\"], [\"nh\\u1eafn t\\u00e0i kho\\u1ea3n \\u0111i\"], [\"mai kho\\u1ea3n ti\\u1ec1n n\\u00f4i s\\u1eb5n\"], [\"mai kho\\u1ea3n nhea\"], [\"h\\u00f4m bu\\u1ed9c g\\u1ecdi\"], [\"b\\u1ea3o b\\u00ecnh 2 5t\"], [\"6 k\\u1ecbp\"], [\"mua phi\\u1ebfu b\\u1ea3o h\\u00e0nh\"], [\"https //www facebook com/1454523434857990/p\\u00f3s/2466822686961388/\"], [\"lnao b\\u1ea3o 1350k\"], [\"giao 1 t\\u1ea3o ph\\u01b0\\u1eddng b\\u00ecnh th\\u1ecd th\\u1ee7 \\u0111\\u1ee9c tr\\u1ecdng h\\u00e0nh nha shop\"], [\"b\\u1ea3o ti\\u00eang shop\"], [\"2002 b1 khung c\\u01b0 twin t\\u01a1rs hud 2 t\\u00e2y nam linh \\u0111\\u00e0m ho\\u00e0ng mai\"], [\"kho\\u1ea3n grab\"], [\"b\\u1ea3o ship g\\u1ecdi y\\u1ebfn \\u01a1n\"], [\"ok chi\\u1ec1u mai\"], [\"kho\\u1ea3n ti\\u1ec1n \\u0111\\u00e0n\"], [\"gh\\u1ebf b\\u1ea3o h\\u00e0ng h\\u00e3ng 12\"], [\"kho\\u1ea3n 199k nhen\"], [\"kho\\u1ea3n n\\u00e8\"], [\"b\\u1ea3o h\\u00e0nh dt\"], [\"b\\u1ea3o h\\u00e0ng shop\"], [\"ship l\\u1eafp gi\\u00fap\"], [\"b\\u1ea3o h\\u00e0nh ship cbi \\u0111i \\u1edbi\"], [\"mai giao h\\u00e0nh gi\\u00fap nha\"], [\"\\u0111\\u1eb7t b\\u1ea3o h\\u00e0nh h\\u00e0ng\"], [\"b\\u1ea3o h\\u00e0nh hic\"], [\"b\\u1ea3o h\\u00e0nh bao h\\u1ea3\"], [\"v\\u1ee3 b\\u1ea3o \\u0111\\u1ea5y\"], [\"s\\u1ea3n 2 ng\\u00e1ch 98/14 nguy\\u1ec5n ng\\u1ecdc n\\u1ea1i 0948240489\"], [\"c\\u1ed1c keangnam d\\u01b0\\u01a1ng \\u0111\\u00ecnh ngh\\u1ec7\"], [\"m\\u00e1y gi\\u1eb7t b\\u1ea3o h\\u00e0nh 1\"], [\"ship kho\\u1ea3n kho\\u1ea3n\"], [\"ship 1 18c ng\\u00f5 93 gi\\u00e1p nh\\u1ecb\"], [\"nh\\u1eafn t\\u00e0i kho\\u1ea3n l\\u00e1t ship\"], [\"mai \\u0111\\u00e0n\"], [\"xong h\\u00e0ng kho\\u1ea3n\"], [\"shop t\\u00e0i kho\\u1ea3n kho\\u1ea3n \\u0111i\"], [\"mai ch\\u1ec9 h\\u00e0ng\"], [\"b\\u1ea3o h\\u00e0nh chi\\u1ec1u\"], [\"ship g\\u1ecdi b\\u00e1o\"], [\"kho\\u1ea3n to\\u00e1n\"], [\"kho\\u1ea3n ti\\u1ec1n ship nh\\u00e1\"], [\"ho\\u00e0ng t\\u00e0u h\\u1ecfa l\\u1eafp r\\u00e1p\"], [\"66x59x42cm - g\\u1ea5p 66x\"], [\"m\\u00e1y gi\\u1eb7t b\\u1ea3o h\\u00e0nh hk shop b\\u1ea3o h\\u00e0nh shop\"], [\"t\\u00e0i kho\\u1ea3n nha kho\\u1ea3n shop h\\u00e1\"], [\"l\\u1ed7i ntin ch\\u1ed3ng ch\\u1ed3ng qu\\u00ean \\u0111\\u1eb7t shopee b\\u1ea3o\"], [\"uh ship gi\\u00fap\"], [\"t\\u1ed5ng bill m\\u00ech kho\\u1ea3n\"], [\"b\\u1ea3o giao h\\u00e0ng\"], [\"b\\u1ea3o h\\u00e0nh hangz b\\u1ea3o h\\u00e0nh shop\"], [\"facebook kim nhi\"], [\"th\\u1ec3 ship gi\\u00fap \\u0111\\u01a1n\"], [\"ti\\u1ec1n kho\\u1ea3n ch\\u1ec9 320 kho\\u1ea3n 330\"], [\"kho\\u1ea3n xong \\u0111\\u1ecbu b\\u00e9\"], [\"shop h\\u00e0ng h\\u00e0nh\"], [\"kho\\u1ea3n 1500k tr\\u00f2n\"], [\"t2 ship ch\\u1ed7 t\\u00f2a mob\\u00ecne y\\u00ean h\\u00f2a\"], [\"g\\u1ecdi b\\u1ea3o r\\u00f4gi\"], [\"\\u0111\\u1ecba ch\\u1ec9 92a36 kdc savim\\u1ebd \\u0111\\u01b0\\u1eddng g\\u00f2 \\u00f4 m\\u00f4i tr\\u01b0\\u1eddng ph\\u00fa thu\\u1eadn q7\"], [\"h\\u00e0nh giao 535 kim m\\u00e3\"], [\"shop g\\u1eedi t\\u00e0i kho\\u1ea3n b\\u1ea3o kho\\u1ea3n cod shopee tu\\u1ef3\"], [\"okie kho\\u1ea3n xong g\\u1eedi\"], [\"\\u00f4 h\\u00f4m shop b\\u1ea3o h\\u1ed7 tr\\u1ee3 ship b\\u1ebfn xe\"], [\"t\\u00e0i kho\\u1ea3n trangnhungmebap\"], [\"5h kho\\u1ea3n tan\"], [\"g\\u1ecdi ship h\\u1ed9\"], [\"uh r\\u00f4id ng\\u00f5 885 tam trinh\"], [\"kho\\u1ea3n ti\\u1ec1n balo\"], [\"ui qu\\u00ean m\\u1ee9oi kho\\u1ea3n\"], [\"m\\u1ecbh kho\\u1ea3n nha\"], [\"g30 bt07 kdt vi\\u1ec7t h\\u01b0ng long bi\\u00ean 0979080588\"], [\"https //www facebook com/1454523434857990/p\\u00f3s/2469916326652024/ d=n\"], [\"s\\u1ea3n 25 ng\\u00f5 10 kim m\\u00e3 th\\u01b0\\u1ee3ng\"], [\"kim m\\u00e3 th\\u01b0\\u1ee3ng\"], [\"b\\u1ea3o size\"], [\"b\\u1ea3o h\\u00e0nh blau shop\"], [\"g\\u1ecdi t\\u00e0i kho\\u1ea3n nha shop\"], [\"kho\\u1ea3n qa momo\"], [\"shop g\\u1ecdi grab ship cod\"], [\"1 ch\\u00fat nh l\\u1ed7i kho\\u1ea3n 1 b\\u1ea3o rh\\u00e2s\"], [\"had nam\"], [\"kho\\u1ea3n ti\\u1ec1n balo ship kho\\u1ea3n ti\\u1ec1n ship shop\"], [\"kho\\u1ea3n mua l\\u00f4\"], [\"t\\u00e0i kho\\u1ea3n agribank\"], [\"kho\\u1ea3n ship h\\u00e0ng\"], [\"12/29 finom- hi\\u1ec7p th\\u1ea1nh- \\u0111\\u1ee9c tr\\u1ecdng-l\\u00e2m \\u0111\\u1ed3ng nguy\\u1ec5n kim phung 0919072542\"], [\"kho\\u1ea3n nh\\u1eafn mua\"], [\"mai ship xe\"], [\"g\\u1ea5p kho\\u1ea3n grab\"], [\"tu\\u1ea7n nh\\u1eafn\"], [\"kho\\u1ea3n l\\u1eafp th\\u1eed r\\u00f4id\"], [\"b\\u1ea3o h\\u00e0nh h\\u00e3ng mastela h\\u1ea3 shop\"], [\"t\\u1ed1i mai\"], [\"https //www facebook com/1454523434857990/p\\u00f3s/2491958467781143/\"], [\"shop ghi gi\\u00fap \\u0111i\\u1ec7n tho\\u1ea1i l\\u1ee1 g\\u1ecdi 0912104497 s\\u00f3ng\"], [\"ok chi\\u1ec1u ship\"], [\"t\\u01b0\\u1edfng kho\\u1ea3n g\\u1eedi ti\\u1ec1n ship\"], [\"ship g\\u1eedi gi\\u00fap\"], [\"kho\\u1ea3n xong g\\u1ecdi ship g\\u1eedi ship\"], [\"b\\u00f3ng s\\u1ea5y b\\u1ea3o h\\u00e0nh\"], [\"chi\\u1ec1u h\\u00e0ng b\\u1ea3o h\\u00e0nh ship\"], [\"s\\u1ea3n g1 - vinhome gr\\u00eabay m\\u1ec5 tr\\u00ec\"], [\"ship h\\u00f4m mai \\u0111i\"], [\"\\u0111em b\\u1ea3o h\\u00e0nh\"], [\"l\\u00ea 22 khu hoa binh phuong 1 dalat lam dong 0937014057\"], [\"t\\u00e0i kho\\u1ea3n nha shop\"], [\"b\\u1ea3o h\\u00e0nh \\u0111\\u1ed5i xe nha shop\"], [\"https //www facebook com/1454523434857990/p\\u00f3s/2487941704849486/ d=n\"], [\"m\\u1ecbn t\\u00e0i kho\\u1ea3n kho\\u1ea3n\"], [\"7 tu\\u1ea7n van\"], [\"106x70 5x80cm - g\\u1ea5p\"], [\"giao ship\"], [\"b\\u1ea3o ship gi\\u00fap\"], [\"t\\u00e0i kho\\u1ea3n kho\\u1ea3n ti\\u1ec1n ship gi\\u00fap shipper\"], [\"kho\\u1ea3n n\\u1ed1t\"], [\"b\\u1ea3o \\u0111en m\\u00e3i m\\u00e1y\"], [\"\\u0111i\\u1ec7n a b\\u1ea3o hi\\u1ec3m tra m\\u00e3i g\\u1ecdi\"], [\"\\u0111\\u1eb7t kho\\u1ea3n h\\u1ea3\"], [\"nh\\u1eafn ship\"], [\"shop kho\\u1ea3n gi\\u00f9m\"], [\"s\\u1ea3n keangnam g\\u1eedi l\\u1ec5 t\\u00e2n h\\u1ea1nh b707\"], [\"\\u1ea3nh b\\u1ea3o g\\u1eedi vp trung t\\u00e2m\"], [\"tr\\u01b0a ship g\\u1ecdi b\\u1ea3o h\\u00e0ng \\u0111\\u01b0\\u1eddng\"], [\"h\\u1ed7 tr\\u1ee3 kho\\u1ea3n h\\u1ed9\"], [\"n\\u00e3y h\\u00e3ng b\\u1ea3o ch\\u1ec9 7\"], [\"ch\\u00e9 \\u0111\\u1ed9 b\\u1ea3o h\\u00e0nh nhi\"], [\"\\u01a1i c\\u00f3 b\\u00ecnh thu\\u1ef7 \\u0111i\\u1ec7n ch\\u1ecdn \\u0111\\u01b0\\u1ee3c nhi\\u1ec7t \\u0111\\u1ed9 v\\u00e0 dung t\\u00edch n\\u01b0\\u1edbc\"], [\"kho\\u1ea3n t\\u00e0i kho\\u1ea3n ho\\u00e0ng ph\\u00fa qu\\u00fd\"], [\"mamago b\\u1ea3o h\\u00e0nh\"], [\"m\\u0169 b\\u1ea3o h\\u00e0nh shop th\\u1ec3 h\\u1ed7 tr\\u1ee3 tr\\u1eeb ti\\u1ec1n \\u0111i gi\\u00fap mua m\\u0169 b\\u1ea3o h\\u00e0nh hic\"], [\"b\\u1ea3o mua xong hu hu\"], [\"chi\\u1ec1u mjk kho\\u1ea3n\"], [\"mjk y\\u00ean t\\u00e2m\"], [\"2 mjk kho\\u1ea3n\"], [\"shop g\\u1eedi mjk t\\u00e0i kho\\u1ea3n\"], [\"kho\\u1ea3n mjk k\\u00eau sip h\\u00e0ng ti\\u1ec1n\"], [\"27 ng\\u00f5 409 kim m\\u00e3 ng\\u1ecdc kh\\u00e1nh phone 0906265289\"], [\"thanks shop l\\u00e0 c\\u00f3 \\u0111\\u1ecba ch\\u1ec9 b\\u1ea3o h\\u00e0nh\"], [\"ch\\u1eb3ng l\\u1ebb shop b\\u00e1n m\\u00e0 bi\\u1ebft c\\u00f4ng ty n\\u00e0o s\\u1ea3n xu\\u1ea5t v\\u00e0 \\u0111\\u1ecba ch\\u1ec9 b\\u1ea3o h\\u00e0nh\"], [\"\\u00fd h\\u1ecfi c\\u00f4ng ty n\\u00e0o s\\u1ea3n xu\\u1ea5t \\u0111ia ch\\u1ec9 b\\u1ea3o h\\u00e0nh\"], [\"mai g\\u1ea5p\"], [\"g\\u1ecdi g\\u1ecdi 0904175246\"], [\"ship h\\u00e0nh h\\u1ed9\"], [\"ghi b\\u1ea3o h\\u00e0nh vi\\u1ec7t nam\"], [\"s\\u00e0i g\\u00f2n nh\\u1ee1 m\\u00e1y b\\u1ea3o h\\u00e0nh\"], [\"https //www facebook com/shopgauvabingo/p\\u00f3s/1647517438891921/\"], [\"g\\u1ecdi ship t\\u1ed5ng ti\\u1ec1n gi\\u00fap\"], [\"kho\\u1ea3n 880 000\"], [\"ship \\u0111inh l\\u1ec5 h\\u00e0nh\"], [\"t\\u1ed5ng bao nhi\\u00eau t\\u00e0i kho\\u1ea3n kho\\u1ea3n\"], [\"h\\u00e0ng joovy \\u0111\\u1ea3m b\\u1ea3o h\\u00e3ng\"], [\"s\\u1ea3n 16 ng\\u00f5 230 ng\\u00e1ch 230/21/21 m\\u1ec5 tr\\u00ec th\\u01b0\\u1ee3ng 0986511899 y\\u1ebfn g\\u1eedi zain\"], [\"nh\\u1eafn nha\"], [\"s ship gi\\u00fap\"], [\"kho\\u1ea3n ti\\u1ec1n xe\"], [\"\\u0111\\u00f3ng g\\u1eedi quan t\\u00e0i kho\\u1ea3n hjj\"], [\"kho\\u1ea3n 50% h\\u00e0ng kho\\u1ea3n n\\u1ed1t nh\\u00e2n h\\u00e0ng to\\u00e1n\"], [\"g\\u1ecdi hic\"], [\"ship gi\\u00fap \\u0111\\u1ed3\"], [\"t\\u00e0i kho\\u1ea3n tr\\u01b0a kho\\u1ea3n\"], [\"g\\u1eedi 2 b\\u1ea3o m\\u00f4 t\\u1ea3\"], [\"ok shop tai chi\\u1ebfu b\\u1ea3o h\\u00e0nh\"], [\"phi\\u1ebfu b\\u1ea3o h\\u00e0nh \\u0111\\u1ea7u\"], [\"okie t\\u00e0i kho\\u1ea3n\"], [\"kho\\u1ea3n r\\u00f2i\"], [\"an n\\u00fat xay l\\u01b0\\u1ee1i dao\"], [\"tg b\\u1ea3o h\\u00e0nh\"], [\"ship chi\\u1ec1u 28 nha\"], [\"b\\u1ea3o h\\u00e0nh 2\"], [\"t\\u1ed1i s\\u1ee3 giao\"], [\"kho\\u1ea3n ti\\u1ec1n xog shop ship b\\u1ea3o\"], [\"h\\u00e0ng tem b\\u1ea3o h\\u00e0nh h\\u00e3ng\"], [\"h\\u00e0ng b\\u1ea3o h\\u00e0nh h\\u00e3ng 2\"], [\"ch\\u1ec9 to\\u00e1n ti\\u1ec1n ship\"], [\"kho\\u1ea3n to\\u00e0n ti\\u1ec1n h\\u00e0ng\"], [\"uh g\\u1eedi b\\u1ea3o h\\u00e0nh th\\u1eed\"], [\"kho\\u1ea3n ti\\u1ec1n b\\u00e0n\"], [\"t\\u00e0i kho\\u1ea3n thanks\"], [\"kho\\u1ea3n ti\\u1ec1n h\\u00e0ng ti\\u1ec1n ship nha shop\"], [\"\\u0111\\u1ed5i m\\u00e1y nutribaby5in1 h\\u1ecfng l\\u01b0\\u1ee1i h\\u00e0ng b\\u1ea3o h\\u00e0nh \\u0111\\u1ed5i khay\"], [\"qa facebook\"], [\"ship 254c th\\u1ee5y khu\\u00ea h\\u00e0nh gi\\u00fap\"], [\"chi\\u1ec1u mai ship h\\u00ecnh h\\u00e0nh\"], [\"d\\u00e2y ch\\u1ed1t c\\u1ed1 \\u0111\\u1ecbnh\"], [\"kh\\u1ee7ng long th\\u00e1p v\\u1ebb h\\u01a1i d\\u1ed1c x\\u00edu\"], [\"ok ship 15h chi\\u1ec1u \\u0111i\\u1ec7n tho\\u1ea1i 0974539881\"], [\"b\\u1ea3o h\\u00e0nh \\u0111\\u1ed9ng s\\u1eb5n\"], [\"https //www facebook com/1454523434857990/p\\u00f3s/2511001002543556/ sfnsn=mo\"], [\"shop b\\u1ea3o h\\u00e0nh h\\u00ec gi\\u00fap\"], [\"b\\u1ea3o h\\u00e0nh h\\u1ea3\"], [\"kho\\u1ea3n t\\u00e0i kho\\u1ea3n vietcombank\"], [\"tr\\u1ee5 t\\u00e2y \\u0111\\u1ee9c l\\u00e2n m\\u1ed9 \\u0111\\u1ee9c qu\\u1ea3ng ng\\u00e3i 0983065676\"], [\"uk t\\u1ed1i a kho\\u1ea3n coa\"], [\"\\u202d0777107968\\u202c c\\u00f4ng\"], [\"kho\\u1ea3n 500k\"], [\"shop s\\u00e1ch b\\u1ea3o h\\u00e0nh ch\\u1ee5p gi\\u00fap tham kh\\u1ea3o\"], [\"th\\u1ebb b\\u1ea3o h\\u00e0nh shop\"], [\"b\\u1ea3o g\\u1ecdi ship\"], [\"ship b\\u1ea3o h\\u00e0nh bao\"], [\"2c ng\\u00f5 605 b\\u00e1t kh\\u1ed1i-c\\u1ef1 kh\\u1ed1i-long bi\\u00ean\"], [\"ok kho\\u1ea3n a ship\"], [\"ngh\\u0129a\"], [\"kho\\u1ea3n l\\u00e1t\"], [\"h\\u00f4m shop ngh\\u1ec9 ship h\\u00e0ng\"], [\"ti\\u1ec1n t\\u00e0i kho\\u1ea3n\"], [\"tu\\u1ea7n b\\u1ea3o h\\u00e0nh nha\"], [\"p 306 c\\u01b0 golden \\u1ea3\\u1ecf 6 nam gi\\u1ea3ng v\\u00f5\"], [\"b\\u00e2y kho\\u1ea3n c\\u1ecdc 50%\"], [\"ok d\\u00f9m block 2b the estella 1 an ph\\u00fa q2\"], [\"kho\\u1ea3n ship nhew\"], [\"kho\\u1ea3n ship chi\\u1ec1u\"], [\"kho\\u1ea3n xong l\\u01b0u\"], [\"ok h\\u00f4m ship\"], [\"m\\u00e1y h\\u01b0\\u1edbng s\\u1eed d\\u1ee5ng ti\\u1ebfng vi\\u1ec7t b\\u1ea3o h\\u00e0nh h\\u1ea3 shop\"], [\"b\\u1ea3o g\\u1eedi tr\\u00e2m g\\u1ecdi\"], [\"g\\u1eedi b\\u1ea3o v\\u1ec7 h\\u1ed9\"], [\"ship \\u0111\\u1ecba chi c\\u01a1 quan \\u1ea1 r002 trung t\\u00e2m tm amata bi\\u00ean ho\\u00e0 \\u0111\\u1ed3ng nai vietcombank amata 0983899322\"], [\"kho\\u1ea3n h\\u00e0ng 4 tu\\u1ea7n s\"], [\"h\\u00f4m mai ship\"], [\"ok kho\\u1ea3n 750k\"], [\"l\\u00e3nh thu\\u1ef7 chinh th\\u01b0\\u1ee3ng- c\\u1ea9m \\u0111\\u00e0n- s\\u01a1n \\u0111\\u1ed9ng- b\\u1eafc giang\"], [\"kho\\u1ea3n ship dchi\"], [\"ship nha trang\"], [\"0368169465 t\\u00f2a c2 ng\\u00f5 323 xu\\u00e2n \\u0111\\u1ec9nh\"], [\"\\u0111\\u1ed9ng 12v 7\"], [\"https //www facebook com/shopgauvabingo/phot\\u00f3pcb 2507219479588375/2507219336255056/\"], [\"b\\u1ea3o h\\u00e0nh gh\\u1ebf \\u00f4 t\\u00f4\"], [\"https //www facebook com/1454523434857990/p\\u00f3s/2504450929865230/ d=n\"], [\"monhf t\\u00e0i kho\\u1ea3n\"], [\"kho\\u1ea3n freeship\"], [\"ship h\\u00e0nh nhed\"], [\"s\\u1ea3n 227 d\\u1ed1c 2 \\u0111\\u01b0\\u1eddng gi\\u1ebfng \\u0111\\u00e1y h\\u1ea1 long qu\\u1ea3ng ninh\"], [\"t\\u1ea7m 6 r\\u01b0\\u1ee1i chi\\u1ec1u b\\u1ea3o ch\\u1ed3ng\"]], \"hovertemplate\": \"x=%{x}<br>y=%{y}<br>sentence=%{customdata[0]}<br>kmeans_cluster=%{marker.color}<extra></extra>\", \"legendgroup\": \"\", \"marker\": {\"color\": [1, 3, 2, 5, 2, 1, 5, 0, 1, 0, 3, 0, 2, 2, 1, 4, 1, 5, 1, 2, 2, 5, 1, 1, 3, 2, 1, 0, 4, 1, 0, 0, 1, 2, 2, 3, 1, 0, 5, 1, 1, 1, 5, 4, 4, 4, 3, 5, 5, 5, 5, 1, 5, 5, 2, 1, 5, 3, 5, 3, 5, 3, 5, 5, 5, 5, 2, 1, 1, 3, 1, 4, 1, 1, 2, 1, 2, 1, 2, 5, 1, 0, 1, 0, 3, 5, 0, 3, 5, 5, 5, 5, 0, 3, 1, 3, 1, 0, 5, 5, 0, 5, 0, 5, 0, 3, 2, 2, 3, 5, 5, 5, 5, 5, 5, 5, 5, 5, 4, 2, 2, 5, 2, 5, 0, 0, 0, 1, 2, 2, 5, 5, 2, 2, 5, 5, 1, 5, 5, 1, 2, 2, 5, 1, 0, 0, 2, 5, 0, 1, 4, 0, 2, 3, 2, 5, 1, 5, 2, 5, 4, 5, 1, 5, 0, 5, 5, 2, 2, 2, 1, 2, 1, 1, 1, 2, 3, 0, 2, 2, 5, 2, 5, 2, 2, 5, 4, 2, 1, 1, 1, 2, 2, 2, 5, 1, 1, 4, 3, 2, 5, 3, 2, 2, 5, 5, 0, 0, 1, 5, 1, 5, 3, 5, 3, 3, 3, 1, 2, 5, 0, 5, 3, 1, 5, 5, 5, 5, 5, 3, 5, 2, 5, 4, 5, 1, 5, 1, 1, 2, 0, 3, 5, 2, 5, 5, 2, 2, 3, 4, 2, 0, 4, 5, 4, 4, 3, 2, 2, 1, 5, 1, 5, 0, 5, 1, 2, 1, 0, 5, 1, 2, 5, 0, 5, 1, 1, 2, 5, 4, 1, 3, 0, 1, 2, 5, 2, 1, 5, 2, 5, 2, 3, 3, 0, 2, 2, 5, 4, 4, 5, 5, 0, 2, 2, 3, 5, 5, 4, 2, 2, 3, 2, 2, 3, 1, 0, 1, 2, 0, 1, 3, 1, 2, 5, 1, 0, 1, 0, 2, 2, 0, 3, 5, 1, 2, 4, 0, 1, 3, 1, 5, 2, 2, 2, 1, 5, 0, 2, 2, 1, 3, 5, 3, 5, 3, 0, 3, 0, 5, 1, 2, 0, 5, 3, 3, 5, 5, 1, 0, 5, 1, 5, 0, 0, 5, 5, 1, 1, 3, 0, 1, 5, 2, 0, 0, 2, 1, 5, 5, 0, 5, 5, 5, 5, 1, 5, 2, 3, 2, 0, 1, 0, 2, 2, 2, 1, 4, 4, 4, 0, 3, 1, 0, 3, 3, 1, 0, 1, 0, 1, 1, 2, 5, 0, 5, 0, 2, 5, 0, 1, 1, 1, 0, 1, 3, 2, 5, 3, 3, 5, 0, 1, 2, 5, 2, 1, 5, 1, 5, 1, 5, 2, 1, 5, 1, 5, 5, 5, 1, 3, 5, 2, 1, 5, 5, 5, 3, 1, 0, 2, 3, 5, 2, 2, 1, 5, 0, 0, 3, 2, 0, 5, 5, 1, 1, 0, 0, 2, 4, 0, 1, 5, 5, 0, 5, 1, 1, 5, 0, 1, 1, 5, 5, 2, 2, 5, 2, 5, 2, 3, 0, 4, 1, 2, 2, 4, 3, 3, 5, 5, 5, 2, 4, 1, 5, 5, 2, 1, 2, 5, 2, 5, 0, 5, 3, 5, 3, 5, 3, 3, 2, 3, 5, 2, 3, 5, 1, 5, 3, 2, 1, 5, 5, 5, 2, 0, 2, 3, 5, 5, 1, 2, 3, 1, 1, 5, 1, 1, 3, 3, 2, 2, 0, 1, 2, 1, 2, 5, 1, 3, 5, 5, 5, 5, 3, 2, 5, 1, 0, 1, 0, 2, 2, 3, 1, 2, 1, 5, 5, 5, 5, 5, 2, 2, 5, 4, 4, 2, 4, 0, 1, 5, 2, 1, 2, 1, 2, 1, 2, 5, 3, 5, 1, 5, 5, 4, 3, 5, 0, 5, 0, 2, 2, 1, 3, 3, 0, 3, 1, 2, 5, 5, 1, 0, 2, 1, 5, 0, 0, 3, 5, 2, 5, 3, 1, 0, 5, 5, 0, 3, 0, 3, 0, 5, 3, 3, 5, 3, 2, 2, 0, 1, 1, 3, 1, 1, 4, 4, 5, 1, 5, 1, 3, 2, 1, 1, 0, 5, 5, 3, 2, 2, 3, 3, 0, 2, 3, 3, 0, 2, 5, 2, 1, 0, 2, 3, 3, 1, 3, 5, 5, 3, 0, 4, 3, 3, 5, 2, 5, 0, 5, 2, 3, 1, 1, 5, 1, 3, 3, 3, 1, 5, 5, 3, 2, 1, 1, 5, 1, 1, 5, 1, 1, 3, 1, 0, 5, 1, 3, 2, 2, 3, 3, 2, 5, 2, 2, 2, 2, 5, 5, 1, 0, 4, 3, 3, 0, 5, 4, 4, 4, 2, 5, 5, 4, 1, 1, 0, 0, 2, 2, 2, 1, 3, 4, 5, 0, 0, 3, 3, 5, 5, 5, 3, 1, 0, 5, 1, 3, 2, 3, 2, 0, 3, 0, 5, 5, 5, 2, 5, 0, 5, 1, 1, 1, 0, 5, 5, 2, 5, 2, 5, 5, 5, 5, 2, 3, 4, 2, 0, 4, 0, 2, 0, 4, 3, 0, 0, 5, 0, 0, 3, 3, 3, 5, 0, 1, 3, 0, 3, 2, 5, 2, 2, 3, 3, 5, 0, 0, 0, 5, 5, 2, 1, 2, 2, 5, 0, 0, 2, 5, 0, 0, 1, 3, 3, 4, 4, 1, 4, 4, 1, 3, 5, 2, 1, 2, 5, 3, 5, 1, 0, 0, 5, 1, 2, 0, 3, 0, 2, 1, 3, 1, 0, 0, 3, 0, 5, 1, 3, 5, 3, 3, 3, 5, 1, 0, 4, 0, 5, 3, 5, 2, 1, 5, 3, 1, 3, 1, 2, 1, 5, 2, 3, 2, 5, 3, 2, 4, 3, 2, 2, 5, 5, 2, 2, 2, 5, 4, 0, 1, 3, 2, 1, 0, 0, 0, 2, 5, 3, 5, 3, 0, 0, 5, 4, 3, 1, 1, 5, 2, 2, 0, 3, 0, 1, 0, 3, 3, 0, 0, 1, 3, 4, 1, 5, 3, 2, 1, 3, 1, 3, 3, 0, 2, 2, 5, 5, 5, 5, 3, 1, 4, 0, 5, 1, 2, 3, 1, 1, 4, 3, 1, 5, 1, 0, 0, 2, 3, 3, 2, 0, 4, 5, 1, 1, 4, 4, 4, 1, 2, 3, 2, 2, 0, 2, 2, 0, 2, 2, 3, 5, 5, 1, 1, 2, 3, 0, 0, 0, 3, 0, 5, 0, 1, 5, 5, 2, 2, 5, 5, 1, 5, 5, 1, 3, 0, 2, 1, 1, 3, 3, 2, 3, 0, 3, 1, 5, 5, 5, 5, 3, 0, 3, 2, 3, 2, 2, 3, 5, 3, 2, 0, 5, 3, 1, 3, 5, 2, 2, 0, 4, 1, 3, 0, 1, 1, 0, 0, 2, 1, 5, 3, 4, 5, 5, 3, 2, 3, 1, 3, 4, 3, 0, 5, 3, 3, 5, 1, 3, 3, 3, 4, 0, 1, 0, 5, 5, 5, 0, 3, 5, 5, 3, 1, 0, 4, 5, 1, 1, 2, 5, 2, 1, 0, 5, 2, 0, 1, 3, 1, 0, 4, 1, 3, 5, 1, 5, 2, 1, 5, 3, 2, 5, 0, 0, 2, 3, 0, 0, 0, 0, 3, 1, 1, 0, 5, 3, 5, 1, 5, 5, 3, 0, 2, 5, 5, 1, 1, 0, 5, 1, 2, 1, 0, 0, 5, 2, 5, 2, 0, 3, 1, 0, 1, 3, 5, 2, 3, 5, 3, 2, 1, 5, 3, 5, 1, 4, 3, 1, 0, 0, 5, 3, 2, 3, 1, 5, 5, 5, 5, 1, 5, 3, 5, 1, 3, 3, 1, 4, 3, 2, 5, 2, 2, 3, 0, 1, 2, 0, 1, 5, 0, 4, 5, 1, 1, 2, 5, 5, 5, 3, 3, 5, 5, 5, 1, 3, 3, 2, 3, 3, 1, 5, 0, 3, 3, 5, 1, 5, 5, 3, 1, 3, 3, 3, 1, 1, 0, 0, 3, 4, 2, 2, 3, 5, 3, 1, 2, 2, 5, 3, 3, 1, 2, 5, 1, 3, 0, 5, 5, 1, 0, 2, 0, 1, 5, 0, 0, 2, 5, 3, 5, 5, 5, 3, 4, 3, 3, 1, 1, 1, 0, 4, 0, 0, 5, 1, 3, 1, 5, 3, 0, 0, 0, 1, 5, 1, 5, 2, 5, 0, 1, 2, 1, 5, 5, 5, 2, 3, 3, 3, 1, 2, 2, 5, 1, 5, 2, 1, 1, 4, 3, 4, 5, 5, 3, 3, 1], \"coloraxis\": \"coloraxis\", \"symbol\": \"circle\"}, \"mode\": \"markers\", \"name\": \"\", \"showlegend\": false, \"type\": \"scattergl\", \"x\": [13.398538, -16.382965, 20.207012, -0.769052, 5.357163, 24.972286, 11.113315, -24.898005, -4.628345, -18.059584, -7.918384, -21.072824, 6.31565, 24.877911, 3.727612, -40.201614, 4.228458, 9.448136, -15.660917, 15.949319, 14.007587, 12.406279, 11.861338, 1.773127, 7.165889, 12.947489, -1.343802, -13.062159, -43.497044, -6.568546, -17.405664, -10.06978, -8.275954, 29.680822, 19.408852, -12.570004, -1.626164, -20.002916, 20.546835, 16.709766, 0.198531, 9.849365, 9.419487, -29.778399, -30.100039, -30.681829, 7.464228, -0.605356, 3.180505, 9.010673, 9.332893, 24.648569, -3.659664, -7.974861, 30.180109, 2.524107, 16.957993, -13.610785, -5.846823, 8.12969, 6.593239, -13.134299, 10.591863, 8.658277, -7.95792, -1.324246, 21.920582, 24.754793, 8.049094, -10.329889, -1.136472, -47.88166, -1.344113, 2.832401, 23.760086, -2.531109, 6.31565, 5.597168, 22.04562, 18.399345, 8.785762, -22.162931, 0.195197, -22.927528, -3.279674, 18.825901, -8.987806, 1.414733, -1.711182, -11.281228, -5.846708, 15.411913, -20.802471, 1.05604, 3.089531, -0.110034, 11.560015, -9.284754, 4.813592, 1.145707, -27.498966, 2.96116, -11.149566, -0.080921, -1.71924, 0.477553, 18.949974, 5.357163, -6.165468, 0.351145, -3.819836, 2.71534, 3.633777, 3.975047, 24.707222, 21.710075, 18.385929, 27.206787, -47.359749, 15.911852, 19.408884, 10.926805, 12.921638, -7.926497, -27.451845, -26.162935, -13.43264, -5.059128, 14.445009, 8.67149, 4.793128, -1.968707, 23.017168, 12.882107, 9.766585, -3.031741, 1.698094, 2.783411, 16.285524, 3.299764, 18.658106, 26.12878, -5.901104, 11.20449, -20.016472, -28.277899, 22.925976, 4.966724, -26.904325, 5.302628, -45.839085, -11.824674, 7.218225, -12.009, 17.169376, 24.930996, -7.539602, 17.444115, 14.613383, 5.344738, -30.54035, -9.22271, 9.263922, 20.813442, -9.227282, 19.499592, -1.141855, 18.911354, 19.258369, 18.910921, 7.40382, 11.979546, 7.725288, 1.010016, 3.867999, 25.39633, -13.720707, -21.796116, 25.645058, 19.258261, -0.943456, 11.167315, -9.644058, 11.830154, 17.941378, 26.25371, -41.824249, 19.894417, -9.800779, 12.391864, 9.81477, 11.406816, 17.111645, 20.390247, 3.645553, 3.465374, 8.108302, -38.044659, -10.809918, 13.759634, 23.5753, -5.246691, 21.532234, 11.873379, -2.571701, 4.13129, -29.557312, -24.86655, 4.262378, 7.468789, -1.67283, -0.239139, -16.972881, 14.883063, -12.726577, -12.752712, -5.711069, 13.558987, 18.024704, 22.688957, -26.55242, 27.205746, -0.658634, -14.59028, -0.375215, -2.383277, 1.153774, -1.3244, 0.807281, 5.187434, 15.93622, 31.580526, 18.826319, -30.252321, 10.606117, -9.288706, -3.602131, 10.126093, -7.926034, 22.77351, -14.199614, -5.670806, 11.44285, 9.627458, 18.72434, 9.603019, 18.802427, 8.671437, -13.19082, -29.187868, 11.553759, -17.405134, -32.017197, 9.829602, -43.874557, -33.740421, -18.223497, 17.837072, 11.834093, -1.019082, 4.526205, -1.732639, 19.847523, -26.993748, -0.985475, 2.257912, 4.612744, 8.886732, -27.012156, 15.826451, 7.349713, 19.316212, 9.567706, -21.920732, 25.852146, -1.453003, 2.531983, 20.291245, 18.210659, -32.837875, -0.299244, -11.156241, -31.122913, 4.257913, 20.274736, 26.727745, 12.882106, -4.877228, 23.322378, 17.694841, -1.813824, 11.790492, 4.691832, 1.359882, -28.220341, 18.013369, 7.7985, 16.232323, -43.722103, -43.190876, -9.715694, -3.142006, -23.584974, 11.662642, 16.844158, -11.046198, 25.765749, 17.658718, -38.866352, 21.387491, 14.165492, -16.27948, 18.880276, 6.815797, -1.736789, 8.573524, -28.438829, 5.095744, 24.715841, -21.120441, 12.391829, 5.305024, -0.977876, 11.83378, 22.382296, -3.930405, -29.522659, 9.459723, -15.312238, 16.1943, 11.112807, -23.637947, -11.412153, 14.245398, 8.239032, 24.342222, -40.635273, -25.101242, -11.949883, -10.543726, 7.10789, -4.277543, 9.456911, 23.062332, 10.832418, 3.592929, 6.083443, -12.077735, 13.930925, 18.23052, 3.782559, -4.384808, 8.336624, -12.94027, 10.536887, -18.748804, -22.481237, 3.140944, -12.926556, 17.656479, 2.289764, 21.102531, -30.959908, 20.484364, 3.254139, 0.457943, 0.356852, 15.554449, -0.011688, -10.069775, 8.364243, 3.162089, 15.930162, -10.133697, -25.908981, 9.969906, 12.489863, -3.931278, 10.489192, 0.207825, -12.61301, -5.094511, 21.810081, 9.399011, -12.181018, -25.453838, 18.465876, -7.742878, 2.267544, -2.928811, -27.098774, -6.105012, 21.939184, 14.295362, 15.810434, -1.504229, 16.880966, 8.968053, -9.909913, 14.916877, -26.860743, -9.759774, -14.789631, 16.366974, 18.782032, 8.968045, 2.803978, -45.709011, -46.1381, -44.450836, -23.480921, -11.112521, 8.714524, -19.099077, -17.887089, -14.989736, 10.684365, -26.218529, -7.2586, -23.846254, -3.707073, 0.442734, 22.040869, 9.574454, -8.944661, 7.045397, -9.555786, 22.228312, 12.138601, -25.101305, 4.286219, 6.251618, 9.170052, -17.510405, -1.662771, 6.069727, 23.872793, 1.40982, -15.582136, 0.385211, -0.769055, -17.732044, -3.012465, 33.5532, -0.298802, 21.839188, -2.327151, 14.27443, -3.009258, -0.381691, 1.142663, -3.547656, 15.883677, 3.47683, 21.029505, 2.508132, 15.065332, -9.814316, 7.20871, 14.114174, -7.947959, -8.014221, 16.606829, -5.563835, 6.868288, -0.29861, -11.838054, 0.926834, 13.843626, -19.606617, 13.021929, -1.05772, 17.527719, 21.697048, 17.726923, 1.518776, -3.819723, -23.687166, -21.958464, 0.582374, 3.260379, -14.149644, 3.369818, 14.508307, -2.846777, -5.948795, -23.893244, -14.309255, 12.510588, -39.957863, -20.272995, -7.612687, 9.917378, 1.853281, -25.846502, 14.316048, 0.808816, -1.917395, 4.193678, -28.962938, 4.50347, 11.330198, -1.513391, 20.477036, 20.789507, 28.026628, 12.724758, 22.045069, 16.461592, 18.829102, -8.036761, -11.824839, -28.940142, 1.103018, 13.645885, 12.705923, -36.522141, 1.394243, -0.011297, 17.676008, 0.002655, 15.686514, 31.081476, -45.161964, -2.596005, -6.515605, 24.914669, 7.138161, 1.592286, 25.147158, 5.487123, 11.67446, 16.620888, -20.57885, -5.783864, -2.296201, 4.460359, 6.664115, 4.155496, 6.493933, 2.815187, 21.259792, 0.251312, 15.585279, 19.831299, 4.842124, -10.384716, -4.030096, 10.349563, 4.911411, 24.815565, 5.04742, 12.319662, 21.423254, 1.636405, 24.189796, -30.122644, 11.077101, 2.742503, 19.080782, 1.148908, -5.718, 8.290468, 5.199879, -0.277954, -12.864757, 19.618113, 12.885049, -14.696953, -9.475581, -20.866011, 19.231754, 30.618908, -25.566721, -11.444802, 15.460883, -0.296335, 15.3332, 21.221256, 4.794008, -10.224298, -14.002975, 20.274008, 6.134116, 27.463692, -19.026903, 15.595681, 13.743406, -0.836623, -31.453455, -5.866027, -25.034998, 27.603758, 24.558088, 1.40245, 1.788738, 31.951708, 8.270768, 12.908548, 10.460732, -0.333568, 9.730534, -2.926912, 28.475687, 28.352619, -0.943853, -41.421455, -41.651161, 15.911262, -33.049473, -29.925936, 8.476369, 1.700943, 33.558956, 6.895756, 33.381962, -5.35439, 22.678421, 8.735281, 14.988066, 4.078218, -0.429001, 9.771574, -3.074929, -1.428781, 4.489478, -32.101055, 1.475978, 6.482501, -20.414009, -10.112522, -13.42638, 17.693117, 17.937662, 2.606845, -23.500849, 4.845348, -20.852055, 1.650964, 8.515757, 23.623857, 2.990662, 5.215155, 15.033638, -25.909121, 18.466087, 10.243193, -6.105019, -9.56942, -28.963135, -9.918913, 10.853766, 28.182919, 21.334175, -17.282181, -14.5902, -20.061289, 22.800022, 12.2143, -28.199129, -8.801687, -24.30624, 8.390704, -17.782751, 6.810313, -17.774748, -3.207973, 11.594969, 3.572646, 31.952311, 15.476968, -22.412464, -4.805979, 6.540498, -1.748146, 1.31141, 16.507284, -45.149796, -46.185196, 6.825983, 5.164884, 7.694747, -1.420785, -6.083246, 10.209282, 9.767653, -1.031299, -22.396187, -5.094891, 2.715359, -9.851058, 9.396463, 5.718171, -13.748043, 8.143609, -14.578238, 25.043941, -6.153084, -6.277106, -26.194756, 14.614152, 5.78595, 8.54847, -3.61275, -14.206947, 23.597376, -13.168605, -12.129803, 5.067145, -18.371002, 14.245506, 23.151255, -0.563421, -24.7817, -34.827759, 4.44382, -10.355091, 5.960811, 5.120066, 16.65613, -21.766857, -5.487352, 25.370781, -8.944784, -8.635741, 4.963546, -6.168803, 4.371107, -14.516765, -7.215864, -7.108099, 10.820367, 11.52887, -9.636168, 3.955664, 13.85671, 4.682738, -9.561852, 0.398954, 5.98345, 5.136489, 26.341034, -0.994779, 2.135856, -0.23866, 5.006597, -27.999189, 4.221781, 15.39913, -8.0737, 13.642047, 28.157949, -5.85768, 0.247879, 28.121153, -11.144387, 13.828976, 24.116253, 8.150827, 17.113354, 0.914509, 6.455647, 5.078606, -19.375988, -44.356243, -1.481435, -1.529876, -28.34643, 4.224584, -29.725338, -30.578466, -29.42428, 7.129193, 14.087882, 1.968171, -44.047359, 5.607514, 5.711177, -26.106895, -20.061377, 33.717506, 3.229385, 20.605949, -5.375858, -9.329338, -30.203449, 20.506868, -21.072977, -22.759249, -0.691734, -9.16369, -7.582893, -3.659629, -0.212328, -9.247353, 5.512228, -24.934793, 20.907314, 10.605701, -0.781204, 12.78371, 2.964517, 18.253319, -20.589024, -12.133718, -19.902786, -13.588123, 6.277471, -13.147593, 11.643744, 16.034307, -16.57025, -10.74581, 2.161404, -0.456228, 7.093934, -24.986927, -10.384758, 16.379936, 13.121985, -2.183247, 16.948771, 0.57386, 12.438497, 17.301529, 15.437974, 12.240037, -10.256721, -33.235718, 17.607452, -26.735432, -45.384575, -24.667873, 24.2092, -24.986959, -46.387451, -15.179363, -22.8316, -23.584967, -9.33161, -16.808521, -26.80689, -9.809572, -4.853464, -13.646832, 9.968352, -12.443217, 0.71435, 5.424609, -11.142373, 4.526551, 15.428227, 10.044051, 21.878014, 14.520363, 4.410826, -16.802547, -9.351116, -20.414305, -12.289723, -27.980686, -6.686091, 5.051448, 14.991859, 0.536394, 23.677155, 10.174972, 17.409237, -30.481186, -27.711563, 28.330679, 1.409813, -17.547693, -28.31539, 0.739106, -2.620806, 10.10007, -45.443951, -44.973179, -15.999349, -30.114264, -44.772469, -2.087939, -5.924023, 15.946025, 24.675177, -15.660892, 22.012049, 1.076091, 1.170736, 9.766593, 2.767056, -24.846231, -24.160812, -7.825496, 4.887729, 9.774688, -17.178402, -0.879973, -21.726631, 14.594769, 7.961353, -16.717285, 12.569636, -21.480606, -26.774158, -7.624638, -27.532104, -2.641152, -0.499913, -9.338695, 18.933447, -1.083527, -6.662453, -10.248091, 8.399246, -2.000242, -27.443308, -43.104271, -24.749256, 18.109917, -1.914633, -4.093673, 23.242449, -4.443057, 7.904056, -4.063791, 6.525771, -1.805862, 1.547254, 12.546615, -4.538351, 3.331109, 17.538567, -15.144568, 19.724716, 0.508358, -17.195414, 15.883674, -42.382343, -10.498886, 23.940285, 16.462122, 13.951664, 21.423429, 27.383879, 26.798546, 15.505682, -7.926543, -39.592964, -18.669889, 1.131044, -10.251291, 19.378004, 10.990887, -17.78368, -24.413725, -17.73575, 5.192714, 23.425274, -14.846553, 0.120311, -17.361187, -17.195171, -18.536623, 13.148241, -41.082371, -4.052852, -11.744976, 0.096254, 8.350537, 24.80407, 16.701683, -12.035501, 1.03295, -28.065058, 2.51794, -17.868286, -9.160283, 1.796686, -20.289457, -19.302526, -2.127789, -15.552387, -30.89596, 0.757706, 0.867471, 8.002195, 28.121401, -5.034671, -13.149426, 0.947294, -10.797866, -10.930122, -20.807835, 25.768431, 23.677172, 8.611421, -0.23628, -7.701384, -4.676383, 1.002301, 4.82135, -45.123833, -19.392178, -9.22271, -5.777863, 20.291245, 0.935078, 12.589084, 0.606169, -41.030125, -8.10629, 8.567249, 0.867469, -1.26217, -22.549355, -21.400208, 26.228016, 2.526414, 4.958024, 25.818575, -23.43368, -42.104343, 18.004436, -3.102329, 6.103334, -44.718597, -29.953863, -43.527939, -2.534266, 15.783129, -3.448561, 23.658674, 22.621962, -5.345934, 33.671177, 24.002983, -21.088907, 25.412561, 12.01672, -21.117008, 17.929928, -1.952096, 1.587867, -4.032823, 7.385884, -3.619202, -17.63464, -26.901091, -17.3517, -21.021175, -26.990084, 14.414332, -20.898268, -2.152076, 6.233903, 0.687183, 21.453955, 22.601374, 4.670085, 14.846833, -6.518017, 9.15852, 12.547259, 2.918983, -10.761343, -11.323067, 8.002644, 5.800633, 2.406111, -8.332129, -13.298504, 7.677027, -21.022533, -13.65382, 2.861861, 4.368665, 14.038995, 6.216444, 0.807228, 2.361315, -7.377718, -23.247471, -19.195089, 12.873684, -18.152306, 20.503906, 19.725718, -5.304728, 2.902176, 4.76333, 24.273355, -13.998339, 23.483492, 1.52162, 7.251178, 0.723341, -0.785199, 11.172006, 8.697425, -17.222458, -29.679955, 15.603833, -11.65382, -27.559307, 6.850929, 0.92589, -18.314344, -14.06824, 1.377169, 10.005006, -0.659581, -12.649852, -40.331032, 11.888425, 20.582886, -13.614083, 28.65196, 4.248878, 3.973915, -8.423114, -42.685963, 2.385473, -12.111549, 20.998007, 4.315143, -5.787843, 25.185617, -0.496167, -3.562631, -11.249587, -10.681393, -44.246098, -23.485954, 2.398993, -30.21718, 6.054368, 17.670141, 19.863979, -24.815569, -14.901424, 12.483645, 2.249052, 0.238585, 5.63046, -26.075539, -44.494389, 4.677355, 4.307199, -4.896712, 24.300629, 13.168663, 14.561111, -0.226755, -9.901879, 21.119091, 13.594002, -9.576631, 2.015751, -21.732433, 3.900014, -26.664293, -43.395916, 1.127533, -3.272576, -4.024382, 4.405551, 4.992755, 5.357626, -12.029757, 16.187162, -0.146946, 9.799718, 3.278863, -30.097027, -23.626354, 24.92551, 0.356325, -25.961102, -21.796242, -24.090372, -26.978258, -7.861882, -1.090263, 2.128557, -23.473967, -4.24021, -6.575195, 20.965025, -7.014184, -11.596994, -0.913228, -1.708069, -23.305294, 19.546436, -3.142053, 19.316965, 3.153646, -6.483424, -21.604057, 4.385021, -4.117025, 22.533409, 16.178471, -22.616871, -26.099451, 18.649584, 24.596375, 4.629436, 28.380478, -21.925377, -3.131092, 1.395533, -1.900614, 1.088329, -7.662829, 9.285965, 26.552834, -3.954218, 16.844311, -12.146302, 8.098718, 1.538596, 19.171371, -3.326763, 17.243954, -4.289503, -39.861488, -7.194056, 5.445489, -19.394148, -20.115011, 5.229014, -2.682865, 13.778835, -5.344882, 6.735537, 9.372272, 4.20422, 15.43017, -12.165134, -3.652869, 7.329819, 3.507411, 11.263719, 9.524447, -4.743245, -10.546029, -9.452527, -42.336777, -0.678031, 28.213531, 18.483232, 25.044004, 7.877857, -13.107512, -20.494225, 0.082165, 15.505563, -23.926426, 4.056574, 4.841384, -15.304428, -38.934704, 2.934189, -0.177654, -6.462587, 2.215736, -11.397936, 15.211357, 12.468109, -7.363054, -6.800309, 10.668144, 30.002184, 2.772563, -0.765022, -4.782662, -1.565911, 13.80771, -6.473467, -8.66315, 1.939061, 10.758595, -27.268158, -5.094468, 4.13645, 10.264647, 6.999068, 7.159618, 25.880325, 4.791008, 0.728283, -7.686172, -4.552851, -8.044788, -12.192741, 8.844921, -14.955662, -22.474186, -11.502878, -42.292526, 18.663483, 26.071283, -5.144057, 11.758207, -1.71855, 0.171318, 28.004667, 22.187046, 4.208898, 4.828428, 0.803805, 10.48007, 24.490845, 3.440068, -7.28071, -14.997482, -26.776173, 14.034767, 1.682781, 1.000569, -24.910694, 21.433704, -27.361864, 11.8091, -6.008307, -20.446884, -19.766113, 18.403572, 7.808071, -17.645355, 9.078854, 20.087374, 4.529272, -9.731324, -33.621059, -5.630203, -6.320838, -4.493041, 2.898847, -0.072431, -20.668697, -38.218971, -19.397495, -28.538139, -1.654069, -4.748956, -2.495679, 5.528067, 6.974554, -11.421865, -19.476488, -20.060991, -24.63728, -1.732223, 15.309025, -7.526921, -6.196744, 13.710304, 9.91732, -20.271358, -1.113064, 24.505417, -0.59116, 13.174072, -6.001996, 22.968134, 30.505972, -10.616702, -15.540196, -16.104067, 4.044027, 20.329809, 14.614033, 12.532496, 4.992916, -2.995606, 23.529076, 4.335306, -1.786581, -41.350182, -14.618972, -37.965771, 14.248724, 7.42405, -3.349123, -0.608335, 2.69036], \"xaxis\": \"x\", \"y\": [40.550636, 20.474205, 9.472539, -53.177727, -0.97617, 27.564659, -44.051842, -12.427406, 36.035404, -9.780946, 13.268147, -32.553959, -4.035066, 12.367795, 44.968178, 26.452032, 24.085135, -20.645761, 39.364357, 14.652889, -0.386835, -30.512892, 24.998674, 50.510487, 19.696726, -15.474427, 61.512657, -16.270546, 26.134167, 40.781467, -35.236691, -26.367208, 27.362431, -8.52526, 14.30049, 0.694484, 52.318008, -15.69057, -33.767437, 29.058529, 36.219097, 34.433414, -32.111115, 21.533352, 21.031755, 20.412289, 17.775202, -49.45747, -43.424332, -45.307213, -44.17741, 28.921425, -51.321041, -33.342781, -8.031285, 53.733444, -22.096899, -3.935043, -49.131424, 16.182756, -30.75778, 4.036602, -33.478401, -37.579342, -40.660748, -46.134758, 8.593516, 28.461359, 47.461575, 14.692167, 30.584929, 22.376795, 61.512733, 45.529343, 11.776356, 55.33374, -4.035066, 33.627491, -2.933502, -27.21446, 24.772648, -12.643437, 54.010376, -11.189027, 15.108022, -33.541512, -29.78334, 3.606658, -29.191628, -39.576374, -49.131477, -39.785114, -22.579527, 17.246126, 52.994961, -9.748834, 29.204977, -9.67985, -30.315056, -45.871151, -23.759209, -32.254631, -33.435497, -28.802099, -13.697927, -7.977417, -8.048031, -0.97617, 14.132481, -26.459354, -48.736103, -41.160591, -29.17807, -34.688732, -23.482952, -25.441154, -29.322092, -31.649612, 24.240162, 2.738811, 14.300082, -22.408545, 1.715777, -50.410137, -2.328907, -13.984744, -33.774582, 45.704357, -16.696608, 9.350948, -50.70874, -40.698898, 10.279213, -0.567581, -48.25811, -38.163418, 53.115219, -21.133781, -18.852573, 48.880077, 12.845056, -0.492483, -43.322815, 52.801647, -26.600372, -14.845813, 9.803351, -47.116951, -21.967184, 55.025711, 21.996948, -16.247122, 2.976056, -4.054216, 7.824875, -35.205906, 50.595142, -39.132862, 10.574055, -35.463337, 19.916826, -37.880852, 31.914953, -21.31365, -30.38032, -32.532764, -27.367901, 20.25581, 18.988491, 20.256071, 30.964005, -11.954705, 43.307529, 44.477192, 40.542061, 23.015879, 13.333949, -26.061018, 25.159807, 18.987925, -51.136208, -8.724141, -33.048695, -12.886174, 17.257391, -26.161051, 25.80271, -3.951111, 44.116116, 22.88784, 23.681738, 18.177668, 3.722579, 3.531314, -45.023823, 38.221066, 57.217052, 23.028856, 3.06236, -0.355781, -28.438839, -9.196748, -13.971351, -5.080339, -32.533119, -36.049099, -17.539806, -23.676783, 36.726311, -28.55608, 35.562775, -49.508411, 0.85816, -35.797104, 12.104671, 12.202604, 16.790037, 40.297577, 14.74224, -26.198725, -28.467171, -26.639757, 20.983919, 29.594341, -42.095264, -48.231209, -35.219513, -46.136581, -53.184341, 17.82531, -24.075619, -5.626309, -21.634237, 26.170321, -20.517214, 29.638109, -26.231853, 43.418266, 38.271877, 6.882515, -29.281736, 11.221185, -38.155228, -2.822207, -30.667418, -46.211514, 13.872025, 9.350958, 8.023116, 20.380959, 14.557355, -35.236694, 23.360374, -36.497849, 20.118107, 23.917744, 10.002808, 13.664437, 9.589767, 44.928753, -32.625782, 48.878742, -38.116135, -3.383928, -44.329193, 27.406754, -9.143097, 54.902721, -29.783134, -37.386826, 48.445457, -16.307703, -27.182236, -35.671326, -22.421923, 44.391262, 44.441269, -5.361599, -19.15822, 22.76265, 37.577682, 25.126266, -11.534895, 28.553829, 14.744324, -32.220078, -0.567581, 32.199677, -33.783207, 1.342423, -29.63275, 14.984674, 10.667577, 18.231756, -22.985779, -7.46655, -10.838069, -36.259499, 20.613577, 20.751236, -48.852905, -35.497372, -29.297949, 3.608133, 14.796627, -5.771576, -30.330256, -36.623043, 23.934458, 13.421996, 4.91656, 5.06495, -17.395782, 3.458902, 0.16747, 50.122234, -15.337553, 57.769577, 20.003605, -20.135429, 22.887819, 4.410517, 28.853651, 9.589458, -21.258894, 30.459459, -21.313166, 30.296612, -12.156102, 5.537433, 13.045577, -30.189222, -1.675901, -32.848476, 41.068588, 2.618832, 24.644308, -31.52327, 31.588266, 12.586315, 47.125286, -32.89484, -8.552445, -12.26151, -14.193633, 40.418201, -18.832188, -5.993923, -3.231951, 6.539287, 55.187908, 9.640944, -31.002123, 16.259624, -16.623362, 11.998503, -20.11869, 17.369141, -23.021711, -30.912462, 59.414116, -18.382233, -11.369665, -25.480194, 23.063744, 0.275612, -48.062275, -39.020447, 45.541466, -26.367235, -39.933693, 31.294493, -38.535931, -22.83201, -30.261971, -18.933516, -21.219509, 27.486914, 23.260906, 20.902805, -20.434191, 52.659428, -19.639505, 5.617004, -7.048828, -22.544708, 4.214533, 27.408562, -45.32785, -46.000301, -1.560422, -40.990425, -26.459269, -35.685787, -33.662003, 38.549976, -32.482353, 7.459186, 16.173828, 7.749781, -32.116394, 44.143543, -19.996181, 5.422973, -4.113774, 7.459183, 41.393185, 22.869715, 21.577082, 21.633348, -11.042242, 19.287834, 45.324207, -12.491326, 3.352914, -3.262045, 45.614685, -23.521965, 32.039131, -16.285528, 39.008335, 25.376854, 6.572207, -24.121101, -26.749975, -20.350622, -25.045696, 4.358541, -22.635033, -31.523277, 46.022411, 37.177921, 33.841938, -12.844006, 47.809933, 14.546815, -12.766089, -32.892483, 25.463554, -9.663354, -53.177631, -24.923586, 42.030991, -4.140766, -39.38549, 13.44236, 55.217728, -20.590368, 45.840443, -26.987722, 42.932594, -38.936039, -6.749744, 38.1656, -31.578924, 56.916588, -25.45306, -33.435532, -17.560059, 38.618996, 21.149506, -44.162704, -3.074908, 35.003078, -17.585651, -39.385597, -43.678139, 11.933919, 33.661007, -20.837137, 9.733488, -4.614542, -20.330927, -19.170656, -7.1524, 52.347858, -48.735561, -34.743103, -10.809774, 22.486115, -4.682899, -24.122173, -14.588736, -27.648884, 35.467319, 55.087849, -13.6787, -11.228415, 17.916317, 23.120296, -19.856022, 32.961426, -41.018459, -31.998402, -15.940115, -45.161602, 25.878469, 53.643963, -34.067429, -27.585014, 42.833344, 29.248823, -33.778145, -26.909842, 2.889894, 21.257366, -26.212612, -2.932346, -29.062283, -13.919837, 22.546156, -16.247156, 21.051743, 35.617249, 5.997978, -3.604847, 24.795387, 14.134639, 12.208458, -33.188301, -44.39642, -17.767878, -5.870211, 23.049446, 31.148537, -36.87682, -27.497847, -14.661717, 51.044785, -19.074343, -29.525856, -13.488122, -33.568062, -18.296667, -34.608898, 11.829339, -41.613449, 11.332155, -39.828548, 6.243381, 21.58481, -10.882077, 16.915754, -45.769043, -1.588933, 3.481215, -41.699421, 48.761791, -17.101263, 12.146461, 17.252674, 55.776649, -20.729454, -27.449253, -21.398676, -12.48553, -23.348454, 2.951047, 23.667276, -20.953997, -37.900948, 27.857582, -4.139217, 9.95378, 49.643951, 31.116709, -19.246744, 51.773857, 40.608406, 20.56863, 4.874195, 11.874916, -11.235192, -19.370661, 32.515968, 3.642156, 47.843872, 17.618414, -24.013689, 45.91468, 16.298252, -43.431713, -37.828468, -30.157051, -31.549679, -0.8912, -15.574631, -34.623981, 51.736313, -13.231994, 47.43251, -27.272055, -8.244688, -7.316079, -2.420957, 55.271599, 11.320529, 29.281034, -18.554401, -35.278484, -48.145027, -43.488766, -43.628098, -17.663183, -17.242731, -51.135197, 26.255081, 24.624201, 2.739566, 25.266739, -10.212378, 50.034679, -30.552883, -3.731705, 46.548847, -0.01158, 26.194002, -0.496994, 51.715801, -6.510463, -36.666214, 16.978815, -24.531073, 48.472015, -37.202042, -45.193233, 22.422411, 3.932616, -42.459431, -37.450336, -40.698082, -20.330614, 1.343463, 2.12045, 25.33061, 5.122394, 19.595491, -20.670099, 10.404896, 37.06208, -17.495102, -29.582764, -18.921461, 30.897318, -30.261129, 4.214577, 22.517649, -40.990982, -8.152027, -27.585367, 8.015044, -29.230015, -4.345194, -30.009512, 0.263025, 29.594345, -31.615366, -30.405233, -34.010086, -0.160341, 26.167976, -16.736273, 13.133421, -15.177848, -39.004517, 6.947901, 18.106245, -44.22953, 11.210514, 11.320452, 17.63814, -4.651132, 41.294594, 54.174427, 2.949478, 37.658508, 30.109058, 21.654226, 20.806683, -41.817558, 51.337715, -26.779167, 36.327133, 15.80634, 2.081214, 52.170364, 27.808683, -14.473042, -45.011475, -41.160488, 20.564209, -8.82488, -7.725076, -0.292129, 18.653316, -29.836679, -3.665384, 7.778572, 5.479053, -27.279657, 10.573059, -40.713985, -3.382775, 51.101261, -32.965115, 12.241995, 21.890278, 21.320499, 49.527348, -2.363759, -32.848312, -24.513891, -0.495834, -17.071436, 23.539427, 8.200619, 9.962008, -27.33597, -8.786916, -26.86062, -21.14637, -31.937542, 26.170555, -5.308558, 38.129677, 27.493469, -46.634968, 57.124565, 4.500323, 8.099847, -2.411154, 48.081291, -32.133942, -48.968342, 17.777393, 12.589666, 44.641937, 34.45335, -32.244797, 43.324303, 47.641342, -25.82793, 55.526199, 49.047283, 14.026384, 38.743633, -28.50565, -24.739824, 30.384148, 4.347824, -9.431539, -13.680611, 1.471397, 11.424002, 5.001816, -44.39225, 16.546553, -6.582133, 1.379102, -11.890263, -34.261162, -33.118885, 34.046989, -7.188892, 24.822407, 4.708672, -5.898302, -3.027191, -16.652994, 20.621655, 21.055197, 19.761475, -14.215109, -23.907286, -38.240879, 22.090971, 58.741882, 58.940788, -20.540812, -31.615498, -2.470941, -4.597732, 10.730723, 37.630032, 24.252411, 26.334368, -39.735039, -4.658379, -16.545671, 9.002873, 4.736088, -40.946129, -51.320927, -33.619209, 7.034505, 35.842567, -16.250057, -36.752487, 46.645462, 1.92106, 5.361572, 12.802777, 9.438893, -13.464018, 6.677281, -13.135354, -42.892807, -45.594929, -43.482738, -13.989355, -44.162064, -13.293849, -45.448677, 31.566803, 58.110771, 31.348537, -28.641228, -41.69939, -22.060572, 13.937124, -33.013721, -12.324912, -41.425407, -21.706285, -30.642418, -24.422781, 1.539855, 4.213464, 22.764481, -8.414575, -2.700884, 19.663521, -25.289604, -8.497253, -28.641289, 22.560135, 0.947224, -10.23887, -29.298014, -34.762035, -11.795913, -8.21615, -3.662104, 11.92602, -0.613203, -26.953545, -24.049818, 47.102966, 16.990402, -34.162201, 13.6099, 15.737093, -35.873077, 4.711365, 0.430049, 21.994934, 12.086463, -32.601177, -37.450275, -36.127232, -16.955484, -38.101227, -38.414566, -16.371372, 53.066822, 1.223848, -9.647438, -25.253679, -19.876488, -13.610353, -16.220352, -32.892445, -27.406458, -19.26441, 48.961845, 0.406248, 21.961546, 20.845718, 22.205889, 38.917686, 26.023647, 20.903168, 37.698334, -6.063436, -30.764299, 20.489733, 39.364395, -5.281759, -29.403208, 9.492822, -48.257599, 47.194447, -10.052742, -10.891839, -44.726208, 41.111698, 5.682498, -9.034882, 19.02248, -30.744944, 18.161697, 40.69516, 4.546386, 23.892202, -18.58886, -13.157566, 19.66256, -29.88829, -50.305939, 50.422516, 9.685826, -26.899174, -6.994757, 23.828934, 12.661059, -18.99106, 57.720772, -20.231003, 26.885628, -33.914497, -43.043438, 13.091693, -47.877132, -1.952968, 30.401863, -35.149979, 5.821362, 46.802773, -10.548671, 49.191151, 6.683981, 49.456028, -35.688633, -3.576275, -1.82253, -0.987434, -46.870579, -1.944218, -6.749741, 27.69426, 4.157479, -19.812447, 12.790824, -21.105593, -27.449718, -3.574732, -2.997615, 12.012734, -50.410156, 23.869215, -24.730171, 45.217323, 22.986073, -0.455848, 52.58672, -15.177634, -15.3533, -27.541475, -1.586621, -24.890602, -3.282301, -27.967749, 8.09684, -14.168637, -5.274433, -33.300777, 23.663403, -4.03281, 31.124985, 39.906891, -44.269402, 19.834499, -13.458206, -33.188885, 12.631497, -20.77788, 46.264229, -17.78174, 8.008492, -2.990433, -36.926331, -13.34083, 33.025002, 25.452948, 23.623098, 39.700127, -50.034046, 17.028221, 5.001963, 44.937614, 14.376849, 41.355831, 17.983507, 18.208857, -15.558807, -0.416415, 1.223848, -16.878195, -45.64838, -38.417587, -41.289726, 7.030501, 47.72963, 25.275892, -9.718637, -37.880863, 28.368677, -5.361598, 2.486093, 41.367027, 55.876091, 27.273012, 10.967995, 30.808714, -50.034092, 40.397594, -9.667277, -8.418093, -9.315418, 24.110189, 3.969769, -1.055773, -13.051405, 26.901646, -27.760588, 33.547482, 56.079453, 25.824213, 19.886513, 27.757702, 43.549248, 6.073707, 22.396851, -17.541725, -7.376545, -12.389943, -1.549332, -14.745765, -6.334688, 23.338554, 11.254952, 2.717568, -20.580217, -35.124634, 41.958076, 37.886578, 4.85375, 2.324772, -25.188908, -35.77158, -5.503942, 4.896167, -36.319656, -18.018507, -2.164943, 46.246178, -22.426229, -35.963848, 1.481476, -4.281398, -22.718899, -29.11204, 45.609585, -29.980164, -42.779068, 42.769684, -0.432409, -8.680326, 1.55404, 52.381966, 37.238804, 22.96896, 22.008379, -10.334065, 3.912253, -14.299553, -0.072881, 31.017698, -30.820086, -43.385681, -53.184319, -47.208744, 9.063819, -15.549275, 0.454015, -14.821899, 11.100406, 5.731036, 9.372917, 11.472522, -27.158604, 13.663893, 12.570696, -24.448782, -28.046333, 0.260442, 57.007492, -5.712843, -36.739044, -15.224423, -12.068292, -10.602598, 27.074932, 29.01742, 7.104968, -13.261982, 44.756668, 51.201035, -28.766609, -27.708969, -10.574018, 50.275982, -34.185383, 3.598079, 25.360126, -37.957306, -34.236374, 19.319519, -3.057473, 14.813693, 49.46582, 18.249998, 25.269896, 19.377947, -29.52356, -40.151516, 9.164273, 4.102979, -24.043758, 31.23712, 17.642498, -0.872529, -4.602623, 27.218689, -8.78985, 39.767193, -21.877762, -47.87899, -37.54673, -29.120083, -14.475372, -0.004794, -35.91898, -23.08312, 6.852626, 35.882191, -0.168823, 22.835279, -15.104274, 52.446186, 47.507626, -6.825429, -26.439701, 7.635561, 52.565525, -23.834906, -32.685688, -6.663584, -10.03685, 35.745975, 0.85517, 49.845108, -19.014376, 24.712828, 29.476091, 18.695114, -26.441965, 41.305283, -39.428501, -7.234906, 30.624105, -44.358234, 0.333729, -13.518888, -19.619677, -19.124163, -33.452808, -2.57906, -6.179225, -2.668126, -26.061029, -19.889597, -14.237977, 3.322912, 28.159594, 59.142723, -15.060117, -51.548298, 15.481379, -30.914579, 31.339615, -36.011383, -47.047794, -0.944234, -25.461449, 7.376887, -35.497242, -28.083693, 51.492458, 56.211903, -19.447609, -38.260735, 36.081764, -0.282329, 24.203236, -33.593636, -22.260962, -22.632641, 3.087907, -20.622337, -12.302964, -22.894066, 14.871465, 39.250057, -11.710607, 47.408443, 16.713085, -31.145792, -6.058381, 7.491064, -29.402824, 10.573037, -2.970499, 33.889233, -42.538231, 19.784168, -19.839931, 44.198814, 24.311239, 16.67391, 27.179537, -5.360312, -19.108534, -36.632713, 22.240536, 3.611321, -8.98922, 40.153763, -39.627033, -15.50828, -28.549603, -39.392319, 41.169773, -36.114635, 1.866009, -19.095119, 54.618214, 20.91077, -4.288624, 30.016186, 23.935385, 23.300041, -7.884977, -25.306026, -3.66556, -4.733416, -2.209263, -27.658533, 34.959141, 12.013209, -18.649803, 52.533367, -38.19146, -4.214845, 24.823074, -47.058388, 41.653828, 56.229485, -7.506148, -40.444252, -30.880091, -24.722973, 0.952265, 1.19855, -26.666759, -28.507772, -34.195599, 43.155121, 22.603008, -10.319864, -9.616452, 9.45563, 5.185269, 47.925991, -30.662952, -17.429886, 7.358554, 6.741741, -19.619881, 51.106987, -23.19969, -22.370384, 10.777079, 44.256744, 9.690637, 20.042522, 14.280513, 32.46767, 28.402916, -12.336206, -8.013229, 8.208659, 25.427872, 0.204018, 15.913598, 8.501966, -29.626245, 1.754996, 33.54348, 21.294964, -8.625874, -25.540136, 18.743925, -0.737761, 30.75, -1.75654, -46.865452, 27.862499, -1.820761, -8.755217, -37.232529, -19.865593, 46.056717, -21.603817, 8.224385, -25.99192, 25.911188, -37.711758, -10.94876, -26.436842, -0.490494, -21.224365, 8.251545, -23.091066, -24.403481, -26.037037, 23.282808, 21.245811, 19.777193, 5.842654, 53.489964, 34.868919, 25.284401, -2.850457, 25.549881, -18.745085, -22.419378, -47.965912, 41.64106, 25.00177, 50.81805, -24.452326, 0.638766, -16.70108, -31.615583, -24.994539, 34.382286, -40.31741, 51.794254, -32.009186, 4.644476, -41.018631, -8.974922, 37.416504, 17.146732, 47.150314, -38.212856, -42.534992, -21.802555, -7.291582, 10.403893, 7.817647, -3.147906, 43.015759, -17.781801, 10.572289, -28.833975, 54.236607, -29.239351, 7.803993, 34.923153, 51.113247, 22.408907, 1.843041, 23.748569, -21.888941, -33.082314, -4.597585, 22.224337, 30.511929], \"yaxis\": \"y\"}],\n",
       "                        {\"coloraxis\": {\"colorbar\": {\"title\": {\"text\": \"kmeans_cluster\"}}, \"colorscale\": [[0.0, \"#0d0887\"], [0.1111111111111111, \"#46039f\"], [0.2222222222222222, \"#7201a8\"], [0.3333333333333333, \"#9c179e\"], [0.4444444444444444, \"#bd3786\"], [0.5555555555555556, \"#d8576b\"], [0.6666666666666666, \"#ed7953\"], [0.7777777777777778, \"#fb9f3a\"], [0.8888888888888888, \"#fdca26\"], [1.0, \"#f0f921\"]]}, \"legend\": {\"tracegroupgap\": 0}, \"margin\": {\"t\": 60}, \"template\": {\"data\": {\"bar\": [{\"error_x\": {\"color\": \"#2a3f5f\"}, \"error_y\": {\"color\": \"#2a3f5f\"}, \"marker\": {\"line\": {\"color\": \"#E5ECF6\", \"width\": 0.5}}, \"type\": \"bar\"}], \"barpolar\": [{\"marker\": {\"line\": {\"color\": \"#E5ECF6\", \"width\": 0.5}}, \"type\": \"barpolar\"}], \"carpet\": [{\"aaxis\": {\"endlinecolor\": \"#2a3f5f\", \"gridcolor\": \"white\", \"linecolor\": \"white\", \"minorgridcolor\": \"white\", \"startlinecolor\": \"#2a3f5f\"}, \"baxis\": {\"endlinecolor\": \"#2a3f5f\", \"gridcolor\": \"white\", \"linecolor\": \"white\", \"minorgridcolor\": \"white\", \"startlinecolor\": \"#2a3f5f\"}, \"type\": \"carpet\"}], \"choropleth\": [{\"colorbar\": {\"outlinewidth\": 0, \"ticks\": \"\"}, \"type\": \"choropleth\"}], \"contour\": [{\"colorbar\": {\"outlinewidth\": 0, \"ticks\": \"\"}, \"colorscale\": [[0.0, \"#0d0887\"], [0.1111111111111111, \"#46039f\"], [0.2222222222222222, \"#7201a8\"], [0.3333333333333333, \"#9c179e\"], [0.4444444444444444, \"#bd3786\"], [0.5555555555555556, \"#d8576b\"], [0.6666666666666666, \"#ed7953\"], [0.7777777777777778, \"#fb9f3a\"], [0.8888888888888888, \"#fdca26\"], [1.0, \"#f0f921\"]], \"type\": \"contour\"}], \"contourcarpet\": [{\"colorbar\": {\"outlinewidth\": 0, \"ticks\": \"\"}, \"type\": \"contourcarpet\"}], \"heatmap\": [{\"colorbar\": {\"outlinewidth\": 0, \"ticks\": \"\"}, \"colorscale\": [[0.0, \"#0d0887\"], [0.1111111111111111, \"#46039f\"], [0.2222222222222222, \"#7201a8\"], [0.3333333333333333, \"#9c179e\"], [0.4444444444444444, \"#bd3786\"], [0.5555555555555556, \"#d8576b\"], [0.6666666666666666, \"#ed7953\"], [0.7777777777777778, \"#fb9f3a\"], [0.8888888888888888, \"#fdca26\"], [1.0, \"#f0f921\"]], \"type\": \"heatmap\"}], \"heatmapgl\": [{\"colorbar\": {\"outlinewidth\": 0, \"ticks\": \"\"}, \"colorscale\": [[0.0, \"#0d0887\"], [0.1111111111111111, \"#46039f\"], [0.2222222222222222, \"#7201a8\"], [0.3333333333333333, \"#9c179e\"], [0.4444444444444444, \"#bd3786\"], [0.5555555555555556, \"#d8576b\"], [0.6666666666666666, \"#ed7953\"], [0.7777777777777778, \"#fb9f3a\"], [0.8888888888888888, \"#fdca26\"], [1.0, \"#f0f921\"]], \"type\": \"heatmapgl\"}], \"histogram\": [{\"marker\": {\"colorbar\": {\"outlinewidth\": 0, \"ticks\": \"\"}}, \"type\": \"histogram\"}], \"histogram2d\": [{\"colorbar\": {\"outlinewidth\": 0, \"ticks\": \"\"}, \"colorscale\": [[0.0, \"#0d0887\"], [0.1111111111111111, \"#46039f\"], [0.2222222222222222, \"#7201a8\"], [0.3333333333333333, \"#9c179e\"], [0.4444444444444444, \"#bd3786\"], [0.5555555555555556, \"#d8576b\"], [0.6666666666666666, \"#ed7953\"], [0.7777777777777778, \"#fb9f3a\"], [0.8888888888888888, \"#fdca26\"], [1.0, \"#f0f921\"]], \"type\": \"histogram2d\"}], \"histogram2dcontour\": [{\"colorbar\": {\"outlinewidth\": 0, \"ticks\": \"\"}, \"colorscale\": [[0.0, \"#0d0887\"], [0.1111111111111111, \"#46039f\"], [0.2222222222222222, \"#7201a8\"], [0.3333333333333333, \"#9c179e\"], [0.4444444444444444, \"#bd3786\"], [0.5555555555555556, \"#d8576b\"], [0.6666666666666666, \"#ed7953\"], [0.7777777777777778, \"#fb9f3a\"], [0.8888888888888888, \"#fdca26\"], [1.0, \"#f0f921\"]], \"type\": \"histogram2dcontour\"}], \"mesh3d\": [{\"colorbar\": {\"outlinewidth\": 0, \"ticks\": \"\"}, \"type\": \"mesh3d\"}], \"parcoords\": [{\"line\": {\"colorbar\": {\"outlinewidth\": 0, \"ticks\": \"\"}}, \"type\": \"parcoords\"}], \"pie\": [{\"automargin\": true, \"type\": \"pie\"}], \"scatter\": [{\"marker\": {\"colorbar\": {\"outlinewidth\": 0, \"ticks\": \"\"}}, \"type\": \"scatter\"}], \"scatter3d\": [{\"line\": {\"colorbar\": {\"outlinewidth\": 0, \"ticks\": \"\"}}, \"marker\": {\"colorbar\": {\"outlinewidth\": 0, \"ticks\": \"\"}}, \"type\": \"scatter3d\"}], \"scattercarpet\": [{\"marker\": {\"colorbar\": {\"outlinewidth\": 0, \"ticks\": \"\"}}, \"type\": \"scattercarpet\"}], \"scattergeo\": [{\"marker\": {\"colorbar\": {\"outlinewidth\": 0, \"ticks\": \"\"}}, \"type\": \"scattergeo\"}], \"scattergl\": [{\"marker\": {\"colorbar\": {\"outlinewidth\": 0, \"ticks\": \"\"}}, \"type\": \"scattergl\"}], \"scattermapbox\": [{\"marker\": {\"colorbar\": {\"outlinewidth\": 0, \"ticks\": \"\"}}, \"type\": \"scattermapbox\"}], \"scatterpolar\": [{\"marker\": {\"colorbar\": {\"outlinewidth\": 0, \"ticks\": \"\"}}, \"type\": \"scatterpolar\"}], \"scatterpolargl\": [{\"marker\": {\"colorbar\": {\"outlinewidth\": 0, \"ticks\": \"\"}}, \"type\": \"scatterpolargl\"}], \"scatterternary\": [{\"marker\": {\"colorbar\": {\"outlinewidth\": 0, \"ticks\": \"\"}}, \"type\": \"scatterternary\"}], \"surface\": [{\"colorbar\": {\"outlinewidth\": 0, \"ticks\": \"\"}, \"colorscale\": [[0.0, \"#0d0887\"], [0.1111111111111111, \"#46039f\"], [0.2222222222222222, \"#7201a8\"], [0.3333333333333333, \"#9c179e\"], [0.4444444444444444, \"#bd3786\"], [0.5555555555555556, \"#d8576b\"], [0.6666666666666666, \"#ed7953\"], [0.7777777777777778, \"#fb9f3a\"], [0.8888888888888888, \"#fdca26\"], [1.0, \"#f0f921\"]], \"type\": \"surface\"}], \"table\": [{\"cells\": {\"fill\": {\"color\": \"#EBF0F8\"}, \"line\": {\"color\": \"white\"}}, \"header\": {\"fill\": {\"color\": \"#C8D4E3\"}, \"line\": {\"color\": \"white\"}}, \"type\": \"table\"}]}, \"layout\": {\"annotationdefaults\": {\"arrowcolor\": \"#2a3f5f\", \"arrowhead\": 0, \"arrowwidth\": 1}, \"coloraxis\": {\"colorbar\": {\"outlinewidth\": 0, \"ticks\": \"\"}}, \"colorscale\": {\"diverging\": [[0, \"#8e0152\"], [0.1, \"#c51b7d\"], [0.2, \"#de77ae\"], [0.3, \"#f1b6da\"], [0.4, \"#fde0ef\"], [0.5, \"#f7f7f7\"], [0.6, \"#e6f5d0\"], [0.7, \"#b8e186\"], [0.8, \"#7fbc41\"], [0.9, \"#4d9221\"], [1, \"#276419\"]], \"sequential\": [[0.0, \"#0d0887\"], [0.1111111111111111, \"#46039f\"], [0.2222222222222222, \"#7201a8\"], [0.3333333333333333, \"#9c179e\"], [0.4444444444444444, \"#bd3786\"], [0.5555555555555556, \"#d8576b\"], [0.6666666666666666, \"#ed7953\"], [0.7777777777777778, \"#fb9f3a\"], [0.8888888888888888, \"#fdca26\"], [1.0, \"#f0f921\"]], \"sequentialminus\": [[0.0, \"#0d0887\"], [0.1111111111111111, \"#46039f\"], [0.2222222222222222, \"#7201a8\"], [0.3333333333333333, \"#9c179e\"], [0.4444444444444444, \"#bd3786\"], [0.5555555555555556, \"#d8576b\"], [0.6666666666666666, \"#ed7953\"], [0.7777777777777778, \"#fb9f3a\"], [0.8888888888888888, \"#fdca26\"], [1.0, \"#f0f921\"]]}, \"colorway\": [\"#636efa\", \"#EF553B\", \"#00cc96\", \"#ab63fa\", \"#FFA15A\", \"#19d3f3\", \"#FF6692\", \"#B6E880\", \"#FF97FF\", \"#FECB52\"], \"font\": {\"color\": \"#2a3f5f\"}, \"geo\": {\"bgcolor\": \"white\", \"lakecolor\": \"white\", \"landcolor\": \"#E5ECF6\", \"showlakes\": true, \"showland\": true, \"subunitcolor\": \"white\"}, \"hoverlabel\": {\"align\": \"left\"}, \"hovermode\": \"closest\", \"mapbox\": {\"style\": \"light\"}, \"paper_bgcolor\": \"white\", \"plot_bgcolor\": \"#E5ECF6\", \"polar\": {\"angularaxis\": {\"gridcolor\": \"white\", \"linecolor\": \"white\", \"ticks\": \"\"}, \"bgcolor\": \"#E5ECF6\", \"radialaxis\": {\"gridcolor\": \"white\", \"linecolor\": \"white\", \"ticks\": \"\"}}, \"scene\": {\"xaxis\": {\"backgroundcolor\": \"#E5ECF6\", \"gridcolor\": \"white\", \"gridwidth\": 2, \"linecolor\": \"white\", \"showbackground\": true, \"ticks\": \"\", \"zerolinecolor\": \"white\"}, \"yaxis\": {\"backgroundcolor\": \"#E5ECF6\", \"gridcolor\": \"white\", \"gridwidth\": 2, \"linecolor\": \"white\", \"showbackground\": true, \"ticks\": \"\", \"zerolinecolor\": \"white\"}, \"zaxis\": {\"backgroundcolor\": \"#E5ECF6\", \"gridcolor\": \"white\", \"gridwidth\": 2, \"linecolor\": \"white\", \"showbackground\": true, \"ticks\": \"\", \"zerolinecolor\": \"white\"}}, \"shapedefaults\": {\"line\": {\"color\": \"#2a3f5f\"}}, \"ternary\": {\"aaxis\": {\"gridcolor\": \"white\", \"linecolor\": \"white\", \"ticks\": \"\"}, \"baxis\": {\"gridcolor\": \"white\", \"linecolor\": \"white\", \"ticks\": \"\"}, \"bgcolor\": \"#E5ECF6\", \"caxis\": {\"gridcolor\": \"white\", \"linecolor\": \"white\", \"ticks\": \"\"}}, \"title\": {\"x\": 0.05}, \"xaxis\": {\"automargin\": true, \"gridcolor\": \"white\", \"linecolor\": \"white\", \"ticks\": \"\", \"title\": {\"standoff\": 15}, \"zerolinecolor\": \"white\", \"zerolinewidth\": 2}, \"yaxis\": {\"automargin\": true, \"gridcolor\": \"white\", \"linecolor\": \"white\", \"ticks\": \"\", \"title\": {\"standoff\": 15}, \"zerolinecolor\": \"white\", \"zerolinewidth\": 2}}}, \"updatemenus\": [{\"buttons\": [{\"args\": [\"shapes\", []], \"label\": \"None\", \"method\": \"relayout\"}, {\"args\": [\"shapes\", [{\"line\": {\"color\": \"#0d0887\"}, \"type\": \"circle\", \"x0\": -31.453455, \"x1\": -1.71924, \"xref\": \"x\", \"y0\": -37.450336, \"y1\": -0.160341, \"yref\": \"y\"}]], \"label\": \"Cluster 0\", \"method\": \"relayout\"}, {\"args\": [\"shapes\", [{\"line\": {\"color\": \"#46039f\"}, \"type\": \"circle\", \"x0\": -15.999349, \"x1\": 24.972286, \"xref\": \"x\", \"y0\": 22.517649, \"y1\": 61.512733, \"yref\": \"y\"}]], \"label\": \"Cluster 1\", \"method\": \"relayout\"}, {\"args\": [\"shapes\", [{\"line\": {\"color\": \"#7201a8\"}, \"type\": \"circle\", \"x0\": 1.377169, \"x1\": 33.717506, \"xref\": \"x\", \"y0\": -19.812447, \"y1\": 26.170555, \"yref\": \"y\"}]], \"label\": \"Cluster 2\", \"method\": \"relayout\"}, {\"args\": [\"shapes\", [{\"line\": {\"color\": \"#9c179e\"}, \"type\": \"circle\", \"x0\": -23.500849, \"x1\": 10.10007, \"xref\": \"x\", \"y0\": -10.548671, \"y1\": 26.167976, \"yref\": \"y\"}]], \"label\": \"Cluster 3\", \"method\": \"relayout\"}, {\"args\": [\"shapes\", [{\"line\": {\"color\": \"#bd3786\"}, \"type\": \"circle\", \"x0\": -47.88166, \"x1\": -28.940142, \"xref\": \"x\", \"y0\": 19.663521, \"y1\": 27.757702, \"yref\": \"y\"}]], \"label\": \"Cluster 4\", \"method\": \"relayout\"}, {\"args\": [\"shapes\", [{\"line\": {\"color\": \"#d8576b\"}, \"type\": \"circle\", \"x0\": -14.002975, \"x1\": 30.002184, \"xref\": \"x\", \"y0\": -53.184341, \"y1\": -14.588736, \"yref\": \"y\"}]], \"label\": \"Cluster 5\", \"method\": \"relayout\"}, {\"args\": [\"shapes\", [{\"line\": {\"color\": \"#0d0887\"}, \"type\": \"circle\", \"x0\": -31.453455, \"x1\": -1.71924, \"xref\": \"x\", \"y0\": -37.450336, \"y1\": -0.160341, \"yref\": \"y\"}, {\"line\": {\"color\": \"#46039f\"}, \"type\": \"circle\", \"x0\": -15.999349, \"x1\": 24.972286, \"xref\": \"x\", \"y0\": 22.517649, \"y1\": 61.512733, \"yref\": \"y\"}, {\"line\": {\"color\": \"#7201a8\"}, \"type\": \"circle\", \"x0\": 1.377169, \"x1\": 33.717506, \"xref\": \"x\", \"y0\": -19.812447, \"y1\": 26.170555, \"yref\": \"y\"}, {\"line\": {\"color\": \"#9c179e\"}, \"type\": \"circle\", \"x0\": -23.500849, \"x1\": 10.10007, \"xref\": \"x\", \"y0\": -10.548671, \"y1\": 26.167976, \"yref\": \"y\"}, {\"line\": {\"color\": \"#bd3786\"}, \"type\": \"circle\", \"x0\": -47.88166, \"x1\": -28.940142, \"xref\": \"x\", \"y0\": 19.663521, \"y1\": 27.757702, \"yref\": \"y\"}, {\"line\": {\"color\": \"#d8576b\"}, \"type\": \"circle\", \"x0\": -14.002975, \"x1\": 30.002184, \"xref\": \"x\", \"y0\": -53.184341, \"y1\": -14.588736, \"yref\": \"y\"}]], \"label\": \"All\", \"method\": \"relayout\"}]}], \"xaxis\": {\"anchor\": \"y\", \"domain\": [0.0, 1.0], \"title\": {\"text\": \"x\"}}, \"yaxis\": {\"anchor\": \"x\", \"domain\": [0.0, 1.0], \"title\": {\"text\": \"y\"}}},\n",
       "                        {\"responsive\": true}\n",
       "                    ).then(function(){\n",
       "                            \n",
       "var gd = document.getElementById('f86cdcbc-8bbf-4aa8-9ed5-201fe5ac391b');\n",
       "var x = new MutationObserver(function (mutations, observer) {{\n",
       "        var display = window.getComputedStyle(gd).display;\n",
       "        if (!display || display === 'none') {{\n",
       "            console.log([gd, 'removed!']);\n",
       "            Plotly.purge(gd);\n",
       "            observer.disconnect();\n",
       "        }}\n",
       "}});\n",
       "\n",
       "// Listen for the removal of the full notebook cells\n",
       "var notebookContainer = gd.closest('#notebook-container');\n",
       "if (notebookContainer) {{\n",
       "    x.observe(notebookContainer, {childList: true});\n",
       "}}\n",
       "\n",
       "// Listen for the clearing of the current output cell\n",
       "var outputEl = gd.closest('.output');\n",
       "if (outputEl) {{\n",
       "    x.observe(outputEl, {childList: true});\n",
       "}}\n",
       "\n",
       "                        })\n",
       "                };\n",
       "                });\n",
       "            </script>\n",
       "        </div>"
      ]
     },
     "metadata": {},
     "output_type": "display_data"
    }
   ],
   "source": [
    "import plotly.graph_objects as go\n",
    "import plotly.express as px\n",
    "import pandas as pd\n",
    "from intent_clustering import *\n",
    "\n",
    "number_of_clusters = 6\n",
    "\n",
    "# sentence_embedding(\"data/cluster_8.csv\", \"data/cluster_8/tsne_vectors.txt\")\n",
    "df = k_mean_clustering(number_of_clusters,\"data/cluster_8.csv\", \"data/cluster_8/tsne_vectors.txt\")\n",
    "\n",
    "\n",
    "cluster_methods = [\n",
    "    \"kmeans_cluster\",\n",
    "#     \"gm_cluster\",\n",
    "#     \"hc_cluster\",\n",
    "]\n",
    "menus_list = {}\n",
    "for cluster_method in cluster_methods:\n",
    "    buttons_list = [dict(label=\"None\",\n",
    "                         method=\"relayout\",\n",
    "                         args=[\"shapes\", []])]\n",
    "    menus = []\n",
    "    clusters = []\n",
    "    for i in range(number_of_clusters):\n",
    "        cluster_df = df[df[cluster_method] == i]\n",
    "        x = cluster_df['x']\n",
    "        y = cluster_df['y']\n",
    "        x_min = x.min()\n",
    "        y_min = y.min()\n",
    "        x_max = x.max()\n",
    "        y_max = y.max()\n",
    "        cluster = [dict(type=\"circle\",\n",
    "                                xref=\"x\", yref=\"y\",\n",
    "                                x0=x_min, y0=y_min,\n",
    "                                x1=x_max, y1=y_max,\n",
    "                                line=dict(color=px.colors.sequential.Plasma[i]))]\n",
    "        clusters.append(cluster)\n",
    "        button = dict(label=\"Cluster \" + str(i),\n",
    "                      method=\"relayout\",\n",
    "                      args=[\"shapes\", cluster])\n",
    "        buttons_list.append(button)\n",
    "\n",
    "    all_cluster = []\n",
    "    for item in clusters:\n",
    "        all_cluster.append(item[0])\n",
    "\n",
    "    buttons_list.append(dict(label=\"All\",\n",
    "                            method=\"relayout\",\n",
    "                            args=[\"shapes\", all_cluster]))\n",
    "    buttons_list = list(buttons_list)\n",
    "    menus = dict(buttons=buttons_list)\n",
    "    menus_list[cluster_method] = menus\n",
    "\n",
    "\n",
    "fig = px.scatter(\n",
    "    df,\n",
    "    x='x',\n",
    "    y='y',\n",
    "    color=\"kmeans_cluster\",\n",
    "    hover_data=[\"sentence\"],\n",
    "    )\n",
    "\n",
    "fig.update_layout(\n",
    "    updatemenus=[menus_list['kmeans_cluster']]\n",
    ")\n",
    "\n",
    "\n",
    "fig.show()\n"
   ]
  }
 ],
 "metadata": {
  "kernelspec": {
   "display_name": "Python 3",
   "language": "python",
   "name": "python3"
  },
  "language_info": {
   "codemirror_mode": {
    "name": "ipython",
    "version": 3
   },
   "file_extension": ".py",
   "mimetype": "text/x-python",
   "name": "python",
   "nbconvert_exporter": "python",
   "pygments_lexer": "ipython3",
   "version": "3.8.2"
  }
 },
 "nbformat": 4,
 "nbformat_minor": 4
}